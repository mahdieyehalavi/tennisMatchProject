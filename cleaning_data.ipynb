{
 "cells": [
  {
   "cell_type": "code",
   "execution_count": 1,
   "metadata": {},
   "outputs": [],
   "source": [
    "import numpy as np\n",
    "import pandas as pd"
   ]
  },
  {
   "cell_type": "code",
   "execution_count": 5,
   "metadata": {},
   "outputs": [
    {
     "name": "stdout",
     "output_type": "stream",
     "text": [
      "<class 'pandas.core.frame.DataFrame'>\n",
      "RangeIndex: 13412 entries, 0 to 13411\n",
      "Data columns (total 18 columns):\n",
      " #   Column         Non-Null Count  Dtype  \n",
      "---  ------         --------------  -----  \n",
      " 0   match_id       13412 non-null  int64  \n",
      " 1   name           13412 non-null  object \n",
      " 2   slug           13412 non-null  object \n",
      " 3   gender         13390 non-null  object \n",
      " 4   user_count     13412 non-null  int64  \n",
      " 5   residence      3718 non-null   object \n",
      " 6   birthplace     7461 non-null   object \n",
      " 7   height         7227 non-null   float64\n",
      " 8   weight         3616 non-null   float64\n",
      " 9   plays          6637 non-null   object \n",
      " 10  turned_pro     2656 non-null   float64\n",
      " 11  current_prize  13253 non-null  float64\n",
      " 12  total_prize    13352 non-null  float64\n",
      " 13  player_id      13412 non-null  int64  \n",
      " 14  current_rank   13174 non-null  float64\n",
      " 15  name_code      13412 non-null  object \n",
      " 16  country        13411 non-null  object \n",
      " 17  full_name      13412 non-null  object \n",
      "dtypes: float64(6), int64(3), object(9)\n",
      "memory usage: 1.8+ MB\n"
     ]
    }
   ],
   "source": [
    "df_match_away_team=pd.read_csv('MatchAwayTeamInfo.csv')\n",
    "df_match_away_team.info()"
   ]
  }
 ],
 "metadata": {
  "kernelspec": {
   "display_name": "myenv2",
   "language": "python",
   "name": "python3"
  },
  "language_info": {
   "codemirror_mode": {
    "name": "ipython",
    "version": 3
   },
   "file_extension": ".py",
   "mimetype": "text/x-python",
   "name": "python",
   "nbconvert_exporter": "python",
   "pygments_lexer": "ipython3",
   "version": "3.12.2"
  }
 },
 "nbformat": 4,
 "nbformat_minor": 2
}
