{
 "cells": [
  {
   "cell_type": "code",
   "execution_count": 125,
   "metadata": {},
   "outputs": [],
   "source": [
    "import numpy as np\n",
    "import pandas as pd\n",
    "import scipy.stats as stats\n",
    "from scipy.stats import mannwhitneyu\n",
    "from scipy.stats import ttest_ind\n",
    "import matplotlib.pyplot as plt\n",
    "import seaborn as sns\n",
    "from datetime import datetime\n",
    "pd.options.mode.chained_assignment = None"
   ]
  },
  {
   "cell_type": "markdown",
   "metadata": {},
   "source": [
    "Read the data and save it in a data frame type."
   ]
  },
  {
   "cell_type": "code",
   "execution_count": 126,
   "metadata": {},
   "outputs": [],
   "source": [
    "data_address='E:/data_analysis/data_science/mentoring-exercises/tennis match_test/data_tenniss_match/tables/'\n",
    "match_away_team_df=pd.read_csv(data_address+'MatchAwayTeamInfo.csv')\n",
    "match_home_team_df=pd.read_csv(data_address+'MatchHomeTeamInfo.csv')\n",
    "event_df = pd.read_csv(data_address+'MatchEventInfo.csv')\n",
    "match_time_df=pd.read_csv(data_address+'MatchTimeInfo.csv')\n",
    "period_df=pd.read_csv(data_address+'PeriodInfo.csv')\n",
    "tournament_df=pd.read_csv(data_address+'MatchTournamentInfo.csv')\n",
    "power_df = pd.read_csv(data_address+'PowerInfo.csv')\n",
    "home_score_df= pd.read_csv(data_address+ 'MatchHomeScoreInfo.csv')\n",
    "away_score_df= pd.read_csv(data_address+ 'MatchAwayScoreInfo.csv')\n",
    "game_df=pd.read_csv(data_address+'GameInfo.csv')\n"
   ]
  },
  {
   "cell_type": "markdown",
   "metadata": {},
   "source": [
    "Some of rows of each tables are duplicates ,so for cleaning data we use drop_duplicates()."
   ]
  },
  {
   "cell_type": "code",
   "execution_count": 127,
   "metadata": {},
   "outputs": [],
   "source": [
    "match_away_team_df.drop_duplicates(inplace=True)\n",
    "match_home_team_df.drop_duplicates(inplace=True)\n",
    "event_df.drop_duplicates(inplace=True)\n",
    "match_time_df.drop_duplicates(inplace=True)\n",
    "period_df.drop_duplicates(inplace=True)\n",
    "tournament_df.drop_duplicates(inplace=True)\n",
    "power_df.drop_duplicates(inplace=True)\n",
    "game_df.drop_duplicates(inplace=True)\n"
   ]
  },
  {
   "cell_type": "markdown",
   "metadata": {},
   "source": [
    "1.How many tennis players are included in the dataset?\n",
    " "
   ]
  },
  {
   "cell_type": "markdown",
   "metadata": {},
   "source": [
    "We first concat two dfs based on their 'player_id', home and away teams informations. and count number of players by 'unique' function."
   ]
  },
  {
   "cell_type": "code",
   "execution_count": 128,
   "metadata": {},
   "outputs": [
    {
     "name": "stdout",
     "output_type": "stream",
     "text": [
      "Total number of players: 2352\n"
     ]
    }
   ],
   "source": [
    "all_player_ids = pd.concat([match_away_team_df['player_id'], match_home_team_df['player_id']])\n",
    "num_players = len(all_player_ids.unique())\n",
    "print(\"Total number of players:\",num_players)\n"
   ]
  },
  {
   "cell_type": "markdown",
   "metadata": {},
   "source": [
    "2. What is the average height of the players?"
   ]
  },
  {
   "cell_type": "markdown",
   "metadata": {},
   "source": [
    "At first,concatnate the coulmns 'height'and'player_id' of match_away_team_df and match_home_team_df tables to have a dataframe contain player_id and 'heit for each player in away _team and home_team ,we have duplicte player _id ,so we dop them,and some 'heigh'_value =0 that are replaced with null and then we drup 'nul' items."
   ]
  },
  {
   "cell_type": "code",
   "execution_count": 129,
   "metadata": {},
   "outputs": [],
   "source": [
    "height_player=pd.concat([match_away_team_df[['height','player_id']],match_home_team_df[['height','player_id']]])\n",
    "height_player.drop_duplicates(inplace=True)\n",
    "height_player.replace('0', pd.NA, inplace=True)\n",
    "height_player.dropna(inplace=True)"
   ]
  },
  {
   "cell_type": "markdown",
   "metadata": {},
   "source": [
    "With calculate value_counts() for 'player_id',we understand the height of some players has been recorded more than once."
   ]
  },
  {
   "cell_type": "code",
   "execution_count": 130,
   "metadata": {},
   "outputs": [],
   "source": [
    "player_id_value_count=height_player['player_id'].value_counts()"
   ]
  },
  {
   "cell_type": "markdown",
   "metadata": {},
   "source": [
    "So we use the loop to drop extra rows"
   ]
  },
  {
   "cell_type": "code",
   "execution_count": 131,
   "metadata": {},
   "outputs": [
    {
     "data": {
      "text/html": [
       "<div>\n",
       "<style scoped>\n",
       "    .dataframe tbody tr th:only-of-type {\n",
       "        vertical-align: middle;\n",
       "    }\n",
       "\n",
       "    .dataframe tbody tr th {\n",
       "        vertical-align: top;\n",
       "    }\n",
       "\n",
       "    .dataframe thead th {\n",
       "        text-align: right;\n",
       "    }\n",
       "</style>\n",
       "<table border=\"1\" class=\"dataframe\">\n",
       "  <thead>\n",
       "    <tr style=\"text-align: right;\">\n",
       "      <th></th>\n",
       "      <th>height</th>\n",
       "      <th>player_id</th>\n",
       "    </tr>\n",
       "  </thead>\n",
       "  <tbody>\n",
       "    <tr>\n",
       "      <th>0</th>\n",
       "      <td>1.85</td>\n",
       "      <td>254742</td>\n",
       "    </tr>\n",
       "    <tr>\n",
       "      <th>1</th>\n",
       "      <td>1.98</td>\n",
       "      <td>90080</td>\n",
       "    </tr>\n",
       "    <tr>\n",
       "      <th>2</th>\n",
       "      <td>1.83</td>\n",
       "      <td>275923</td>\n",
       "    </tr>\n",
       "    <tr>\n",
       "      <th>4</th>\n",
       "      <td>1.98</td>\n",
       "      <td>57163</td>\n",
       "    </tr>\n",
       "    <tr>\n",
       "      <th>5</th>\n",
       "      <td>1.85</td>\n",
       "      <td>221012</td>\n",
       "    </tr>\n",
       "    <tr>\n",
       "      <th>...</th>\n",
       "      <td>...</td>\n",
       "      <td>...</td>\n",
       "    </tr>\n",
       "    <tr>\n",
       "      <th>13146</th>\n",
       "      <td>1.85</td>\n",
       "      <td>183823</td>\n",
       "    </tr>\n",
       "    <tr>\n",
       "      <th>13204</th>\n",
       "      <td>1.78</td>\n",
       "      <td>155684</td>\n",
       "    </tr>\n",
       "    <tr>\n",
       "      <th>13622</th>\n",
       "      <td>1.80</td>\n",
       "      <td>290624</td>\n",
       "    </tr>\n",
       "    <tr>\n",
       "      <th>13755</th>\n",
       "      <td>1.85</td>\n",
       "      <td>319992</td>\n",
       "    </tr>\n",
       "    <tr>\n",
       "      <th>13758</th>\n",
       "      <td>1.80</td>\n",
       "      <td>412818</td>\n",
       "    </tr>\n",
       "  </tbody>\n",
       "</table>\n",
       "<p>1201 rows × 2 columns</p>\n",
       "</div>"
      ],
      "text/plain": [
       "       height  player_id\n",
       "0        1.85     254742\n",
       "1        1.98      90080\n",
       "2        1.83     275923\n",
       "4        1.98      57163\n",
       "5        1.85     221012\n",
       "...       ...        ...\n",
       "13146    1.85     183823\n",
       "13204    1.78     155684\n",
       "13622    1.80     290624\n",
       "13755    1.85     319992\n",
       "13758    1.80     412818\n",
       "\n",
       "[1201 rows x 2 columns]"
      ]
     },
     "execution_count": 131,
     "metadata": {},
     "output_type": "execute_result"
    }
   ],
   "source": [
    "\n",
    "for id in height_player['player_id']:\n",
    "    if player_id_value_count[id]>1:\n",
    "        height_player = height_player.drop(height_player[height_player['player_id'].eq(id)].index)\n",
    "height_player"
   ]
  },
  {
   "cell_type": "markdown",
   "metadata": {},
   "source": [
    "Then calculate the mean of 'height'"
   ]
  },
  {
   "cell_type": "code",
   "execution_count": 132,
   "metadata": {},
   "outputs": [
    {
     "name": "stdout",
     "output_type": "stream",
     "text": [
      "Average height of players: 1.8200083263946711\n"
     ]
    }
   ],
   "source": [
    "height_player_mean=height_player['height'].mean()\n",
    "print(\"Average height of players:\",height_player_mean)"
   ]
  },
  {
   "cell_type": "markdown",
   "metadata": {},
   "source": [
    "According to the given information, the average height of the players in this series of matches is 1.82"
   ]
  },
  {
   "cell_type": "markdown",
   "metadata": {},
   "source": [
    "3. Which player has the highest number of wins?"
   ]
  },
  {
   "cell_type": "markdown",
   "metadata": {},
   "source": [
    "We use 'game_df' that contains the points for each match seperated by games and sets. We sum all points per each match for away and home teams. Then if any of sum of points for home or away team is greater we consdier it as winner. "
   ]
  },
  {
   "cell_type": "code",
   "execution_count": 133,
   "metadata": {},
   "outputs": [],
   "source": [
    "point_count=game_df[['match_id','set_id','game_id','point_id','home_point','away_point']]\n",
    "\n",
    "point_count.replace('A', '45' , inplace=True)\n",
    "point_count['home_point'] = point_count['home_point'].astype(int)\n",
    "point_count['away_point'] = point_count['away_point'].astype(int)\n",
    "\n",
    "match_point_winner=point_count.groupby('match_id')[['home_point', 'away_point']].sum()\n",
    "match_point_winner\n",
    "match_point_winner['winner_code'] = 0\n",
    "match_point_winner.loc[match_point_winner['home_point'] > match_point_winner['away_point'], 'winner_code'] = 1\n",
    "match_point_winner.loc[match_point_winner['home_point'] < match_point_winner['away_point'], 'winner_code'] = 2\n",
    "match_winner=match_point_winner.iloc[:,[2]]\n",
    "match_point_winner.drop_duplicates(inplace=True)\n"
   ]
  },
  {
   "cell_type": "markdown",
   "metadata": {},
   "source": [
    "We then use tha name of players take participate in each match. Evergy match has two players. We use this dataframe and the above df to have a tables containing match_id, home_points, away_points, winner_code and the player name that wins the match. The 'value_count' method is used to count the number of repeated player's names. Then using 'idxmax' get the name."
   ]
  },
  {
   "cell_type": "code",
   "execution_count": 134,
   "metadata": {},
   "outputs": [
    {
     "name": "stdout",
     "output_type": "stream",
     "text": [
      "The player with the most winnings in matches is:  Uchijima M.\n",
      "The number of winnings for the player is:  15\n",
      "winner_name\n",
      "Uchijima M.          15\n",
      "Sherif M.            13\n",
      "Urhobo A.            12\n",
      "Sun F.               12\n",
      "Wiskandt M.          12\n",
      "                     ..\n",
      "Militi Ribaldi A.     1\n",
      "Shimabukuro S.        1\n",
      "Di Natale G.          1\n",
      "Puskar S.             1\n",
      "Zaar L.               1\n",
      "Name: count, Length: 1615, dtype: int64\n"
     ]
    }
   ],
   "source": [
    "home_away_merged = pd.merge(match_home_team_df, match_away_team_df, on='match_id', how='inner', suffixes=('_player1', '_player2'))\n",
    "match_players=home_away_merged[['match_id','name_player1', 'name_player2']]\n",
    "match_players.drop_duplicates(inplace=True)\n",
    "match_player_winner = pd.merge(match_players,match_point_winner, on='match_id', how='inner')\n",
    "match_player_winner['winner_name'] =match_player_winner.apply(lambda row: row['name_player1'] if row['winner_code'] == 1.0 else row['name_player2'], axis=1)\n",
    "match_player_winner\n",
    "\n",
    "winner_player=match_player_winner['winner_name'].value_counts()\n",
    "print(f\"The player with the most winnings in matches is: \", winner_player.idxmax())\n",
    "print(f\"The number of winnings for the player is: \", winner_player.max())\n",
    "print (winner_player)"
   ]
  },
  {
   "cell_type": "markdown",
   "metadata": {},
   "source": [
    "4. What is the longest match recorded in terms of duration?"
   ]
  },
  {
   "cell_type": "markdown",
   "metadata": {},
   "source": [
    "We use match_time_df that has the time information of matches. We first fill the 'Nan' values and remove the duplicated records."
   ]
  },
  {
   "cell_type": "code",
   "execution_count": 135,
   "metadata": {},
   "outputs": [],
   "source": [
    "match_time_df.fillna(0,inplace=True)\n",
    "match_time_df.drop_duplicates(inplace=True)"
   ]
  },
  {
   "cell_type": "markdown",
   "metadata": {},
   "source": [
    "Then we seperate the columns for periods and obtain the sum of them. The next step get the maximum sum of times."
   ]
  },
  {
   "cell_type": "code",
   "execution_count": 136,
   "metadata": {},
   "outputs": [
    {
     "data": {
      "text/html": [
       "<div>\n",
       "<style scoped>\n",
       "    .dataframe tbody tr th:only-of-type {\n",
       "        vertical-align: middle;\n",
       "    }\n",
       "\n",
       "    .dataframe tbody tr th {\n",
       "        vertical-align: top;\n",
       "    }\n",
       "\n",
       "    .dataframe thead th {\n",
       "        text-align: right;\n",
       "    }\n",
       "</style>\n",
       "<table border=\"1\" class=\"dataframe\">\n",
       "  <thead>\n",
       "    <tr style=\"text-align: right;\">\n",
       "      <th></th>\n",
       "      <th>match_id</th>\n",
       "      <th>period_1</th>\n",
       "      <th>period_2</th>\n",
       "      <th>period_3</th>\n",
       "      <th>period_4</th>\n",
       "      <th>period_5</th>\n",
       "      <th>current_period_start_timestamp</th>\n",
       "      <th>sumation_time_periods_match</th>\n",
       "    </tr>\n",
       "  </thead>\n",
       "  <tbody>\n",
       "    <tr>\n",
       "      <th>0</th>\n",
       "      <td>12260075</td>\n",
       "      <td>3463.0</td>\n",
       "      <td>3855.0</td>\n",
       "      <td>0.0</td>\n",
       "      <td>0.0</td>\n",
       "      <td>0.0</td>\n",
       "      <td>1.714511e+09</td>\n",
       "      <td>7318.0</td>\n",
       "    </tr>\n",
       "    <tr>\n",
       "      <th>1</th>\n",
       "      <td>12260076</td>\n",
       "      <td>3032.0</td>\n",
       "      <td>2121.0</td>\n",
       "      <td>2674.0</td>\n",
       "      <td>0.0</td>\n",
       "      <td>0.0</td>\n",
       "      <td>1.714492e+09</td>\n",
       "      <td>7827.0</td>\n",
       "    </tr>\n",
       "    <tr>\n",
       "      <th>2</th>\n",
       "      <td>12260077</td>\n",
       "      <td>2747.0</td>\n",
       "      <td>3525.0</td>\n",
       "      <td>4074.0</td>\n",
       "      <td>0.0</td>\n",
       "      <td>0.0</td>\n",
       "      <td>1.714492e+09</td>\n",
       "      <td>10346.0</td>\n",
       "    </tr>\n",
       "    <tr>\n",
       "      <th>3</th>\n",
       "      <td>12260078</td>\n",
       "      <td>2519.0</td>\n",
       "      <td>2531.0</td>\n",
       "      <td>2121.0</td>\n",
       "      <td>0.0</td>\n",
       "      <td>0.0</td>\n",
       "      <td>1.714578e+09</td>\n",
       "      <td>7171.0</td>\n",
       "    </tr>\n",
       "    <tr>\n",
       "      <th>4</th>\n",
       "      <td>12260080</td>\n",
       "      <td>2616.0</td>\n",
       "      <td>2766.0</td>\n",
       "      <td>0.0</td>\n",
       "      <td>0.0</td>\n",
       "      <td>0.0</td>\n",
       "      <td>1.714483e+09</td>\n",
       "      <td>5382.0</td>\n",
       "    </tr>\n",
       "  </tbody>\n",
       "</table>\n",
       "</div>"
      ],
      "text/plain": [
       "   match_id  period_1  period_2  period_3  period_4  period_5  \\\n",
       "0  12260075    3463.0    3855.0       0.0       0.0       0.0   \n",
       "1  12260076    3032.0    2121.0    2674.0       0.0       0.0   \n",
       "2  12260077    2747.0    3525.0    4074.0       0.0       0.0   \n",
       "3  12260078    2519.0    2531.0    2121.0       0.0       0.0   \n",
       "4  12260080    2616.0    2766.0       0.0       0.0       0.0   \n",
       "\n",
       "   current_period_start_timestamp  sumation_time_periods_match  \n",
       "0                    1.714511e+09                       7318.0  \n",
       "1                    1.714492e+09                       7827.0  \n",
       "2                    1.714492e+09                      10346.0  \n",
       "3                    1.714578e+09                       7171.0  \n",
       "4                    1.714483e+09                       5382.0  "
      ]
     },
     "execution_count": 136,
     "metadata": {},
     "output_type": "execute_result"
    }
   ],
   "source": [
    "\n",
    "match_time_df['sumation_time_periods_match']=match_time_df.iloc[:,[1,2,3]].sum(axis=1)\n",
    "match_time_df.head()"
   ]
  },
  {
   "cell_type": "markdown",
   "metadata": {},
   "source": [
    "We get the max and then find the corresponding match that has the maximum time duration. Then print the match with detail information."
   ]
  },
  {
   "cell_type": "code",
   "execution_count": 137,
   "metadata": {},
   "outputs": [
    {
     "data": {
      "text/html": [
       "<div>\n",
       "<style scoped>\n",
       "    .dataframe tbody tr th:only-of-type {\n",
       "        vertical-align: middle;\n",
       "    }\n",
       "\n",
       "    .dataframe tbody tr th {\n",
       "        vertical-align: top;\n",
       "    }\n",
       "\n",
       "    .dataframe thead th {\n",
       "        text-align: right;\n",
       "    }\n",
       "</style>\n",
       "<table border=\"1\" class=\"dataframe\">\n",
       "  <thead>\n",
       "    <tr style=\"text-align: right;\">\n",
       "      <th></th>\n",
       "      <th>match_id</th>\n",
       "      <th>period_1</th>\n",
       "      <th>period_2</th>\n",
       "      <th>period_3</th>\n",
       "      <th>period_4</th>\n",
       "      <th>period_5</th>\n",
       "      <th>current_period_start_timestamp</th>\n",
       "      <th>sumation_time_periods_match</th>\n",
       "    </tr>\n",
       "  </thead>\n",
       "  <tbody>\n",
       "    <tr>\n",
       "      <th>13350</th>\n",
       "      <td>12346747</td>\n",
       "      <td>167761.0</td>\n",
       "      <td>3392.0</td>\n",
       "      <td>0.0</td>\n",
       "      <td>0.0</td>\n",
       "      <td>0.0</td>\n",
       "      <td>1.716382e+09</td>\n",
       "      <td>171153.0</td>\n",
       "    </tr>\n",
       "  </tbody>\n",
       "</table>\n",
       "</div>"
      ],
      "text/plain": [
       "       match_id  period_1  period_2  period_3  period_4  period_5  \\\n",
       "13350  12346747  167761.0    3392.0       0.0       0.0       0.0   \n",
       "\n",
       "       current_period_start_timestamp  sumation_time_periods_match  \n",
       "13350                    1.716382e+09                     171153.0  "
      ]
     },
     "execution_count": 137,
     "metadata": {},
     "output_type": "execute_result"
    }
   ],
   "source": [
    "longest_time=match_time_df['sumation_time_periods_match'].max()\n",
    "longest_match=match_time_df.loc[(match_time_df['sumation_time_periods_match']==longest_time),:]\n",
    "longest_match"
   ]
  },
  {
   "cell_type": "markdown",
   "metadata": {},
   "source": [
    "According to the given information ,the longest match recorded in terms of duration is the match with match-id:12346747 "
   ]
  },
  {
   "cell_type": "markdown",
   "metadata": {},
   "source": [
    "5. How many sets are typically played in a tennis match?"
   ]
  },
  {
   "cell_type": "markdown",
   "metadata": {},
   "source": [
    "We use the power_df that has the number of sets for each match. We groupby the power_df by 'match_id' and then count the unique sets of a match."
   ]
  },
  {
   "cell_type": "code",
   "execution_count": 138,
   "metadata": {},
   "outputs": [
    {
     "name": "stdout",
     "output_type": "stream",
     "text": [
      "match_id\n",
      "12260075    2\n",
      "12260076    3\n",
      "12260077    3\n",
      "12260078    3\n",
      "12260080    2\n",
      "           ..\n",
      "12384789    2\n",
      "12384806    3\n",
      "12384892    2\n",
      "12384975    3\n",
      "12385017    3\n",
      "Name: set_num, Length: 6658, dtype: int64\n"
     ]
    },
    {
     "data": {
      "text/plain": [
       "0    2\n",
       "Name: set_num, dtype: int64"
      ]
     },
     "execution_count": 138,
     "metadata": {},
     "output_type": "execute_result"
    }
   ],
   "source": [
    "power_df.head()\n",
    "num_sets_per_match = power_df.groupby('match_id')['set_num'].nunique()\n",
    "print(num_sets_per_match)\n",
    "num_sets_per_match.mode()"
   ]
  },
  {
   "cell_type": "markdown",
   "metadata": {},
   "source": [
    "As advantage, 2 sets typically played in a tennis match in this matche."
   ]
  },
  {
   "cell_type": "markdown",
   "metadata": {},
   "source": [
    "6. Which country has produced the most successful tennis players?"
   ]
  },
  {
   "cell_type": "markdown",
   "metadata": {},
   "source": [
    "We need to merge tha 'home_team_info' and 'away_team_info' dataframes. Then we merge the result with the 'match_point_winner' we created before. The result df called 'playerWinner' contains 'match_id', 'name_player1', 'name_player', 'country_player1', 'country_player2', 'winner_code' and 'winner_name'. We then add the 'winner_country' considering the 'winner_name'. Then we count the number of countries and take the maximum of them as the answer."
   ]
  },
  {
   "cell_type": "code",
   "execution_count": 139,
   "metadata": {},
   "outputs": [
    {
     "name": "stdout",
     "output_type": "stream",
     "text": [
      "The player who wins the most matches is: Italy\n"
     ]
    },
    {
     "data": {
      "text/plain": [
       "winner_country\n",
       "Italy          1029\n",
       "USA             940\n",
       "France          918\n",
       "Japan           601\n",
       "Germany         594\n",
       "               ... \n",
       "Iran              1\n",
       "Qatar             1\n",
       "Kenya             1\n",
       "Ivory Coast       1\n",
       "Azerbaijan        1\n",
       "Name: count, Length: 93, dtype: int64"
      ]
     },
     "execution_count": 139,
     "metadata": {},
     "output_type": "execute_result"
    }
   ],
   "source": [
    "merged_player = pd.merge(match_away_team_df, match_home_team_df, on='match_id',how='inner', suffixes=('_player1', '_player2'))\n",
    "merged_match_id_name_country=merged_player[['match_id','name_player1', 'name_player2','country_player1','country_player2']]\n",
    "\n",
    "playerWinner = pd.merge(merged_match_id_name_country, match_point_winner, on='match_id', how='inner')\n",
    "\n",
    "playerWinner['winner_name'] = playerWinner.apply(lambda row: row['name_player1'] if row['winner_code'] == 1.0 else row['name_player2'], axis=1)\n",
    "playerWinner['winner_country'] = playerWinner.apply(lambda row: row['country_player1'] if row['winner_code'] == 1.0 else row['country_player2'], axis=1)\n",
    "\n",
    "winner_country = playerWinner['winner_country'].value_counts()\n",
    "print(f\"The player who wins the most matches is:\", winner_country.idxmax())\n",
    "winner_country"
   ]
  },
  {
   "cell_type": "markdown",
   "metadata": {},
   "source": [
    "According to the above results, if the criterion for determining a successful player is the number of wins in this series of tournaments, it can be claimed that 'France' with '463'winns ,cultivates the most successful tennis players."
   ]
  },
  {
   "cell_type": "markdown",
   "metadata": {},
   "source": [
    "Also we can choose the succesful players by ranking,so we sort countries by their player ranking and filter 5-top-ranking players "
   ]
  },
  {
   "cell_type": "code",
   "execution_count": 140,
   "metadata": {},
   "outputs": [
    {
     "data": {
      "text/html": [
       "<div>\n",
       "<style scoped>\n",
       "    .dataframe tbody tr th:only-of-type {\n",
       "        vertical-align: middle;\n",
       "    }\n",
       "\n",
       "    .dataframe tbody tr th {\n",
       "        vertical-align: top;\n",
       "    }\n",
       "\n",
       "    .dataframe thead th {\n",
       "        text-align: right;\n",
       "    }\n",
       "</style>\n",
       "<table border=\"1\" class=\"dataframe\">\n",
       "  <thead>\n",
       "    <tr style=\"text-align: right;\">\n",
       "      <th></th>\n",
       "      <th>name</th>\n",
       "      <th>country</th>\n",
       "      <th>current_rank</th>\n",
       "    </tr>\n",
       "  </thead>\n",
       "  <tbody>\n",
       "    <tr>\n",
       "      <th>4590</th>\n",
       "      <td>Świątek I.</td>\n",
       "      <td>Poland</td>\n",
       "      <td>1.0</td>\n",
       "    </tr>\n",
       "    <tr>\n",
       "      <th>13327</th>\n",
       "      <td>Djokovic N.</td>\n",
       "      <td>Serbia</td>\n",
       "      <td>1.0</td>\n",
       "    </tr>\n",
       "    <tr>\n",
       "      <th>4320</th>\n",
       "      <td>Sabalenka A.</td>\n",
       "      <td>Belarus</td>\n",
       "      <td>2.0</td>\n",
       "    </tr>\n",
       "    <tr>\n",
       "      <th>12694</th>\n",
       "      <td>Sinner J.</td>\n",
       "      <td>Italy</td>\n",
       "      <td>2.0</td>\n",
       "    </tr>\n",
       "    <tr>\n",
       "      <th>5165</th>\n",
       "      <td>Gauff C.</td>\n",
       "      <td>USA</td>\n",
       "      <td>3.0</td>\n",
       "    </tr>\n",
       "    <tr>\n",
       "      <th>10580</th>\n",
       "      <td>Alcaraz C.</td>\n",
       "      <td>Spain</td>\n",
       "      <td>3.0</td>\n",
       "    </tr>\n",
       "  </tbody>\n",
       "</table>\n",
       "</div>"
      ],
      "text/plain": [
       "               name  country  current_rank\n",
       "4590     Świątek I.   Poland           1.0\n",
       "13327   Djokovic N.   Serbia           1.0\n",
       "4320   Sabalenka A.  Belarus           2.0\n",
       "12694     Sinner J.    Italy           2.0\n",
       "5165       Gauff C.      USA           3.0\n",
       "10580    Alcaraz C.    Spain           3.0"
      ]
     },
     "execution_count": 140,
     "metadata": {},
     "output_type": "execute_result"
    }
   ],
   "source": [
    "country_current_rank=pd.concat([match_away_team_df[['name','country','current_rank']],match_home_team_df[['name','country','current_rank']]]).sort_values('current_rank').drop_duplicates().dropna().iloc[:,:]\n",
    "country_current_rank.loc[country_current_rank['current_rank']<4 ,:]\n"
   ]
  },
  {
   "cell_type": "markdown",
   "metadata": {},
   "source": [
    "We have various countries for the best ranking, so we can not clime wich of them have the most successful players.\n",
    "So we culculate the mean of current_rank for each country."
   ]
  },
  {
   "cell_type": "code",
   "execution_count": 141,
   "metadata": {},
   "outputs": [
    {
     "data": {
      "text/html": [
       "<div>\n",
       "<style scoped>\n",
       "    .dataframe tbody tr th:only-of-type {\n",
       "        vertical-align: middle;\n",
       "    }\n",
       "\n",
       "    .dataframe tbody tr th {\n",
       "        vertical-align: top;\n",
       "    }\n",
       "\n",
       "    .dataframe thead th {\n",
       "        text-align: right;\n",
       "    }\n",
       "</style>\n",
       "<table border=\"1\" class=\"dataframe\">\n",
       "  <thead>\n",
       "    <tr style=\"text-align: right;\">\n",
       "      <th></th>\n",
       "      <th>country</th>\n",
       "      <th>current_rank</th>\n",
       "    </tr>\n",
       "  </thead>\n",
       "  <tbody>\n",
       "    <tr>\n",
       "      <th>69</th>\n",
       "      <td>Philippines</td>\n",
       "      <td>161.000000</td>\n",
       "    </tr>\n",
       "    <tr>\n",
       "      <th>1</th>\n",
       "      <td>Andorra</td>\n",
       "      <td>294.666667</td>\n",
       "    </tr>\n",
       "    <tr>\n",
       "      <th>55</th>\n",
       "      <td>Malta</td>\n",
       "      <td>330.500000</td>\n",
       "    </tr>\n",
       "    <tr>\n",
       "      <th>83</th>\n",
       "      <td>Syria</td>\n",
       "      <td>344.000000</td>\n",
       "    </tr>\n",
       "    <tr>\n",
       "      <th>13</th>\n",
       "      <td>Burundi</td>\n",
       "      <td>371.000000</td>\n",
       "    </tr>\n",
       "  </tbody>\n",
       "</table>\n",
       "</div>"
      ],
      "text/plain": [
       "        country  current_rank\n",
       "69  Philippines    161.000000\n",
       "1       Andorra    294.666667\n",
       "55        Malta    330.500000\n",
       "83        Syria    344.000000\n",
       "13      Burundi    371.000000"
      ]
     },
     "execution_count": 141,
     "metadata": {},
     "output_type": "execute_result"
    }
   ],
   "source": [
    "country_current_rank.drop(columns='name',inplace=True)\n",
    "country_mean_rank=country_current_rank.groupby('country',as_index=False).mean().sort_values('current_rank').head()\n",
    "country_mean_rank"
   ]
  },
  {
   "cell_type": "markdown",
   "metadata": {},
   "source": [
    "According 'country_mean_rank' table , 'Philippines' has the best mean rank compared to other countries,so if the criteria for being a successful player is the top rank,maybe we can claim that the 'Philippines' produces more successful players"
   ]
  },
  {
   "cell_type": "markdown",
   "metadata": {},
   "source": [
    "7. What is the average number of aces per match?"
   ]
  },
  {
   "cell_type": "markdown",
   "metadata": {},
   "source": [
    "We use period_info dataframes containing the 'statistic_name'. We select rows that their 'statistic_name' is 'aces'. Then we sum the 'home_value' and 'away_value'. The next step is to get the number pf matches by 'nunique' method. The average aces per match is get by dividing the total_aces by number of matches. "
   ]
  },
  {
   "cell_type": "code",
   "execution_count": 142,
   "metadata": {},
   "outputs": [
    {
     "name": "stdout",
     "output_type": "stream",
     "text": [
      "The average number of aces per match is:  6.061165361090246\n"
     ]
    }
   ],
   "source": [
    "\n",
    "aces_stats = period_df[period_df['statistic_name'] == 'aces']\n",
    "total_aces = aces_stats['home_value'].sum() + aces_stats['away_value'].sum()\n",
    "\n",
    "num_matches = event_df['match_id'].nunique()\n",
    "average_aces_per_match = total_aces / num_matches\n",
    "\n",
    "print(f\"The average number of aces per match is: \", average_aces_per_match)"
   ]
  },
  {
   "cell_type": "markdown",
   "metadata": {},
   "source": [
    "8. Is there a difference in the number of double faults based on gender?"
   ]
  },
  {
   "cell_type": "markdown",
   "metadata": {},
   "source": [
    "We need the concatenation of home team information df and away team information df. Then we join the resulted concat df with period_df on match_id. This gives us a dataframe contains matches with their players and the corresponding 'statistic_name' and other usefull information like 'gender'. We then get the mean of 'home_value' and 'away_value' groupby gender field.\n",
    "To have a schematic view of the results we plot a histogram presenting the results seperated by gender. "
   ]
  },
  {
   "cell_type": "code",
   "execution_count": 143,
   "metadata": {},
   "outputs": [
    {
     "data": {
      "text/plain": [
       "<Figure size 800x600 with 0 Axes>"
      ]
     },
     "metadata": {},
     "output_type": "display_data"
    },
    {
     "data": {
      "image/png": "[encoded data removed]",
      "text/plain": [
       "<Figure size 640x480 with 1 Axes>"
      ]
     },
     "metadata": {},
     "output_type": "display_data"
    },
    {
     "data": {
      "text/html": [
       "<div>\n",
       "<style scoped>\n",
       "    .dataframe tbody tr th:only-of-type {\n",
       "        vertical-align: middle;\n",
       "    }\n",
       "\n",
       "    .dataframe tbody tr th {\n",
       "        vertical-align: top;\n",
       "    }\n",
       "\n",
       "    .dataframe thead th {\n",
       "        text-align: right;\n",
       "    }\n",
       "</style>\n",
       "<table border=\"1\" class=\"dataframe\">\n",
       "  <thead>\n",
       "    <tr style=\"text-align: right;\">\n",
       "      <th></th>\n",
       "      <th>gender</th>\n",
       "      <th>home_value</th>\n",
       "      <th>away_value</th>\n",
       "      <th>average_double_faults</th>\n",
       "    </tr>\n",
       "  </thead>\n",
       "  <tbody>\n",
       "    <tr>\n",
       "      <th>0</th>\n",
       "      <td>F</td>\n",
       "      <td>1.650679</td>\n",
       "      <td>1.734638</td>\n",
       "      <td>1.692658</td>\n",
       "    </tr>\n",
       "    <tr>\n",
       "      <th>1</th>\n",
       "      <td>M</td>\n",
       "      <td>1.109402</td>\n",
       "      <td>1.186400</td>\n",
       "      <td>1.147901</td>\n",
       "    </tr>\n",
       "  </tbody>\n",
       "</table>\n",
       "</div>"
      ],
      "text/plain": [
       "  gender  home_value  away_value  average_double_faults\n",
       "0      F    1.650679    1.734638               1.692658\n",
       "1      M    1.109402    1.186400               1.147901"
      ]
     },
     "execution_count": 143,
     "metadata": {},
     "output_type": "execute_result"
    }
   ],
   "source": [
    "players_id_concat = pd.concat([match_away_team_df, match_home_team_df])\n",
    "period_df.fillna(0)\n",
    "\n",
    "player_period_merged = pd.merge(players_id_concat, period_df, on='match_id')\n",
    "double_faults_stats = player_period_merged[player_period_merged['statistic_name'] == 'double_faults']\n",
    "\n",
    "gender_double_faults = double_faults_stats.groupby('gender')[['home_value', 'away_value']].mean().reset_index()\n",
    "gender_double_faults['average_double_faults'] = (gender_double_faults['home_value'] + gender_double_faults['away_value']) / 2\n",
    "\n",
    "plt.figure(figsize=(8, 6))\n",
    "gender_double_faults.plot( x='gender', y='average_double_faults' ,kind='bar')\n",
    "\n",
    "plt.xlabel('Gender')\n",
    "plt.ylabel('Average Double Faults')\n",
    "plt.title('Difference in Double Faults by Gender')\n",
    "plt.show()\n",
    "\n",
    "gender_double_faults"
   ]
  },
  {
   "cell_type": "markdown",
   "metadata": {},
   "source": [
    "In conclusion of the given information, there is a difference between male and female in the number of double faults. The average double faults value is more in females than in males."
   ]
  },
  {
   "cell_type": "markdown",
   "metadata": {},
   "source": [
    "9. Which player has won the most tournaments in a single month?"
   ]
  },
  {
   "cell_type": "markdown",
   "metadata": {},
   "source": [
    "We use the playerWinner dataframe previousely produced in question 3. It contains 'match_id', 'name_player1', 'name_player2' and 'winner_name' fields. Now we join this dataframe with the MatchTournamentInfo dataframe to get the player who won the most tournaments."
   ]
  },
  {
   "cell_type": "code",
   "execution_count": 144,
   "metadata": {},
   "outputs": [
    {
     "name": "stdout",
     "output_type": "stream",
     "text": [
      "The player who wins the most tournaments is: Paquet C.\n"
     ]
    }
   ],
   "source": [
    "\n",
    "playerWinnerTourn = pd.merge(playerWinner, tournament_df, on='match_id', how='inner')\n",
    "playerWinnerTourn=playerWinnerTourn[['match_id','name_player1','name_player2','tournament_id','winner_name']]\n",
    "playerWinnerTourn\n",
    "\n",
    "player_wins = playerWinnerTourn.groupby('winner_name').size().reset_index(name='wins')\n",
    "player_wins = player_wins.sort_values(by='wins', ascending=False)\n",
    "print(f\"The player who wins the most tournaments is:\", player_wins.iloc[0]['winner_name'])"
   ]
  },
  {
   "cell_type": "markdown",
   "metadata": {},
   "source": [
    "10. Is there a correlation between a player's height and their ranking?"
   ]
  },
  {
   "cell_type": "markdown",
   "metadata": {},
   "source": [
    "Again we need a concatenation of home team information and away team information. We then use the 'height' column and the 'current_rank' columns to get the correlation using 'corr' method. \n",
    "To have a schematic view of the results we plot the scatter plot for the height and the mean of corresponding 'current rank'. The results show that there is no correlation between height and rank."
   ]
  },
  {
   "cell_type": "code",
   "execution_count": 145,
   "metadata": {},
   "outputs": [
    {
     "name": "stdout",
     "output_type": "stream",
     "text": [
      "The correlation between height and ranking is:  0.10743548957985272\n"
     ]
    },
    {
     "data": {
      "image/png": "[encoded data removed]",
      "text/plain": [
       "<Figure size 800x600 with 1 Axes>"
      ]
     },
     "metadata": {},
     "output_type": "display_data"
    }
   ],
   "source": [
    "players_concat_df = pd.concat([match_away_team_df, match_home_team_df])\n",
    "height_rank_correlation=players_concat_df['height'].corr(players_concat_df['current_rank'])\n",
    "\n",
    "print(\"The correlation between height and ranking is: \", height_rank_correlation)\n",
    "\n",
    "height_rank_mean = players_concat_df.groupby('height')['current_rank'].mean().reset_index()\n",
    "\n",
    "plt.figure(figsize=(8, 6))\n",
    "sns.scatterplot(x='height', y='current_rank', data=height_rank_mean)\n",
    "\n",
    "plt.xlabel('Height (meters)')\n",
    "plt.ylabel('Ranking')\n",
    "plt.title('Correlation between Player Height and Ranking')\n",
    "plt.show()"
   ]
  },
  {
   "cell_type": "markdown",
   "metadata": {},
   "source": [
    "According to the scatter plot and height_rank_correlation value, it cannot be claimed that there is a correlation between players height and their rank."
   ]
  },
  {
   "cell_type": "markdown",
   "metadata": {},
   "source": [
    "11. What is the average duration of matches?"
   ]
  },
  {
   "cell_type": "markdown",
   "metadata": {},
   "source": [
    "We use time_df that has the duration of each period. We then get the average by dividing this value on number of matches."
   ]
  },
  {
   "cell_type": "code",
   "execution_count": 146,
   "metadata": {},
   "outputs": [
    {
     "name": "stdout",
     "output_type": "stream",
     "text": [
      "The average duration of matches is 156.93 minutes.\n"
     ]
    }
   ],
   "source": [
    "\n",
    "match_time_df.fillna(0,inplace=True)\n",
    "total_duration = match_time_df['period_1'].sum() +match_time_df['period_2'].sum() + match_time_df['period_3'].sum()\n",
    "num_matches = match_time_df['match_id'].nunique()\n",
    "\n",
    "average_duration = total_duration / num_matches\n",
    "\n",
    "print(f\"The average duration of matches is {average_duration / 60:.2f} minutes.\")"
   ]
  },
  {
   "cell_type": "markdown",
   "metadata": {},
   "source": [
    "12. What is the average number of games per set in men's matches compared to women's matches?"
   ]
  },
  {
   "cell_type": "markdown",
   "metadata": {},
   "source": [
    "We use power_df that has the match_id, the number of sets and number of games in each set, and the concatenation of home information team and away information team. \n",
    "We get the total games per set considering the maximum number of games."
   ]
  },
  {
   "cell_type": "code",
   "execution_count": 147,
   "metadata": {},
   "outputs": [
    {
     "data": {
      "text/plain": [
       "match_id  set_num  gender\n",
       "12260075  1        M         12\n",
       "          2        M         10\n",
       "12260076  1        M         12\n",
       "          2        M          9\n",
       "          3        M          9\n",
       "                             ..\n",
       "12384975  2        F         13\n",
       "          3        F         10\n",
       "12385017  1        F         10\n",
       "          2        F         12\n",
       "          3        F         12\n",
       "Name: game_num, Length: 14406, dtype: int64"
      ]
     },
     "execution_count": 147,
     "metadata": {},
     "output_type": "execute_result"
    }
   ],
   "source": [
    "\n",
    "power_player_id = pd.merge(power_df, players_id_concat, on='match_id')\n",
    "\n",
    "total_games_per_set = power_player_id.groupby(['match_id', 'set_num', 'gender'])['game_num'].max()\n",
    "total_games_per_set\n"
   ]
  },
  {
   "cell_type": "markdown",
   "metadata": {},
   "source": [
    "We compute the average number of games per set by mean method seperated with gender."
   ]
  },
  {
   "cell_type": "code",
   "execution_count": 148,
   "metadata": {},
   "outputs": [
    {
     "name": "stdout",
     "output_type": "stream",
     "text": [
      "The average number of games per set in men's matches is 9.18.\n",
      "The average number of games per set in women's matches is 8.92.\n"
     ]
    }
   ],
   "source": [
    "gender_games_per_set = total_games_per_set.groupby('gender').mean()\n",
    "\n",
    "print(f\"The average number of games per set in men's matches is {gender_games_per_set['M']:.2f}.\")\n",
    "print(f\"The average number of games per set in women's matches is {gender_games_per_set['F']:.2f}.\")"
   ]
  },
  {
   "cell_type": "markdown",
   "metadata": {},
   "source": [
    "On average, in men's matches, each set has 18 games and in women's matches, each set has 17 games"
   ]
  },
  {
   "cell_type": "markdown",
   "metadata": {},
   "source": [
    "13. What is the distribution of left-handed versus right-handed players?"
   ]
  },
  {
   "cell_type": "markdown",
   "metadata": {},
   "source": [
    "We first clean the data of match away team and home away team then merge them. Then we use 'value_count' method to count the right-handed players and 'left-handed' players seperately.\n",
    "To have a schematic view of resulted distribution of right-handed players versus left-handed players we plot a histogram. As it can be seen the left-handed players are less than right-handed, considerably."
   ]
  },
  {
   "cell_type": "code",
   "execution_count": 149,
   "metadata": {},
   "outputs": [
    {
     "name": "stdout",
     "output_type": "stream",
     "text": [
      "The distribution of right-handed players versus left-handed: plays\n",
      "right-handed    908\n",
      "left-handed     120\n",
      "ambidextrous      1\n",
      "Name: count, dtype: int64\n",
      "The percentage of the distribution of right-handed players versus left-handed: plays\n",
      "right-handed    88.241011\n",
      "left-handed     11.661808\n",
      "ambidextrous     0.097182\n",
      "Name: count, dtype: float64\n"
     ]
    },
    {
     "data": {
      "image/png": "[encoded data removed]",
      "text/plain": [
       "<Figure size 800x600 with 1 Axes>"
      ]
     },
     "metadata": {},
     "output_type": "display_data"
    }
   ],
   "source": [
    "match_away_cleand_df = match_away_team_df.loc[match_away_team_df['plays'].notnull()]\n",
    "\n",
    "match_home_cleand_df = match_home_team_df.loc[match_home_team_df['plays'].notnull()]\n",
    "\n",
    "\n",
    "\n",
    "match_home_away_df = pd.concat([match_away_cleand_df, match_home_cleand_df])\n",
    "match_home_away_cleaned_df = match_home_away_df[['player_id','plays']]\n",
    "\n",
    "match_home_away_cleaned_df.drop_duplicates(inplace=True)\n",
    "distribution = match_home_away_cleaned_df['plays'].value_counts()\n",
    "\n",
    "print(\"The distribution of right-handed players versus left-handed:\",distribution)\n",
    "\n",
    "percentage_distribution = (distribution / len(match_home_away_cleaned_df)) * 100\n",
    "print(\"The percentage of the distribution of right-handed players versus left-handed:\",percentage_distribution)\n",
    "righthand_data = match_home_away_cleaned_df.loc[match_home_away_cleaned_df['plays'] == 'right-handed']\n",
    "lefthand_data = match_home_away_cleaned_df.loc[match_home_away_cleaned_df['plays'] == 'left-handed']\n",
    "fig, ax = plt.subplots(figsize=(8, 6))\n",
    "\n",
    "ax.hist(righthand_data['plays'], bins=1, label='Righthand')\n",
    "ax.hist(lefthand_data['plays'], bins=1, label='Lefthand')\n",
    "ax.set_xlabel('Hand')\n",
    "ax.set_ylabel('Count')\n",
    "ax.set_title('Distribution of Righthand and Lefthand')\n",
    "\n",
    "ax.legend()\n",
    "plt.show()"
   ]
  },
  {
   "cell_type": "markdown",
   "metadata": {},
   "source": [
    "14. What is the most common type of surface used in tournaments?"
   ]
  },
  {
   "cell_type": "markdown",
   "metadata": {},
   "source": [
    "We use 'tournament_df' to get the 'ground_type'. By plotting a bar plot for Tournament Surface Types' we can get the most common surface that is 'Red clay'."
   ]
  },
  {
   "cell_type": "code",
   "execution_count": 150,
   "metadata": {},
   "outputs": [
    {
     "name": "stdout",
     "output_type": "stream",
     "text": [
      "ground_type\n",
      "Red clay             14238\n",
      "Hardcourt outdoor     4606\n",
      "Hardcourt indoor       241\n",
      "Synthetic outdoor       93\n",
      "Name: count, dtype: int64\n"
     ]
    },
    {
     "data": {
      "image/png": "[encoded data removed]",
      "text/plain": [
       "<Figure size 640x480 with 1 Axes>"
      ]
     },
     "metadata": {},
     "output_type": "display_data"
    }
   ],
   "source": [
    "\n",
    "tournament_df.drop_duplicates(inplace=True)\n",
    "print(tournament_df['ground_type'].value_counts())\n",
    "\n",
    "tournament_df['ground_type'].value_counts().plot(kind='bar')\n",
    "plt.title('Tournament Surface Types')\n",
    "plt.xlabel('Surface Type')\n",
    "plt.ylabel('Count')\n",
    "plt.show()"
   ]
  },
  {
   "cell_type": "markdown",
   "metadata": {},
   "source": [
    "The most common type of surface used in the tournaments is 'Red clay' that used in '14238' tournaments"
   ]
  },
  {
   "cell_type": "markdown",
   "metadata": {},
   "source": [
    "15. How many distinct countries are represented in the dataset?"
   ]
  },
  {
   "cell_type": "markdown",
   "metadata": {},
   "source": [
    "For this question we used the field 'Country' in the team infos dataframes. We use 'nunique' to get the number of unique countries in the dataframes."
   ]
  },
  {
   "cell_type": "code",
   "execution_count": 153,
   "metadata": {},
   "outputs": [
    {
     "name": "stdout",
     "output_type": "stream",
     "text": [
      "The dataset contains 80 distinct countries.\n"
     ]
    }
   ],
   "source": [
    "num_distinct_countries = match_home_away_df['country'].nunique()\n",
    "\n",
    "print(f\"The dataset contains {num_distinct_countries} distinct countries.\")"
   ]
  },
  {
   "cell_type": "markdown",
   "metadata": {},
   "source": [
    "16. Which player has the highest winning percentage against top 10 ranked opponents?"
   ]
  },
  {
   "cell_type": "markdown",
   "metadata": {},
   "source": [
    "At first, we find the top ten players by selecting the names of the players and sorting them according to their rank by using concatenate of tables : 'match_home_team' and 'match_away_team' .\n"
   ]
  },
  {
   "cell_type": "code",
   "execution_count": null,
   "metadata": {},
   "outputs": [
    {
     "data": {
      "text/plain": [
       "array(['Świątek I.', 'Djokovic N.', 'Sabalenka A.', 'Sinner J.',\n",
       "       'Gauff C.', 'Alcaraz C.', 'Zverev A.', 'Medvedev D.',\n",
       "       'Rybakina E.', 'Vondroušová M.'], dtype=object)"
      ]
     },
     "execution_count": 33,
     "metadata": {},
     "output_type": "execute_result"
    }
   ],
   "source": [
    "country_current_rank=pd.concat([match_away_team_df[['name','current_rank']],match_home_team_df[['name','current_rank']]]).sort_values('current_rank').drop_duplicates().dropna().iloc[0:12,:]\n",
    "top_10_players=country_current_rank['name'].unique()\n",
    "top_10_players"
   ]
  },
  {
   "cell_type": "markdown",
   "metadata": {},
   "source": [
    "Then using the columns 'home_point' and 'away_point' from 'game_info' table, calculating the sumation of points for home_team and 'away _team for each match _id. We create 'winner_code' by using 'home_point' and 'away_point' that contains '1' if 'home_point' is more than 'away_point'and indicates that home_team is winner and '2' indicate that 'away_team' is winner.\n",
    "*Milestone:\n",
    "As these columns are string-type, for getting proper summation changing them to integer is mandatory.\n",
    "These columns also contains the character 'A' ,that for executing procedures,  replaced by '45'."
   ]
  },
  {
   "cell_type": "code",
   "execution_count": null,
   "metadata": {},
   "outputs": [
    {
     "data": {
      "text/html": [
       "<div>\n",
       "<style scoped>\n",
       "    .dataframe tbody tr th:only-of-type {\n",
       "        vertical-align: middle;\n",
       "    }\n",
       "\n",
       "    .dataframe tbody tr th {\n",
       "        vertical-align: top;\n",
       "    }\n",
       "\n",
       "    .dataframe thead th {\n",
       "        text-align: right;\n",
       "    }\n",
       "</style>\n",
       "<table border=\"1\" class=\"dataframe\">\n",
       "  <thead>\n",
       "    <tr style=\"text-align: right;\">\n",
       "      <th></th>\n",
       "      <th>home_point</th>\n",
       "      <th>away_point</th>\n",
       "      <th>winner_code</th>\n",
       "    </tr>\n",
       "    <tr>\n",
       "      <th>match_id</th>\n",
       "      <th></th>\n",
       "      <th></th>\n",
       "      <th></th>\n",
       "    </tr>\n",
       "  </thead>\n",
       "  <tbody>\n",
       "    <tr>\n",
       "      <th>12260075</th>\n",
       "      <td>2600</td>\n",
       "      <td>2810</td>\n",
       "      <td>2</td>\n",
       "    </tr>\n",
       "    <tr>\n",
       "      <th>12260076</th>\n",
       "      <td>3025</td>\n",
       "      <td>2880</td>\n",
       "      <td>1</td>\n",
       "    </tr>\n",
       "    <tr>\n",
       "      <th>12260077</th>\n",
       "      <td>4213</td>\n",
       "      <td>4441</td>\n",
       "      <td>2</td>\n",
       "    </tr>\n",
       "    <tr>\n",
       "      <th>12260078</th>\n",
       "      <td>7120</td>\n",
       "      <td>5920</td>\n",
       "      <td>1</td>\n",
       "    </tr>\n",
       "    <tr>\n",
       "      <th>12260080</th>\n",
       "      <td>2275</td>\n",
       "      <td>2100</td>\n",
       "      <td>1</td>\n",
       "    </tr>\n",
       "    <tr>\n",
       "      <th>...</th>\n",
       "      <td>...</td>\n",
       "      <td>...</td>\n",
       "      <td>...</td>\n",
       "    </tr>\n",
       "    <tr>\n",
       "      <th>12384789</th>\n",
       "      <td>2860</td>\n",
       "      <td>3285</td>\n",
       "      <td>2</td>\n",
       "    </tr>\n",
       "    <tr>\n",
       "      <th>12384806</th>\n",
       "      <td>4089</td>\n",
       "      <td>3504</td>\n",
       "      <td>1</td>\n",
       "    </tr>\n",
       "    <tr>\n",
       "      <th>12384892</th>\n",
       "      <td>1955</td>\n",
       "      <td>2095</td>\n",
       "      <td>2</td>\n",
       "    </tr>\n",
       "    <tr>\n",
       "      <th>12384975</th>\n",
       "      <td>3983</td>\n",
       "      <td>4458</td>\n",
       "      <td>2</td>\n",
       "    </tr>\n",
       "    <tr>\n",
       "      <th>12385017</th>\n",
       "      <td>4125</td>\n",
       "      <td>4540</td>\n",
       "      <td>2</td>\n",
       "    </tr>\n",
       "  </tbody>\n",
       "</table>\n",
       "<p>6555 rows × 3 columns</p>\n",
       "</div>"
      ],
      "text/plain": [
       "          home_point  away_point  winner_code\n",
       "match_id                                     \n",
       "12260075        2600        2810            2\n",
       "12260076        3025        2880            1\n",
       "12260077        4213        4441            2\n",
       "12260078        7120        5920            1\n",
       "12260080        2275        2100            1\n",
       "...              ...         ...          ...\n",
       "12384789        2860        3285            2\n",
       "12384806        4089        3504            1\n",
       "12384892        1955        2095            2\n",
       "12384975        3983        4458            2\n",
       "12385017        4125        4540            2\n",
       "\n",
       "[6555 rows x 3 columns]"
      ]
     },
     "execution_count": 126,
     "metadata": {},
     "output_type": "execute_result"
    }
   ],
   "source": [
    "point_count=game_df[['match_id','home_point','away_point']]\n",
    "point_count.replace('A', '45' , inplace=True)\n",
    "point_count['home_point'] = point_count['home_point'].astype(int)\n",
    "point_count['away_point'] = point_count['away_point'].astype(int)\n",
    "\n",
    "match_point_winner=point_count.groupby('match_id')[['home_point', 'away_point']].sum()\n",
    "match_point_winner\n",
    "match_point_winner['winner_code'] = 0\n",
    "match_point_winner.loc[match_point_winner['home_point'] > match_point_winner['away_point'], 'winner_code'] = 1\n",
    "match_point_winner.loc[match_point_winner['home_point'] < match_point_winner['away_point'], 'winner_code'] = 2\n",
    "match_winner=match_point_winner.iloc[:,[2]]\n",
    "match_point_winner"
   ]
  },
  {
   "cell_type": "markdown",
   "metadata": {},
   "source": [
    "By using above table and merged it with 'match_home_team' and 'match_away_team',we have 'match_player_winner' table contains''match_id','name_player1', 'name_player2' and 'winner_code'.\n",
    "Then we add two columns 'winner_name' and 'loser_name' using 'lambda',according 'winner_code', we can set player names in these columns.\n"
   ]
  },
  {
   "cell_type": "code",
   "execution_count": null,
   "metadata": {},
   "outputs": [
    {
     "data": {
      "text/html": [
       "<div>\n",
       "<style scoped>\n",
       "    .dataframe tbody tr th:only-of-type {\n",
       "        vertical-align: middle;\n",
       "    }\n",
       "\n",
       "    .dataframe tbody tr th {\n",
       "        vertical-align: top;\n",
       "    }\n",
       "\n",
       "    .dataframe thead th {\n",
       "        text-align: right;\n",
       "    }\n",
       "</style>\n",
       "<table border=\"1\" class=\"dataframe\">\n",
       "  <thead>\n",
       "    <tr style=\"text-align: right;\">\n",
       "      <th></th>\n",
       "      <th>match_id</th>\n",
       "      <th>winner_name</th>\n",
       "      <th>loser_name</th>\n",
       "    </tr>\n",
       "  </thead>\n",
       "  <tbody>\n",
       "    <tr>\n",
       "      <th>0</th>\n",
       "      <td>12260075</td>\n",
       "      <td>Lehečka J.</td>\n",
       "      <td>Nadal R.</td>\n",
       "    </tr>\n",
       "    <tr>\n",
       "      <th>1</th>\n",
       "      <td>12260076</td>\n",
       "      <td>Sinner J.</td>\n",
       "      <td>Khachanov K.</td>\n",
       "    </tr>\n",
       "    <tr>\n",
       "      <th>2</th>\n",
       "      <td>12260077</td>\n",
       "      <td>Alcaraz C.</td>\n",
       "      <td>Struff J.</td>\n",
       "    </tr>\n",
       "    <tr>\n",
       "      <th>3</th>\n",
       "      <td>12260078</td>\n",
       "      <td>Rublev A.</td>\n",
       "      <td>Alcaraz C.</td>\n",
       "    </tr>\n",
       "    <tr>\n",
       "      <th>4</th>\n",
       "      <td>12260078</td>\n",
       "      <td>Rublev A.</td>\n",
       "      <td>Alcaraz C.</td>\n",
       "    </tr>\n",
       "    <tr>\n",
       "      <th>...</th>\n",
       "      <td>...</td>\n",
       "      <td>...</td>\n",
       "      <td>...</td>\n",
       "    </tr>\n",
       "    <tr>\n",
       "      <th>24555</th>\n",
       "      <td>12384789</td>\n",
       "      <td>Léonard M.</td>\n",
       "      <td>Kostic T.</td>\n",
       "    </tr>\n",
       "    <tr>\n",
       "      <th>24556</th>\n",
       "      <td>12384806</td>\n",
       "      <td>Kasnikowski M.</td>\n",
       "      <td>Dutra da Silva D.</td>\n",
       "    </tr>\n",
       "    <tr>\n",
       "      <th>24557</th>\n",
       "      <td>12384892</td>\n",
       "      <td>Gomez F.</td>\n",
       "      <td>Chazal M.</td>\n",
       "    </tr>\n",
       "    <tr>\n",
       "      <th>24558</th>\n",
       "      <td>12384975</td>\n",
       "      <td>Șerban R.</td>\n",
       "      <td>Bandecchi S.</td>\n",
       "    </tr>\n",
       "    <tr>\n",
       "      <th>24559</th>\n",
       "      <td>12385017</td>\n",
       "      <td>Pedretti T.</td>\n",
       "      <td>Ortenzi J.</td>\n",
       "    </tr>\n",
       "  </tbody>\n",
       "</table>\n",
       "<p>24560 rows × 3 columns</p>\n",
       "</div>"
      ],
      "text/plain": [
       "       match_id     winner_name         loser_name\n",
       "0      12260075      Lehečka J.           Nadal R.\n",
       "1      12260076       Sinner J.       Khachanov K.\n",
       "2      12260077      Alcaraz C.          Struff J.\n",
       "3      12260078       Rublev A.         Alcaraz C.\n",
       "4      12260078       Rublev A.         Alcaraz C.\n",
       "...         ...             ...                ...\n",
       "24555  12384789      Léonard M.          Kostic T.\n",
       "24556  12384806  Kasnikowski M.  Dutra da Silva D.\n",
       "24557  12384892        Gomez F.          Chazal M.\n",
       "24558  12384975       Șerban R.       Bandecchi S.\n",
       "24559  12385017     Pedretti T.         Ortenzi J.\n",
       "\n",
       "[24560 rows x 3 columns]"
      ]
     },
     "execution_count": 148,
     "metadata": {},
     "output_type": "execute_result"
    }
   ],
   "source": [
    "home_away_merged = pd.merge(match_home_team_df, match_away_team_df, on='match_id', how='inner', suffixes=('_player1', '_player2'))\n",
    "match_players=home_away_merged[['match_id','name_player1', 'name_player2']]\n",
    "match_player_winner = pd.merge(match_players,match_winner, on='match_id', how='inner')\n",
    "match_player_winner\n",
    "\n",
    "match_player_winner['winner_name'] =match_player_winner.apply(lambda row: row['name_player1'] if row['winner_code'] == 1.0 else row['name_player2'], axis=1)\n",
    "match_player_winner['loser_name'] = match_player_winner.apply(lambda row: row['name_player1'] if row['winner_code'] == 2.0 else row['name_player2'], axis=1)\n",
    "\n",
    "player_winner_loser=match_player_winner.iloc[:,[0,4,5]]\n",
    "player_winner_loser"
   ]
  },
  {
   "cell_type": "markdown",
   "metadata": {},
   "source": [
    "Now by using the list of 'top_10_players' and 'player_winner_loser' table, we can filter 'match_id's in which top_10_players are loser. Then by using value_counts(), calculate the number of winning against 'top_10_players' for each winner_name and its percentage,\n",
    "After that, filter 'winner_name' with the highest winning percentage against top 10 ranked opponents by using 'idxmax()'."
   ]
  },
  {
   "cell_type": "code",
   "execution_count": null,
   "metadata": {},
   "outputs": [
    {
     "name": "stdout",
     "output_type": "stream",
     "text": [
      "The player with the highest winning percentage against top 10 ranked opponents is: Świątek I. with 16.666666666666664 percent win\n"
     ]
    },
    {
     "data": {
      "text/plain": [
       "Świątek I.      3\n",
       "Rublev A.       1\n",
       "Cerundolo F.    1\n",
       "Lehečka J.      1\n",
       "Sabalenka A.    1\n",
       "Moutet C.       1\n",
       "Tabilo A.       1\n",
       "Cîrstea S.      1\n",
       "Badosa P.       1\n",
       "Međedović H.    1\n",
       "Fritz T.        1\n",
       "Fręch M.        1\n",
       "Kalinina A.     1\n",
       "Volynets K.     1\n",
       "Rus A.          1\n",
       "Machač T.       1\n",
       "Name: winner_name, dtype: int64"
      ]
     },
     "execution_count": 149,
     "metadata": {},
     "output_type": "execute_result"
    }
   ],
   "source": [
    "top_10_matches =player_winner_loser[(player_winner_loser['loser_name'].isin(top_10_players))]\n",
    "top_10_matches.drop_duplicates(inplace=True)\n",
    "top_10_matches_winner=top_10_matches.iloc[:,[0,1]]\n",
    "\n",
    "winner_counts = top_10_matches_winner['winner_name'].value_counts()\n",
    "winner_percentages = (winner_counts / len(top_10_matches_winner)) * 100\n",
    "\n",
    "player_with_highest_win = winner_percentages.idxmax()\n",
    "highest_win_pct = winner_percentages.max()\n",
    "\n",
    "print(f\"The player with the highest winning percentage against top 10 ranked opponents is:\", player_with_highest_win, \"with\", highest_win_pct, \"percent win\")\n",
    "winner_counts\n"
   ]
  },
  {
   "cell_type": "markdown",
   "metadata": {},
   "source": [
    "17. What is the average number of breaks of serve per match? "
   ]
  },
  {
   "cell_type": "markdown",
   "metadata": {},
   "source": [
    "We use the power_df dataframe(for PowerInfo table) that has the information for breaks of matches."
   ]
  },
  {
   "cell_type": "code",
   "execution_count": null,
   "metadata": {},
   "outputs": [
    {
     "name": "stdout",
     "output_type": "stream",
     "text": [
      "the average is:  16.370381495944727\n"
     ]
    }
   ],
   "source": [
    "total_breaks = power_df['break_occurred'].sum()\n",
    "\n",
    "num_matches = power_df['match_id'].nunique()\n",
    "\n",
    "average_breaks_per_match = total_breaks / num_matches\n",
    "print(f\"the average is: \",average_breaks_per_match )"
   ]
  },
  {
   "cell_type": "markdown",
   "metadata": {},
   "source": [
    "EXTRA QUESTION 1- Is there a correlation between a player's experience and their ranking?"
   ]
  },
  {
   "cell_type": "markdown",
   "metadata": {},
   "source": [
    "We use the year that players started to play tennis, substracting it from the current year (2024) and then find the relation with 'current_rank' field for each player. The scatter plot shows that there is a very weak relation between these two parameters."
   ]
  },
  {
   "cell_type": "code",
   "execution_count": null,
   "metadata": {},
   "outputs": [
    {
     "data": {
      "text/html": [
       "<div>\n",
       "<style scoped>\n",
       "    .dataframe tbody tr th:only-of-type {\n",
       "        vertical-align: middle;\n",
       "    }\n",
       "\n",
       "    .dataframe tbody tr th {\n",
       "        vertical-align: top;\n",
       "    }\n",
       "\n",
       "    .dataframe thead th {\n",
       "        text-align: right;\n",
       "    }\n",
       "</style>\n",
       "<table border=\"1\" class=\"dataframe\">\n",
       "  <thead>\n",
       "    <tr style=\"text-align: right;\">\n",
       "      <th></th>\n",
       "      <th>full_name</th>\n",
       "      <th>current_rank</th>\n",
       "      <th>experience</th>\n",
       "    </tr>\n",
       "  </thead>\n",
       "  <tbody>\n",
       "    <tr>\n",
       "      <th>498</th>\n",
       "      <td>Swiatek, Iga</td>\n",
       "      <td>1.0</td>\n",
       "      <td>8.0</td>\n",
       "    </tr>\n",
       "    <tr>\n",
       "      <th>4570</th>\n",
       "      <td>Djokovic, Novak</td>\n",
       "      <td>1.0</td>\n",
       "      <td>21.0</td>\n",
       "    </tr>\n",
       "    <tr>\n",
       "      <th>8</th>\n",
       "      <td>Sabalenka, Aryna</td>\n",
       "      <td>2.0</td>\n",
       "      <td>9.0</td>\n",
       "    </tr>\n",
       "    <tr>\n",
       "      <th>1</th>\n",
       "      <td>Sinner, Jannik</td>\n",
       "      <td>2.0</td>\n",
       "      <td>6.0</td>\n",
       "    </tr>\n",
       "    <tr>\n",
       "      <th>2</th>\n",
       "      <td>Alcaraz, Carlos</td>\n",
       "      <td>3.0</td>\n",
       "      <td>6.0</td>\n",
       "    </tr>\n",
       "    <tr>\n",
       "      <th>...</th>\n",
       "      <td>...</td>\n",
       "      <td>...</td>\n",
       "      <td>...</td>\n",
       "    </tr>\n",
       "    <tr>\n",
       "      <th>5879</th>\n",
       "      <td>Gabashvili, Teimuraz</td>\n",
       "      <td>1272.0</td>\n",
       "      <td>23.0</td>\n",
       "    </tr>\n",
       "    <tr>\n",
       "      <th>4822</th>\n",
       "      <td>Uzhylovsky, Vladimir</td>\n",
       "      <td>1341.0</td>\n",
       "      <td>19.0</td>\n",
       "    </tr>\n",
       "    <tr>\n",
       "      <th>42</th>\n",
       "      <td>Clezar, Guilherme</td>\n",
       "      <td>1365.0</td>\n",
       "      <td>15.0</td>\n",
       "    </tr>\n",
       "    <tr>\n",
       "      <th>3447</th>\n",
       "      <td>Gabashvili, Teimuraz</td>\n",
       "      <td>1452.0</td>\n",
       "      <td>23.0</td>\n",
       "    </tr>\n",
       "    <tr>\n",
       "      <th>3061</th>\n",
       "      <td>Hellum Lilleengen, Lukas</td>\n",
       "      <td>1478.0</td>\n",
       "      <td>5.0</td>\n",
       "    </tr>\n",
       "  </tbody>\n",
       "</table>\n",
       "<p>861 rows × 3 columns</p>\n",
       "</div>"
      ],
      "text/plain": [
       "                     full_name  current_rank  experience\n",
       "498               Swiatek, Iga           1.0         8.0\n",
       "4570           Djokovic, Novak           1.0        21.0\n",
       "8             Sabalenka, Aryna           2.0         9.0\n",
       "1               Sinner, Jannik           2.0         6.0\n",
       "2              Alcaraz, Carlos           3.0         6.0\n",
       "...                        ...           ...         ...\n",
       "5879      Gabashvili, Teimuraz        1272.0        23.0\n",
       "4822      Uzhylovsky, Vladimir        1341.0        19.0\n",
       "42           Clezar, Guilherme        1365.0        15.0\n",
       "3447      Gabashvili, Teimuraz        1452.0        23.0\n",
       "3061  Hellum Lilleengen, Lukas        1478.0         5.0\n",
       "\n",
       "[861 rows x 3 columns]"
      ]
     },
     "execution_count": 69,
     "metadata": {},
     "output_type": "execute_result"
    }
   ],
   "source": [
    "match_home_team_turned_rank_df=match_home_team_df.iloc[:,[17,10,14]]\n",
    "match_away_team_turned_rank_df=match_away_team_df.iloc[:,[17,10,14]]\n",
    "turned_rank_player=pd.concat([match_home_team_turned_rank_df,match_away_team_turned_rank_df])\n",
    "turned_rank_player.drop_duplicates()\n",
    "turned_rank_player.dropna(inplace=True)\n",
    "turned_rank_player['experience'] = 2024-turned_rank_player['turned_pro']\n",
    "turned_rank_player.drop(columns='turned_pro', inplace=True)\n",
    "turned_rank_player.drop_duplicates(inplace=True)\n",
    "turned_rank_player.sort_values('current_rank')"
   ]
  },
  {
   "cell_type": "code",
   "execution_count": null,
   "metadata": {},
   "outputs": [
    {
     "name": "stdout",
     "output_type": "stream",
     "text": [
      "There is a weak correlation between players experience and there rank\n"
     ]
    },
    {
     "data": {
      "text/plain": [
       "Text(0.5, 1.0, 'correlation between players and their ranks')"
      ]
     },
     "execution_count": 71,
     "metadata": {},
     "output_type": "execute_result"
    },
    {
     "data": {
      "image/png": "[encoded data removed]",
      "text/plain": [
       "<Figure size 640x480 with 1 Axes>"
      ]
     },
     "metadata": {},
     "output_type": "display_data"
    }
   ],
   "source": [
    "experience_rank_correlation=turned_rank_player['experience'].corr(turned_rank_player['current_rank'])\n",
    "if experience_rank_correlation < 0.3:\n",
    "    print('There is a weak correlation between players experience and there rank')\n",
    "elif 0.3<experience_rank_correlation<0.5:\n",
    "    print('There is a moderate correlation between players experience and there rank')\n",
    "else:\n",
    "    print('There is a strong correlation between players experience and there rank')\n",
    "\n",
    "plt.scatter(turned_rank_player['experience'],turned_rank_player['current_rank'])\n",
    "plt.xlabel('players experience')\n",
    "plt.ylabel('players current ranks')\n",
    "plt.title('correlation between players experience and their ranks')"
   ]
  },
  {
   "cell_type": "markdown",
   "metadata": {},
   "source": [
    "EXTRA QUESTION 2- Is there a any diffrence between right/left handedness and number of ranking?"
   ]
  },
  {
   "cell_type": "markdown",
   "metadata": {},
   "source": [
    "We groupby players by their playing styles, 'left_handed' or 'right_handed'. Then we compute the average of their rank. The results show that the average rank is better in the 'right_handed' players."
   ]
  },
  {
   "cell_type": "code",
   "execution_count": null,
   "metadata": {},
   "outputs": [
    {
     "name": "stdout",
     "output_type": "stream",
     "text": [
      "Right-handed players have an average ranking of 365.35.\n",
      "Left-handed players have an average ranking of 372.34.\n"
     ]
    }
   ],
   "source": [
    "handedness_ranking = players_concat_df .groupby('plays')['current_rank'].mean()\n",
    "\n",
    "print(f\"Right-handed players have an average ranking of {handedness_ranking['right-handed']:.2f}.\")\n",
    "print(f\"Left-handed players have an average ranking of {handedness_ranking['left-handed']:.2f}.\")"
   ]
  },
  {
   "cell_type": "markdown",
   "metadata": {},
   "source": [
    "EXTRA QUESTION 3- Which three players received the most prize money in tennis matches? \n"
   ]
  },
  {
   "cell_type": "markdown",
   "metadata": {},
   "source": [
    "We use prize field for each player from the home/away team info."
   ]
  },
  {
   "cell_type": "code",
   "execution_count": null,
   "metadata": {},
   "outputs": [
    {
     "data": {
      "text/html": [
       "<div>\n",
       "<style scoped>\n",
       "    .dataframe tbody tr th:only-of-type {\n",
       "        vertical-align: middle;\n",
       "    }\n",
       "\n",
       "    .dataframe tbody tr th {\n",
       "        vertical-align: top;\n",
       "    }\n",
       "\n",
       "    .dataframe thead th {\n",
       "        text-align: right;\n",
       "    }\n",
       "</style>\n",
       "<table border=\"1\" class=\"dataframe\">\n",
       "  <thead>\n",
       "    <tr style=\"text-align: right;\">\n",
       "      <th></th>\n",
       "      <th>total_prize</th>\n",
       "    </tr>\n",
       "    <tr>\n",
       "      <th>full_name</th>\n",
       "      <th></th>\n",
       "    </tr>\n",
       "  </thead>\n",
       "  <tbody>\n",
       "    <tr>\n",
       "      <th>Djokovic, Novak</th>\n",
       "      <td>455008686.0</td>\n",
       "    </tr>\n",
       "    <tr>\n",
       "      <th>Nadal, Rafael</th>\n",
       "      <td>224653134.0</td>\n",
       "    </tr>\n",
       "    <tr>\n",
       "      <th>Murray, Andy</th>\n",
       "      <td>107560350.0</td>\n",
       "    </tr>\n",
       "  </tbody>\n",
       "</table>\n",
       "</div>"
      ],
      "text/plain": [
       "                 total_prize\n",
       "full_name                   \n",
       "Djokovic, Novak  455008686.0\n",
       "Nadal, Rafael    224653134.0\n",
       "Murray, Andy     107560350.0"
      ]
     },
     "execution_count": 41,
     "metadata": {},
     "output_type": "execute_result"
    }
   ],
   "source": [
    "country_total_prize=pd.concat([match_away_team_df[['full_name','total_prize']],match_home_team_df[['full_name','total_prize']]]).drop_duplicates()\n",
    "country_total_prize.groupby('full_name').sum().sort_values('total_prize',ascending=False).iloc[0:3,:]"
   ]
  },
  {
   "cell_type": "markdown",
   "metadata": {},
   "source": [
    "EXTRA QUESTION 4- How does the average number of winners per match differ between hard and clay court surfaces?"
   ]
  },
  {
   "cell_type": "markdown",
   "metadata": {},
   "source": [
    "The results got from the merge of event_df and tournament_df. We then group the result by the ground type and obtain the winner code for each type. Results shows that 'Red clay' ground provides more winners in compare with 'HardCourt outdoor'."
   ]
  },
  {
   "cell_type": "code",
   "execution_count": null,
   "metadata": {},
   "outputs": [
    {
     "data": {
      "image/png": "[encoded data removed]",
      "text/plain": [
       "<Figure size 640x480 with 1 Axes>"
      ]
     },
     "metadata": {},
     "output_type": "display_data"
    }
   ],
   "source": [
    "df_combined = pd.merge(event_df, tournament_df, on='match_id')\n",
    "surface_winners = df_combined.groupby('ground_type')['winner_code'].mean()\n",
    "\n",
    "surface_winners.plot(kind='bar')\n",
    "plt.xlabel('Surface')\n",
    "plt.ylabel('Average Winners per Match')\n",
    "plt.title('Winners per Match by Surface')\n",
    "plt.show()\n"
   ]
  },
  {
   "cell_type": "markdown",
   "metadata": {},
   "source": [
    "EXTRA QUESTION 5- What is the number of winning matches for each player?"
   ]
  },
  {
   "cell_type": "markdown",
   "metadata": {},
   "source": [
    "We use the produced results before we had in questions 5 and 16. We just print the results."
   ]
  },
  {
   "cell_type": "code",
   "execution_count": null,
   "metadata": {},
   "outputs": [
    {
     "data": {
      "text/plain": [
       "Uchijima M.       15\n",
       "Sherif M.         13\n",
       "Sun F.            12\n",
       "Urhobo A.         12\n",
       "Wiskandt M.       12\n",
       "                  ..\n",
       "Shimabukuro S.     1\n",
       "Di Natale G.       1\n",
       "Puskar S.          1\n",
       "Bol J.             1\n",
       "Zaar L.            1\n",
       "Name: winner_name, Length: 1623, dtype: int64"
      ]
     },
     "execution_count": 157,
     "metadata": {},
     "output_type": "execute_result"
    }
   ],
   "source": [
    "player_winner_loser.drop_duplicates(inplace=True)\n",
    "winner_player=player_winner_loser['winner_name'].value_counts()\n",
    "\n",
    "winner_player\n"
   ]
  },
  {
   "cell_type": "markdown",
   "metadata": {},
   "source": [
    "For example Uchijima M. won 15 times in matches."
   ]
  },
  {
   "cell_type": "markdown",
   "metadata": {},
   "source": [
    "EXTRA QUESTION 6- Which country has the most number of players? "
   ]
  },
  {
   "cell_type": "markdown",
   "metadata": {},
   "source": [
    "Again we group by matches with the 'country' field in the concatenation of home/away teams info we can get the correct result."
   ]
  },
  {
   "cell_type": "code",
   "execution_count": null,
   "metadata": {},
   "outputs": [
    {
     "name": "stdout",
     "output_type": "stream",
     "text": [
      "The country with the most number of players is USA with 208 players.\n"
     ]
    },
    {
     "data": {
      "text/plain": [
       "country\n",
       "USA                         208\n",
       "Italy                       181\n",
       "France                      153\n",
       "Japan                       122\n",
       "Russia                      118\n",
       "                           ... \n",
       "Malta                         1\n",
       "New Caledonia                 1\n",
       "Senegal                       1\n",
       "Northern Mariana Islands      1\n",
       "Kyrgyzstan                    1\n",
       "Name: player_id, Length: 97, dtype: int64"
      ]
     },
     "execution_count": 76,
     "metadata": {},
     "output_type": "execute_result"
    }
   ],
   "source": [
    "player_counts = players_concat_df.groupby('country')['player_id'].nunique()\n",
    "player_counts\n",
    "\n",
    "top_country = player_counts.idxmax()\n",
    "num_players = player_counts.max()\n",
    "\n",
    "print(f\"The country with the most number of players is {top_country} with {num_players} players.\")\n",
    "player_counts.sort_values(ascending=False)"
   ]
  },
  {
   "cell_type": "markdown",
   "metadata": {},
   "source": [
    "EXTRA QUESTION 7- Is there a correlation between Height and weight ratio and ranking value?"
   ]
  },
  {
   "cell_type": "markdown",
   "metadata": {},
   "source": [
    "We compute the correlation of BMI of players and their current ranking. Again we use the home/away team info to get the results."
   ]
  },
  {
   "cell_type": "code",
   "execution_count": null,
   "metadata": {},
   "outputs": [
    {
     "data": {
      "text/html": [
       "<div>\n",
       "<style scoped>\n",
       "    .dataframe tbody tr th:only-of-type {\n",
       "        vertical-align: middle;\n",
       "    }\n",
       "\n",
       "    .dataframe tbody tr th {\n",
       "        vertical-align: top;\n",
       "    }\n",
       "\n",
       "    .dataframe thead th {\n",
       "        text-align: right;\n",
       "    }\n",
       "</style>\n",
       "<table border=\"1\" class=\"dataframe\">\n",
       "  <thead>\n",
       "    <tr style=\"text-align: right;\">\n",
       "      <th></th>\n",
       "      <th>player_id</th>\n",
       "      <th>gender</th>\n",
       "      <th>height</th>\n",
       "      <th>weight</th>\n",
       "      <th>current_rank</th>\n",
       "      <th>BMI</th>\n",
       "    </tr>\n",
       "  </thead>\n",
       "  <tbody>\n",
       "    <tr>\n",
       "      <th>4570</th>\n",
       "      <td>14882</td>\n",
       "      <td>M</td>\n",
       "      <td>1.88</td>\n",
       "      <td>77.0</td>\n",
       "      <td>1.0</td>\n",
       "      <td>0.002179</td>\n",
       "    </tr>\n",
       "    <tr>\n",
       "      <th>1</th>\n",
       "      <td>206570</td>\n",
       "      <td>M</td>\n",
       "      <td>1.88</td>\n",
       "      <td>68.0</td>\n",
       "      <td>2.0</td>\n",
       "      <td>0.001924</td>\n",
       "    </tr>\n",
       "    <tr>\n",
       "      <th>2</th>\n",
       "      <td>275923</td>\n",
       "      <td>M</td>\n",
       "      <td>1.83</td>\n",
       "      <td>68.0</td>\n",
       "      <td>3.0</td>\n",
       "      <td>0.002031</td>\n",
       "    </tr>\n",
       "    <tr>\n",
       "      <th>6761</th>\n",
       "      <td>57163</td>\n",
       "      <td>M</td>\n",
       "      <td>1.98</td>\n",
       "      <td>90.0</td>\n",
       "      <td>4.0</td>\n",
       "      <td>0.002296</td>\n",
       "    </tr>\n",
       "    <tr>\n",
       "      <th>497</th>\n",
       "      <td>163504</td>\n",
       "      <td>M</td>\n",
       "      <td>1.98</td>\n",
       "      <td>83.0</td>\n",
       "      <td>4.0</td>\n",
       "      <td>0.002117</td>\n",
       "    </tr>\n",
       "    <tr>\n",
       "      <th>...</th>\n",
       "      <td>...</td>\n",
       "      <td>...</td>\n",
       "      <td>...</td>\n",
       "      <td>...</td>\n",
       "      <td>...</td>\n",
       "      <td>...</td>\n",
       "    </tr>\n",
       "    <tr>\n",
       "      <th>7245</th>\n",
       "      <td>214341</td>\n",
       "      <td>M</td>\n",
       "      <td>1.88</td>\n",
       "      <td>78.0</td>\n",
       "      <td>1496.0</td>\n",
       "      <td>0.002207</td>\n",
       "    </tr>\n",
       "    <tr>\n",
       "      <th>3393</th>\n",
       "      <td>198203</td>\n",
       "      <td>M</td>\n",
       "      <td>1.93</td>\n",
       "      <td>88.0</td>\n",
       "      <td>1497.0</td>\n",
       "      <td>0.002362</td>\n",
       "    </tr>\n",
       "    <tr>\n",
       "      <th>6071</th>\n",
       "      <td>214341</td>\n",
       "      <td>M</td>\n",
       "      <td>1.88</td>\n",
       "      <td>78.0</td>\n",
       "      <td>1499.0</td>\n",
       "      <td>0.002207</td>\n",
       "    </tr>\n",
       "    <tr>\n",
       "      <th>1343</th>\n",
       "      <td>63222</td>\n",
       "      <td>M</td>\n",
       "      <td>1.85</td>\n",
       "      <td>77.0</td>\n",
       "      <td>1500.0</td>\n",
       "      <td>0.002250</td>\n",
       "    </tr>\n",
       "    <tr>\n",
       "      <th>10766</th>\n",
       "      <td>166096</td>\n",
       "      <td>M</td>\n",
       "      <td>1.88</td>\n",
       "      <td>87.0</td>\n",
       "      <td>1578.0</td>\n",
       "      <td>0.002462</td>\n",
       "    </tr>\n",
       "  </tbody>\n",
       "</table>\n",
       "<p>1184 rows × 6 columns</p>\n",
       "</div>"
      ],
      "text/plain": [
       "       player_id gender  height  weight  current_rank       BMI\n",
       "4570       14882      M    1.88    77.0           1.0  0.002179\n",
       "1         206570      M    1.88    68.0           2.0  0.001924\n",
       "2         275923      M    1.83    68.0           3.0  0.002031\n",
       "6761       57163      M    1.98    90.0           4.0  0.002296\n",
       "497       163504      M    1.98    83.0           4.0  0.002117\n",
       "...          ...    ...     ...     ...           ...       ...\n",
       "7245      214341      M    1.88    78.0        1496.0  0.002207\n",
       "3393      198203      M    1.93    88.0        1497.0  0.002362\n",
       "6071      214341      M    1.88    78.0        1499.0  0.002207\n",
       "1343       63222      M    1.85    77.0        1500.0  0.002250\n",
       "10766     166096      M    1.88    87.0        1578.0  0.002462\n",
       "\n",
       "[1184 rows x 6 columns]"
      ]
     },
     "execution_count": 139,
     "metadata": {},
     "output_type": "execute_result"
    }
   ],
   "source": [
    "match_home_rank_df=match_home_team_df.iloc[:,[13,3,7,8,14]]\n",
    "match_away_rank_df=match_away_team_df.iloc[:,[13,3,7,8,14]]\n",
    "height_weight_rank_player=pd.concat([match_home_rank_df,match_away_rank_df])\n",
    "height_weight_rank_player.dropna(inplace=True)\n",
    "height_weight_rank_player.drop_duplicates(inplace=True)\n",
    "\n",
    "height_weight_rank_player['BMI']=(height_weight_rank_player['weight'])/((height_weight_rank_player['height']*100)**2)\n",
    "height_weight_rank_player.sort_values('current_rank')"
   ]
  },
  {
   "cell_type": "code",
   "execution_count": null,
   "metadata": {},
   "outputs": [
    {
     "name": "stdout",
     "output_type": "stream",
     "text": [
      "There is a weak correlation between players BMI and their rank\n"
     ]
    },
    {
     "data": {
      "image/png": "[encoded data removed]",
      "text/plain": [
       "<Figure size 640x480 with 1 Axes>"
      ]
     },
     "metadata": {},
     "output_type": "display_data"
    },
    {
     "data": {
      "image/png": "[encoded data removed]",
      "text/plain": [
       "<Figure size 640x480 with 1 Axes>"
      ]
     },
     "metadata": {},
     "output_type": "display_data"
    }
   ],
   "source": [
    "BMI_rank_correlation=height_weight_rank_player['BMI'].corr(height_weight_rank_player['current_rank'])\n",
    "if BMI_rank_correlation <0.3:\n",
    "    print('There is a weak correlation between players BMI and their rank')\n",
    "elif 0.3<BMI_rank_correlation<0.5:\n",
    "    print('There is a moderate correlation between players BMI and their rank')\n",
    "else:\n",
    "    print('There is a strong correlation between players BMI and their rank')\n",
    "\n",
    "# Scatter plot before remove outliers\n",
    "plt.scatter(height_weight_rank_player['BMI'],height_weight_rank_player['current_rank'])\n",
    "Q1 = height_weight_rank_player['BMI'].quantile(0.25)\n",
    "Q3 = height_weight_rank_player['BMI'].quantile(0.75)\n",
    "IQR = Q3 - Q1\n",
    "height_weight_rank_player = height_weight_rank_player[~((height_weight_rank_player['BMI'] < (Q1 - 1.5 * IQR)) | (height_weight_rank_player['BMI'] > (Q3 + 1.5 * IQR)))]\n",
    "plt.show()\n",
    "#Scatter plot after remove outliers\n",
    "plt.scatter(height_weight_rank_player['BMI'],height_weight_rank_player['current_rank'])\n",
    "plt.show()\n"
   ]
  },
  {
   "cell_type": "markdown",
   "metadata": {},
   "source": [
    "EXTRA QUESTION 8- Find the distribution of the 'current_score' values in the df_home_score and df_away_score DataFrames."
   ]
  },
  {
   "cell_type": "markdown",
   "metadata": {},
   "source": [
    "According to the results the 'current_score' distribution is not normal. It has right skewness."
   ]
  },
  {
   "cell_type": "code",
   "execution_count": null,
   "metadata": {},
   "outputs": [
    {
     "data": {
      "image/png": "[encoded data removed]",
      "text/plain": [
       "<Figure size 1200x600 with 2 Axes>"
      ]
     },
     "metadata": {},
     "output_type": "display_data"
    }
   ],
   "source": [
    "plt.figure(figsize=(12, 6))\n",
    "\n",
    "plt.subplot(1, 2, 1)\n",
    "home_score_df['current_score'].value_counts().plot(kind='bar')\n",
    "plt.xlabel('Home Team Current Score')\n",
    "plt.ylabel('Count')\n",
    "plt.title('Distribution of Home Team Current Score')\n",
    "\n",
    "plt.subplot(1, 2, 2)\n",
    "away_score_df['current_score'].value_counts().plot(kind='bar')\n",
    "plt.xlabel('Away Team Current Score')\n",
    "plt.ylabel('Count')\n",
    "plt.title('Distribution of Away Team Current Score')\n",
    "\n",
    "plt.tight_layout()\n",
    "plt.show()\n"
   ]
  },
  {
   "cell_type": "markdown",
   "metadata": {},
   "source": [
    "The plots show that the distribution of the 'current_score' in both away_score df and home_score df is not normal. "
   ]
  }
 ],
 "metadata": {
  "kernelspec": {
   "display_name": "Python 3.7.4 64-bit",
   "language": "python",
   "name": "python3"
  },
  "language_info": {
   "codemirror_mode": {
    "name": "ipython",
    "version": 3
   },
   "file_extension": ".py",
   "mimetype": "text/x-python",
   "name": "python",
   "nbconvert_exporter": "python",
   "pygments_lexer": "ipython3",
   "version": "3.12.2"
  },
  "vscode": {
   "interpreter": {
    "hash": "bde6fc399266906b8fa43676a495a4d5179afc8ff02e09ff2193156498759610"
   }
  }
 },
 "nbformat": 4,
 "nbformat_minor": 2
}
