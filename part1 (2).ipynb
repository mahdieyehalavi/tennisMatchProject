{
 "cells": [
  {
   "cell_type": "code",
   "execution_count": 20,
   "metadata": {},
   "outputs": [],
   "source": [
    "import numpy as np\n",
    "import pandas as pd\n",
    "import scipy.stats as stats\n",
    "from scipy.stats import mannwhitneyu\n",
    "from scipy.stats import ttest_ind\n",
    "import matplotlib.pyplot as plt\n",
    "import seaborn as sns"
   ]
  },
  {
   "cell_type": "markdown",
   "metadata": {},
   "source": [
    "Read the data and save it in a data frame type."
   ]
  },
  {
   "cell_type": "code",
   "execution_count": 21,
   "metadata": {},
   "outputs": [],
   "source": [
    "match_away_team_df=pd.read_csv('MatchAwayTeamInfo.csv')\n",
    "match_home_team_df=pd.read_csv('MatchHomeTeamInfo.csv')\n",
    "event_df = pd.read_csv('MatchEventInfo.csv')\n",
    "match_time_df=pd.read_csv('MatchTimeInfo.csv')\n",
    "period_df=pd.read_csv('PeriodInfo.csv')\n",
    "tournament_df=pd.read_csv('MatchTournamentInfo.csv')"
   ]
  },
  {
   "cell_type": "markdown",
   "metadata": {},
   "source": [
    "Remove missing values from data using forward fill strategy."
   ]
  },
  {
   "cell_type": "markdown",
   "metadata": {},
   "source": [
    "1- Get the number of players from the MatchHomeTeamInfo(df) and MatchAwayTeamInfo(df1)."
   ]
  },
  {
   "cell_type": "code",
   "execution_count": 22,
   "metadata": {},
   "outputs": [
    {
     "name": "stdout",
     "output_type": "stream",
     "text": [
      "Total number of players: 2039\n"
     ]
    }
   ],
   "source": [
    "all_player_ids = pd.concat([match_away_team_df['player_id'], match_home_team_df['player_id']])\n",
    "num_players = len(all_player_ids.unique())\n",
    "print(\"Total number of players:\",num_players)\n"
   ]
  },
  {
   "cell_type": "markdown",
   "metadata": {},
   "source": [
    "2. What is the average height of the players?"
   ]
  },
  {
   "cell_type": "code",
   "execution_count": 23,
   "metadata": {},
   "outputs": [
    {
     "name": "stdout",
     "output_type": "stream",
     "text": [
      "Average height of players: 1.8189373183893733\n"
     ]
    }
   ],
   "source": [
    "\n",
    "height_player_mean=pd.concat([match_away_team_df['height'],match_home_team_df['height']]).mean()\n",
    "print(\"Average height of players:\",height_player_mean)"
   ]
  },
  {
   "cell_type": "markdown",
   "metadata": {},
   "source": [
    "According to the given information, the average height of the players in this series of matches is 1.82"
   ]
  },
  {
   "cell_type": "markdown",
   "metadata": {},
   "source": [
    "3. Which player has the highest number of wins?"
   ]
  },
  {
   "cell_type": "code",
   "execution_count": 24,
   "metadata": {},
   "outputs": [
    {
     "data": {
      "text/html": [
       "<div>\n",
       "<style scoped>\n",
       "    .dataframe tbody tr th:only-of-type {\n",
       "        vertical-align: middle;\n",
       "    }\n",
       "\n",
       "    .dataframe tbody tr th {\n",
       "        vertical-align: top;\n",
       "    }\n",
       "\n",
       "    .dataframe thead th {\n",
       "        text-align: right;\n",
       "    }\n",
       "</style>\n",
       "<table border=\"1\" class=\"dataframe\">\n",
       "  <thead>\n",
       "    <tr style=\"text-align: right;\">\n",
       "      <th></th>\n",
       "      <th>match_id</th>\n",
       "      <th>winner_code</th>\n",
       "    </tr>\n",
       "  </thead>\n",
       "  <tbody>\n",
       "    <tr>\n",
       "      <th>1</th>\n",
       "      <td>12260076</td>\n",
       "      <td>1.0</td>\n",
       "    </tr>\n",
       "    <tr>\n",
       "      <th>2</th>\n",
       "      <td>12260077</td>\n",
       "      <td>2.0</td>\n",
       "    </tr>\n",
       "    <tr>\n",
       "      <th>3</th>\n",
       "      <td>12260078</td>\n",
       "      <td>1.0</td>\n",
       "    </tr>\n",
       "    <tr>\n",
       "      <th>4</th>\n",
       "      <td>12260080</td>\n",
       "      <td>1.0</td>\n",
       "    </tr>\n",
       "    <tr>\n",
       "      <th>5</th>\n",
       "      <td>12260081</td>\n",
       "      <td>1.0</td>\n",
       "    </tr>\n",
       "    <tr>\n",
       "      <th>...</th>\n",
       "      <td>...</td>\n",
       "      <td>...</td>\n",
       "    </tr>\n",
       "    <tr>\n",
       "      <th>20278</th>\n",
       "      <td>12346486</td>\n",
       "      <td>2.0</td>\n",
       "    </tr>\n",
       "    <tr>\n",
       "      <th>20288</th>\n",
       "      <td>12360758</td>\n",
       "      <td>1.0</td>\n",
       "    </tr>\n",
       "    <tr>\n",
       "      <th>20289</th>\n",
       "      <td>12360760</td>\n",
       "      <td>2.0</td>\n",
       "    </tr>\n",
       "    <tr>\n",
       "      <th>20295</th>\n",
       "      <td>12361503</td>\n",
       "      <td>1.0</td>\n",
       "    </tr>\n",
       "    <tr>\n",
       "      <th>20297</th>\n",
       "      <td>12361506</td>\n",
       "      <td>1.0</td>\n",
       "    </tr>\n",
       "  </tbody>\n",
       "</table>\n",
       "<p>1324 rows × 2 columns</p>\n",
       "</div>"
      ],
      "text/plain": [
       "       match_id  winner_code\n",
       "1      12260076          1.0\n",
       "2      12260077          2.0\n",
       "3      12260078          1.0\n",
       "4      12260080          1.0\n",
       "5      12260081          1.0\n",
       "...         ...          ...\n",
       "20278  12346486          2.0\n",
       "20288  12360758          1.0\n",
       "20289  12360760          2.0\n",
       "20295  12361503          1.0\n",
       "20297  12361506          1.0\n",
       "\n",
       "[1324 rows x 2 columns]"
      ]
     },
     "execution_count": 24,
     "metadata": {},
     "output_type": "execute_result"
    }
   ],
   "source": [
    "event_df.dropna(inplace=True)\n",
    "winner_df=event_df[['match_id','winner_code']]\n",
    "winner_df"
   ]
  },
  {
   "cell_type": "code",
   "execution_count": 25,
   "metadata": {},
   "outputs": [
    {
     "data": {
      "text/html": [
       "<div>\n",
       "<style scoped>\n",
       "    .dataframe tbody tr th:only-of-type {\n",
       "        vertical-align: middle;\n",
       "    }\n",
       "\n",
       "    .dataframe tbody tr th {\n",
       "        vertical-align: top;\n",
       "    }\n",
       "\n",
       "    .dataframe thead th {\n",
       "        text-align: right;\n",
       "    }\n",
       "</style>\n",
       "<table border=\"1\" class=\"dataframe\">\n",
       "  <thead>\n",
       "    <tr style=\"text-align: right;\">\n",
       "      <th></th>\n",
       "      <th>match_id</th>\n",
       "      <th>name_player1</th>\n",
       "      <th>name_player2</th>\n",
       "    </tr>\n",
       "  </thead>\n",
       "  <tbody>\n",
       "    <tr>\n",
       "      <th>0</th>\n",
       "      <td>12260075</td>\n",
       "      <td>Lehečka J.</td>\n",
       "      <td>Lehečka J.</td>\n",
       "    </tr>\n",
       "    <tr>\n",
       "      <th>1</th>\n",
       "      <td>12260076</td>\n",
       "      <td>Khachanov K.</td>\n",
       "      <td>Khachanov K.</td>\n",
       "    </tr>\n",
       "    <tr>\n",
       "      <th>2</th>\n",
       "      <td>12260077</td>\n",
       "      <td>Alcaraz C.</td>\n",
       "      <td>Alcaraz C.</td>\n",
       "    </tr>\n",
       "    <tr>\n",
       "      <th>3</th>\n",
       "      <td>12260078</td>\n",
       "      <td>Alcaraz C.</td>\n",
       "      <td>Alcaraz C.</td>\n",
       "    </tr>\n",
       "    <tr>\n",
       "      <th>4</th>\n",
       "      <td>12260078</td>\n",
       "      <td>Alcaraz C.</td>\n",
       "      <td>Alcaraz C.</td>\n",
       "    </tr>\n",
       "    <tr>\n",
       "      <th>...</th>\n",
       "      <td>...</td>\n",
       "      <td>...</td>\n",
       "      <td>...</td>\n",
       "    </tr>\n",
       "    <tr>\n",
       "      <th>31141</th>\n",
       "      <td>12384975</td>\n",
       "      <td>Șerban R.</td>\n",
       "      <td>Șerban R.</td>\n",
       "    </tr>\n",
       "    <tr>\n",
       "      <th>31142</th>\n",
       "      <td>12385017</td>\n",
       "      <td>Pedretti T.</td>\n",
       "      <td>Pedretti T.</td>\n",
       "    </tr>\n",
       "    <tr>\n",
       "      <th>31143</th>\n",
       "      <td>12385869</td>\n",
       "      <td>Fukuda S.</td>\n",
       "      <td>Fukuda S.</td>\n",
       "    </tr>\n",
       "    <tr>\n",
       "      <th>31144</th>\n",
       "      <td>12385873</td>\n",
       "      <td>Uchida K.</td>\n",
       "      <td>Uchida K.</td>\n",
       "    </tr>\n",
       "    <tr>\n",
       "      <th>31145</th>\n",
       "      <td>12386383</td>\n",
       "      <td>Lepchenko V.</td>\n",
       "      <td>Lepchenko V.</td>\n",
       "    </tr>\n",
       "  </tbody>\n",
       "</table>\n",
       "<p>31146 rows × 3 columns</p>\n",
       "</div>"
      ],
      "text/plain": [
       "       match_id  name_player1  name_player2\n",
       "0      12260075    Lehečka J.    Lehečka J.\n",
       "1      12260076  Khachanov K.  Khachanov K.\n",
       "2      12260077    Alcaraz C.    Alcaraz C.\n",
       "3      12260078    Alcaraz C.    Alcaraz C.\n",
       "4      12260078    Alcaraz C.    Alcaraz C.\n",
       "...         ...           ...           ...\n",
       "31141  12384975     Șerban R.     Șerban R.\n",
       "31142  12385017   Pedretti T.   Pedretti T.\n",
       "31143  12385869     Fukuda S.     Fukuda S.\n",
       "31144  12385873     Uchida K.     Uchida K.\n",
       "31145  12386383  Lepchenko V.  Lepchenko V.\n",
       "\n",
       "[31146 rows x 3 columns]"
      ]
     },
     "execution_count": 25,
     "metadata": {},
     "output_type": "execute_result"
    }
   ],
   "source": [
    "merged_player= pd.merge(match_away_team_df, match_home_team_df, on='match_id',how='inner', suffixes=('_player1', '_player2'))\n",
    "merged_player =merged_player [['match_id','name_player1', 'name_player2']]\n",
    "merged_player"
   ]
  },
  {
   "cell_type": "code",
   "execution_count": 26,
   "metadata": {},
   "outputs": [
    {
     "name": "stdout",
     "output_type": "stream",
     "text": [
      "The player who wins the most matches is: Monteiro T.\n"
     ]
    }
   ],
   "source": [
    "playerWinner = pd.merge(merged_player , winner_df, on='match_id', how='inner')\n",
    "playerWinner['winner_name'] = playerWinner.apply(lambda row: row['name_player1'] if row['winner_code'] == 1.0 else row['name_player2'], axis=1)\n",
    "\n",
    "# Determine which player wins the most matches\n",
    "winner_counts = playerWinner['winner_name'].value_counts()\n",
    "print(\"The player who wins the most matches is:\", winner_counts.idxmax())\n"
   ]
  },
  {
   "cell_type": "markdown",
   "metadata": {},
   "source": [
    "4. What is the longest match recorded in terms of duration?"
   ]
  },
  {
   "cell_type": "code",
   "execution_count": 27,
   "metadata": {},
   "outputs": [],
   "source": [
    "match_time_df.fillna(0,inplace=True)\n",
    "match_time_df.drop_duplicates(inplace=True)"
   ]
  },
  {
   "cell_type": "code",
   "execution_count": 28,
   "metadata": {},
   "outputs": [
    {
     "data": {
      "text/html": [
       "<div>\n",
       "<style scoped>\n",
       "    .dataframe tbody tr th:only-of-type {\n",
       "        vertical-align: middle;\n",
       "    }\n",
       "\n",
       "    .dataframe tbody tr th {\n",
       "        vertical-align: top;\n",
       "    }\n",
       "\n",
       "    .dataframe thead th {\n",
       "        text-align: right;\n",
       "    }\n",
       "</style>\n",
       "<table border=\"1\" class=\"dataframe\">\n",
       "  <thead>\n",
       "    <tr style=\"text-align: right;\">\n",
       "      <th></th>\n",
       "      <th>match_id</th>\n",
       "      <th>period_1</th>\n",
       "      <th>period_2</th>\n",
       "      <th>period_3</th>\n",
       "      <th>period_4</th>\n",
       "      <th>period_5</th>\n",
       "      <th>current_period_start_timestamp</th>\n",
       "      <th>sumation_time_periods_match</th>\n",
       "    </tr>\n",
       "  </thead>\n",
       "  <tbody>\n",
       "    <tr>\n",
       "      <th>0</th>\n",
       "      <td>12260075</td>\n",
       "      <td>3463.0</td>\n",
       "      <td>3855.0</td>\n",
       "      <td>0.0</td>\n",
       "      <td>0.0</td>\n",
       "      <td>0.0</td>\n",
       "      <td>1.714511e+09</td>\n",
       "      <td>7318.0</td>\n",
       "    </tr>\n",
       "    <tr>\n",
       "      <th>1</th>\n",
       "      <td>12260076</td>\n",
       "      <td>3032.0</td>\n",
       "      <td>2121.0</td>\n",
       "      <td>2674.0</td>\n",
       "      <td>0.0</td>\n",
       "      <td>0.0</td>\n",
       "      <td>1.714492e+09</td>\n",
       "      <td>7827.0</td>\n",
       "    </tr>\n",
       "    <tr>\n",
       "      <th>2</th>\n",
       "      <td>12260077</td>\n",
       "      <td>2747.0</td>\n",
       "      <td>3525.0</td>\n",
       "      <td>4074.0</td>\n",
       "      <td>0.0</td>\n",
       "      <td>0.0</td>\n",
       "      <td>1.714492e+09</td>\n",
       "      <td>10346.0</td>\n",
       "    </tr>\n",
       "    <tr>\n",
       "      <th>3</th>\n",
       "      <td>12260078</td>\n",
       "      <td>2519.0</td>\n",
       "      <td>2531.0</td>\n",
       "      <td>2121.0</td>\n",
       "      <td>0.0</td>\n",
       "      <td>0.0</td>\n",
       "      <td>1.714578e+09</td>\n",
       "      <td>7171.0</td>\n",
       "    </tr>\n",
       "    <tr>\n",
       "      <th>4</th>\n",
       "      <td>12260080</td>\n",
       "      <td>2616.0</td>\n",
       "      <td>2766.0</td>\n",
       "      <td>0.0</td>\n",
       "      <td>0.0</td>\n",
       "      <td>0.0</td>\n",
       "      <td>1.714483e+09</td>\n",
       "      <td>5382.0</td>\n",
       "    </tr>\n",
       "  </tbody>\n",
       "</table>\n",
       "</div>"
      ],
      "text/plain": [
       "   match_id  period_1  period_2  period_3  period_4  period_5  \\\n",
       "0  12260075    3463.0    3855.0       0.0       0.0       0.0   \n",
       "1  12260076    3032.0    2121.0    2674.0       0.0       0.0   \n",
       "2  12260077    2747.0    3525.0    4074.0       0.0       0.0   \n",
       "3  12260078    2519.0    2531.0    2121.0       0.0       0.0   \n",
       "4  12260080    2616.0    2766.0       0.0       0.0       0.0   \n",
       "\n",
       "   current_period_start_timestamp  sumation_time_periods_match  \n",
       "0                    1.714511e+09                       7318.0  \n",
       "1                    1.714492e+09                       7827.0  \n",
       "2                    1.714492e+09                      10346.0  \n",
       "3                    1.714578e+09                       7171.0  \n",
       "4                    1.714483e+09                       5382.0  "
      ]
     },
     "execution_count": 28,
     "metadata": {},
     "output_type": "execute_result"
    }
   ],
   "source": [
    "\n",
    "match_time_df['sumation_time_periods_match']=match_time_df.iloc[:,[1,2,3,4,5]].sum(axis=1)\n",
    "match_time_df.head()"
   ]
  },
  {
   "cell_type": "code",
   "execution_count": 29,
   "metadata": {},
   "outputs": [
    {
     "data": {
      "text/html": [
       "<div>\n",
       "<style scoped>\n",
       "    .dataframe tbody tr th:only-of-type {\n",
       "        vertical-align: middle;\n",
       "    }\n",
       "\n",
       "    .dataframe tbody tr th {\n",
       "        vertical-align: top;\n",
       "    }\n",
       "\n",
       "    .dataframe thead th {\n",
       "        text-align: right;\n",
       "    }\n",
       "</style>\n",
       "<table border=\"1\" class=\"dataframe\">\n",
       "  <thead>\n",
       "    <tr style=\"text-align: right;\">\n",
       "      <th></th>\n",
       "      <th>match_id</th>\n",
       "      <th>period_1</th>\n",
       "      <th>period_2</th>\n",
       "      <th>period_3</th>\n",
       "      <th>period_4</th>\n",
       "      <th>period_5</th>\n",
       "      <th>current_period_start_timestamp</th>\n",
       "      <th>sumation_time_periods_match</th>\n",
       "    </tr>\n",
       "  </thead>\n",
       "  <tbody>\n",
       "    <tr>\n",
       "      <th>13350</th>\n",
       "      <td>12346747</td>\n",
       "      <td>167761.0</td>\n",
       "      <td>3392.0</td>\n",
       "      <td>0.0</td>\n",
       "      <td>0.0</td>\n",
       "      <td>0.0</td>\n",
       "      <td>1.716382e+09</td>\n",
       "      <td>171153.0</td>\n",
       "    </tr>\n",
       "  </tbody>\n",
       "</table>\n",
       "</div>"
      ],
      "text/plain": [
       "       match_id  period_1  period_2  period_3  period_4  period_5  \\\n",
       "13350  12346747  167761.0    3392.0       0.0       0.0       0.0   \n",
       "\n",
       "       current_period_start_timestamp  sumation_time_periods_match  \n",
       "13350                    1.716382e+09                     171153.0  "
      ]
     },
     "execution_count": 29,
     "metadata": {},
     "output_type": "execute_result"
    }
   ],
   "source": [
    "longest_time=match_time_df['sumation_time_periods_match'].max()\n",
    "longest_match=match_time_df.loc[(match_time_df['sumation_time_periods_match']==longest_time),:]\n",
    "longest_match"
   ]
  },
  {
   "cell_type": "markdown",
   "metadata": {},
   "source": [
    "According to the given information ,the longest match recorded in terms of duration is the match with match-id:12346747 with 171153ps or 16h"
   ]
  },
  {
   "cell_type": "markdown",
   "metadata": {},
   "source": [
    "5. How many sets are typically played in a tennis match?"
   ]
  },
  {
   "cell_type": "code",
   "execution_count": 30,
   "metadata": {},
   "outputs": [
    {
     "name": "stdout",
     "output_type": "stream",
     "text": [
      "match_id\n",
      "12260075    2\n",
      "12260076    3\n",
      "12260077    3\n",
      "12260078    3\n",
      "12260080    2\n",
      "           ..\n",
      "12384789    2\n",
      "12384806    3\n",
      "12384892    2\n",
      "12384975    3\n",
      "12385017    3\n",
      "Name: set_num, Length: 6658, dtype: int64\n"
     ]
    }
   ],
   "source": [
    "power_df = pd.read_csv('PowerInfo.csv')\n",
    "power_df.head()\n",
    "num_sets_per_match = power_df.groupby('match_id')['set_num'].nunique()\n",
    "print(num_sets_per_match)"
   ]
  },
  {
   "cell_type": "markdown",
   "metadata": {},
   "source": [
    "6. Which country has produced the most successful tennis players?"
   ]
  },
  {
   "cell_type": "code",
   "execution_count": 31,
   "metadata": {},
   "outputs": [
    {
     "name": "stdout",
     "output_type": "stream",
     "text": [
      "The player who wins the most matches is: France\n"
     ]
    },
    {
     "data": {
      "text/html": [
       "<div>\n",
       "<style scoped>\n",
       "    .dataframe tbody tr th:only-of-type {\n",
       "        vertical-align: middle;\n",
       "    }\n",
       "\n",
       "    .dataframe tbody tr th {\n",
       "        vertical-align: top;\n",
       "    }\n",
       "\n",
       "    .dataframe thead th {\n",
       "        text-align: right;\n",
       "    }\n",
       "</style>\n",
       "<table border=\"1\" class=\"dataframe\">\n",
       "  <thead>\n",
       "    <tr style=\"text-align: right;\">\n",
       "      <th></th>\n",
       "      <th>match_id</th>\n",
       "      <th>name_player1</th>\n",
       "      <th>name_player2</th>\n",
       "      <th>country_player1</th>\n",
       "      <th>country_player2</th>\n",
       "      <th>winner_code</th>\n",
       "      <th>winner_name</th>\n",
       "      <th>winner_country</th>\n",
       "    </tr>\n",
       "  </thead>\n",
       "  <tbody>\n",
       "    <tr>\n",
       "      <th>0</th>\n",
       "      <td>12260076</td>\n",
       "      <td>Khachanov K.</td>\n",
       "      <td>Khachanov K.</td>\n",
       "      <td>Russia</td>\n",
       "      <td>Russia</td>\n",
       "      <td>1.0</td>\n",
       "      <td>Khachanov K.</td>\n",
       "      <td>Russia</td>\n",
       "    </tr>\n",
       "    <tr>\n",
       "      <th>1</th>\n",
       "      <td>12260077</td>\n",
       "      <td>Alcaraz C.</td>\n",
       "      <td>Alcaraz C.</td>\n",
       "      <td>Spain</td>\n",
       "      <td>Spain</td>\n",
       "      <td>2.0</td>\n",
       "      <td>Alcaraz C.</td>\n",
       "      <td>Spain</td>\n",
       "    </tr>\n",
       "    <tr>\n",
       "      <th>2</th>\n",
       "      <td>12260078</td>\n",
       "      <td>Alcaraz C.</td>\n",
       "      <td>Alcaraz C.</td>\n",
       "      <td>Spain</td>\n",
       "      <td>Spain</td>\n",
       "      <td>1.0</td>\n",
       "      <td>Alcaraz C.</td>\n",
       "      <td>Spain</td>\n",
       "    </tr>\n",
       "    <tr>\n",
       "      <th>3</th>\n",
       "      <td>12260078</td>\n",
       "      <td>Alcaraz C.</td>\n",
       "      <td>Alcaraz C.</td>\n",
       "      <td>Spain</td>\n",
       "      <td>Spain</td>\n",
       "      <td>1.0</td>\n",
       "      <td>Alcaraz C.</td>\n",
       "      <td>Spain</td>\n",
       "    </tr>\n",
       "    <tr>\n",
       "      <th>4</th>\n",
       "      <td>12260078</td>\n",
       "      <td>Alcaraz C.</td>\n",
       "      <td>Alcaraz C.</td>\n",
       "      <td>Spain</td>\n",
       "      <td>Spain</td>\n",
       "      <td>1.0</td>\n",
       "      <td>Alcaraz C.</td>\n",
       "      <td>Spain</td>\n",
       "    </tr>\n",
       "    <tr>\n",
       "      <th>...</th>\n",
       "      <td>...</td>\n",
       "      <td>...</td>\n",
       "      <td>...</td>\n",
       "      <td>...</td>\n",
       "      <td>...</td>\n",
       "      <td>...</td>\n",
       "      <td>...</td>\n",
       "      <td>...</td>\n",
       "    </tr>\n",
       "    <tr>\n",
       "      <th>8137</th>\n",
       "      <td>12361506</td>\n",
       "      <td>Cecchinato M.</td>\n",
       "      <td>Cecchinato M.</td>\n",
       "      <td>Italy</td>\n",
       "      <td>Italy</td>\n",
       "      <td>1.0</td>\n",
       "      <td>Cecchinato M.</td>\n",
       "      <td>Italy</td>\n",
       "    </tr>\n",
       "    <tr>\n",
       "      <th>8138</th>\n",
       "      <td>12361506</td>\n",
       "      <td>Cecchinato M.</td>\n",
       "      <td>Cecchinato M.</td>\n",
       "      <td>Italy</td>\n",
       "      <td>Italy</td>\n",
       "      <td>1.0</td>\n",
       "      <td>Cecchinato M.</td>\n",
       "      <td>Italy</td>\n",
       "    </tr>\n",
       "    <tr>\n",
       "      <th>8139</th>\n",
       "      <td>12361506</td>\n",
       "      <td>Cecchinato M.</td>\n",
       "      <td>Cecchinato M.</td>\n",
       "      <td>Italy</td>\n",
       "      <td>Italy</td>\n",
       "      <td>1.0</td>\n",
       "      <td>Cecchinato M.</td>\n",
       "      <td>Italy</td>\n",
       "    </tr>\n",
       "    <tr>\n",
       "      <th>8140</th>\n",
       "      <td>12361506</td>\n",
       "      <td>Cecchinato M.</td>\n",
       "      <td>Cecchinato M.</td>\n",
       "      <td>Italy</td>\n",
       "      <td>Italy</td>\n",
       "      <td>1.0</td>\n",
       "      <td>Cecchinato M.</td>\n",
       "      <td>Italy</td>\n",
       "    </tr>\n",
       "    <tr>\n",
       "      <th>8141</th>\n",
       "      <td>12361506</td>\n",
       "      <td>Cecchinato M.</td>\n",
       "      <td>Cecchinato M.</td>\n",
       "      <td>Italy</td>\n",
       "      <td>Italy</td>\n",
       "      <td>1.0</td>\n",
       "      <td>Cecchinato M.</td>\n",
       "      <td>Italy</td>\n",
       "    </tr>\n",
       "  </tbody>\n",
       "</table>\n",
       "<p>8142 rows × 8 columns</p>\n",
       "</div>"
      ],
      "text/plain": [
       "      match_id   name_player1   name_player2 country_player1 country_player2  \\\n",
       "0     12260076   Khachanov K.   Khachanov K.          Russia          Russia   \n",
       "1     12260077     Alcaraz C.     Alcaraz C.           Spain           Spain   \n",
       "2     12260078     Alcaraz C.     Alcaraz C.           Spain           Spain   \n",
       "3     12260078     Alcaraz C.     Alcaraz C.           Spain           Spain   \n",
       "4     12260078     Alcaraz C.     Alcaraz C.           Spain           Spain   \n",
       "...        ...            ...            ...             ...             ...   \n",
       "8137  12361506  Cecchinato M.  Cecchinato M.           Italy           Italy   \n",
       "8138  12361506  Cecchinato M.  Cecchinato M.           Italy           Italy   \n",
       "8139  12361506  Cecchinato M.  Cecchinato M.           Italy           Italy   \n",
       "8140  12361506  Cecchinato M.  Cecchinato M.           Italy           Italy   \n",
       "8141  12361506  Cecchinato M.  Cecchinato M.           Italy           Italy   \n",
       "\n",
       "      winner_code    winner_name winner_country  \n",
       "0             1.0   Khachanov K.         Russia  \n",
       "1             2.0     Alcaraz C.          Spain  \n",
       "2             1.0     Alcaraz C.          Spain  \n",
       "3             1.0     Alcaraz C.          Spain  \n",
       "4             1.0     Alcaraz C.          Spain  \n",
       "...           ...            ...            ...  \n",
       "8137          1.0  Cecchinato M.          Italy  \n",
       "8138          1.0  Cecchinato M.          Italy  \n",
       "8139          1.0  Cecchinato M.          Italy  \n",
       "8140          1.0  Cecchinato M.          Italy  \n",
       "8141          1.0  Cecchinato M.          Italy  \n",
       "\n",
       "[8142 rows x 8 columns]"
      ]
     },
     "execution_count": 31,
     "metadata": {},
     "output_type": "execute_result"
    }
   ],
   "source": [
    "merged_player_id = pd.merge(match_away_team_df, match_home_team_df, on='match_id',how='inner', suffixes=('_player1', '_player2'))\n",
    "merged_match_id_name_country=merged_player_id[['match_id','name_player1', 'name_player2','country_player1','country_player2']]\n",
    "\n",
    "playerWinner = pd.merge(merged_match_id_name_country, winner_df, on='match_id', how='inner')\n",
    "\n",
    "playerWinner['winner_name'] = playerWinner.apply(lambda row: row['name_player1'] if row['winner_code'] == 1.0 else row['name_player2'], axis=1)\n",
    "playerWinner['winner_country'] = playerWinner.apply(lambda row: row['country_player1'] if row['winner_code'] == 1.0 else row['country_player2'], axis=1)\n",
    "\n",
    "winner_country = playerWinner['winner_country'].value_counts()\n",
    "print(\"The player who wins the most matches is:\", winner_country.idxmax())\n",
    "\n",
    "playerWinner"
   ]
  },
  {
   "cell_type": "markdown",
   "metadata": {},
   "source": [
    "7. What is the average number of aces per match?"
   ]
  },
  {
   "cell_type": "code",
   "execution_count": 32,
   "metadata": {},
   "outputs": [
    {
     "name": "stdout",
     "output_type": "stream",
     "text": [
      "The average number of aces per match is 102.69.\n"
     ]
    }
   ],
   "source": [
    "\n",
    "aces_stats = period_df[period_df['statistic_name'] == 'aces']\n",
    "total_aces = aces_stats['home_value'].sum() + aces_stats['away_value'].sum()\n",
    "\n",
    "# Count the number of matches\n",
    "num_matches = event_df['match_id'].nunique()\n",
    "\n",
    "# Calculate the average number of aces per match\n",
    "average_aces_per_match = total_aces / num_matches\n",
    "\n",
    "print(f\"The average number of aces per match is {average_aces_per_match:.2f}.\")"
   ]
  },
  {
   "cell_type": "markdown",
   "metadata": {},
   "source": [
    "8. Is there a difference in the number of double faults based on gender?"
   ]
  },
  {
   "cell_type": "code",
   "execution_count": 33,
   "metadata": {},
   "outputs": [
    {
     "data": {
      "text/plain": [
       "<Figure size 800x600 with 0 Axes>"
      ]
     },
     "metadata": {},
     "output_type": "display_data"
    },
    {
     "data": {
      "image/png": "[encoded data removed]",
      "text/plain": [
       "<Figure size 640x480 with 1 Axes>"
      ]
     },
     "metadata": {},
     "output_type": "display_data"
    },
    {
     "data": {
      "text/html": [
       "<div>\n",
       "<style scoped>\n",
       "    .dataframe tbody tr th:only-of-type {\n",
       "        vertical-align: middle;\n",
       "    }\n",
       "\n",
       "    .dataframe tbody tr th {\n",
       "        vertical-align: top;\n",
       "    }\n",
       "\n",
       "    .dataframe thead th {\n",
       "        text-align: right;\n",
       "    }\n",
       "</style>\n",
       "<table border=\"1\" class=\"dataframe\">\n",
       "  <thead>\n",
       "    <tr style=\"text-align: right;\">\n",
       "      <th></th>\n",
       "      <th>gender</th>\n",
       "      <th>home_value</th>\n",
       "      <th>away_value</th>\n",
       "      <th>average_double_faults</th>\n",
       "    </tr>\n",
       "  </thead>\n",
       "  <tbody>\n",
       "    <tr>\n",
       "      <th>0</th>\n",
       "      <td>F</td>\n",
       "      <td>1.392041</td>\n",
       "      <td>1.426807</td>\n",
       "      <td>1.409424</td>\n",
       "    </tr>\n",
       "    <tr>\n",
       "      <th>1</th>\n",
       "      <td>M</td>\n",
       "      <td>0.917197</td>\n",
       "      <td>0.927433</td>\n",
       "      <td>0.922315</td>\n",
       "    </tr>\n",
       "  </tbody>\n",
       "</table>\n",
       "</div>"
      ],
      "text/plain": [
       "  gender  home_value  away_value  average_double_faults\n",
       "0      F    1.392041    1.426807               1.409424\n",
       "1      M    0.917197    0.927433               0.922315"
      ]
     },
     "execution_count": 33,
     "metadata": {},
     "output_type": "execute_result"
    }
   ],
   "source": [
    "players_id_concat = pd.concat([match_away_team_df, match_home_team_df])\n",
    "period_df.fillna(0)\n",
    "\n",
    "player_period_merged = pd.merge(players_id_concat, period_df, on='match_id')\n",
    "player_period_merged\n",
    "# double_faults filter\n",
    "double_faults_stats = player_period_merged[player_period_merged['statistic_name'] == 'double_faults']\n",
    "\n",
    "# average double faults for each gender\n",
    "gender_double_faults = double_faults_stats.groupby('gender')[['home_value', 'away_value']].mean().reset_index()\n",
    "# total average\n",
    "gender_double_faults['average_double_faults'] = (gender_double_faults['home_value'] + gender_double_faults['away_value']) / 2\n",
    "\n",
    "# plot the results\n",
    "plt.figure(figsize=(8, 6))\n",
    "gender_double_faults.plot( x='gender', y='average_double_faults' ,kind='bar')\n",
    "\n",
    "plt.xlabel('Gender')\n",
    "plt.ylabel('Average Double Faults')\n",
    "plt.title('Difference in Double Faults by Gender')\n",
    "plt.show()\n",
    "\n",
    "gender_double_faults\n"
   ]
  },
  {
   "cell_type": "markdown",
   "metadata": {},
   "source": [
    "In conclusion of the given information, there is a difference between male and female in the number of double faults. The average double faults value is more in females than in males."
   ]
  },
  {
   "cell_type": "markdown",
   "metadata": {},
   "source": [
    "9. Which player has won the most tournaments in a single month?\n",
    "We use the playerWinner dataframe previousely produced in question 3. It contains 'match_id', 'name_player1', 'name_player2' and 'winner_name' fields. Now we join this dataframe with the MatchTournamentInfo dataframe to get the player that won the most tournaments."
   ]
  },
  {
   "cell_type": "code",
   "execution_count": 34,
   "metadata": {},
   "outputs": [
    {
     "name": "stdout",
     "output_type": "stream",
     "text": [
      "The player who wins the most tournaments is: Monteiro T.\n"
     ]
    }
   ],
   "source": [
    "\n",
    "playerWinnerTourn = pd.merge(playerWinner, tournament_df, on='match_id', how='inner')\n",
    "playerWinnerTourn=playerWinnerTourn[['match_id','name_player1','name_player2','tournament_id','winner_name']]\n",
    "playerWinnerTourn\n",
    "\n",
    "# Count the number of wins for each player\n",
    "player_wins = playerWinnerTourn.groupby('winner_name').size().reset_index(name='wins')\n",
    "\n",
    "# Sort the results by the number of wins in descending order\n",
    "player_wins = player_wins.sort_values(by='wins', ascending=False)\n",
    "\n",
    "# Print the player who wins the most tournaments\n",
    "print(\"The player who wins the most tournaments is:\", player_wins.iloc[0]['winner_name'])"
   ]
  },
  {
   "cell_type": "markdown",
   "metadata": {},
   "source": [
    "10. Is there a correlation between a player's height and their ranking?"
   ]
  },
  {
   "cell_type": "code",
   "execution_count": 35,
   "metadata": {},
   "outputs": [
    {
     "name": "stdout",
     "output_type": "stream",
     "text": [
      "The correlation between height and ranking is:  0.10940230029470055\n"
     ]
    },
    {
     "data": {
      "image/png": "[encoded data removed]",
      "text/plain": [
       "<Figure size 800x600 with 1 Axes>"
      ]
     },
     "metadata": {},
     "output_type": "display_data"
    }
   ],
   "source": [
    "players_concat_df = pd.concat([match_away_team_df, match_home_team_df])\n",
    "height_rank_correlation=players_concat_df['height'].corr(players_concat_df['current_rank'])\n",
    "\n",
    "print(\"The correlation between height and ranking is: \", height_rank_correlation)\n",
    "\n",
    "height_rank_mean = players_concat_df.groupby('height')['current_rank'].mean().reset_index()\n",
    "\n",
    "# Create the scatter plot\n",
    "plt.figure(figsize=(8, 6))\n",
    "sns.scatterplot(x='height', y='current_rank', data=height_rank_mean)\n",
    "\n",
    "plt.xlabel('Height (meters)')\n",
    "plt.ylabel('Ranking')\n",
    "plt.title('Correlation between Player Height and Ranking')\n",
    "plt.show()"
   ]
  },
  {
   "cell_type": "markdown",
   "metadata": {},
   "source": [
    "According to the scatter plot and height_rank_correlation value, it cannot be claimed that there is a correlation between players height and their rank."
   ]
  },
  {
   "cell_type": "markdown",
   "metadata": {},
   "source": [
    "11. What is the average duration of matches?"
   ]
  },
  {
   "cell_type": "code",
   "execution_count": 36,
   "metadata": {},
   "outputs": [
    {
     "name": "stdout",
     "output_type": "stream",
     "text": [
      "The average duration of matches is 182.77 minutes.\n"
     ]
    }
   ],
   "source": [
    "time_df=pd.read_csv('MatchTimeInfo.csv')\n",
    "time_df.fillna(0,inplace=True)\n",
    "total_duration = time_df['period_1'].sum() + time_df['period_2'].sum() + time_df['period_3'].sum()\n",
    "num_matches = time_df['match_id'].nunique()\n",
    "\n",
    "average_duration = total_duration / num_matches\n",
    "\n",
    "print(f\"The average duration of matches is {average_duration / 60:.2f} minutes.\")"
   ]
  },
  {
   "cell_type": "markdown",
   "metadata": {},
   "source": [
    "12. What is the average number of games per set in men's matches compared to women's matches?"
   ]
  },
  {
   "cell_type": "code",
   "execution_count": 37,
   "metadata": {},
   "outputs": [
    {
     "data": {
      "text/plain": [
       "match_id  set_num  gender\n",
       "12260075  1        M         12\n",
       "          2        M         10\n",
       "12260076  1        M         12\n",
       "          2        M          9\n",
       "          3        M          9\n",
       "                             ..\n",
       "12384975  2        F         13\n",
       "          3        F         10\n",
       "12385017  1        F         10\n",
       "          2        F         12\n",
       "          3        F         12\n",
       "Name: game_num, Length: 12736, dtype: int64"
      ]
     },
     "execution_count": 37,
     "metadata": {},
     "output_type": "execute_result"
    }
   ],
   "source": [
    "\n",
    "power_player_id = pd.merge(power_df, players_id_concat, on='match_id')\n",
    "\n",
    "total_games_per_set = power_player_id.groupby(['match_id', 'set_num', 'gender'])['game_num'].max()\n",
    "total_games_per_set\n"
   ]
  },
  {
   "cell_type": "code",
   "execution_count": 38,
   "metadata": {},
   "outputs": [
    {
     "name": "stdout",
     "output_type": "stream",
     "text": [
      "The average number of games per set in men's matches is 9.28.\n",
      "The average number of games per set in women's matches is 9.00.\n"
     ]
    }
   ],
   "source": [
    "# Calculate the average games per set for each gender\n",
    "gender_games_per_set = total_games_per_set.groupby('gender').mean()\n",
    "\n",
    "print(f\"The average number of games per set in men's matches is {gender_games_per_set['M']:.2f}.\")\n",
    "print(f\"The average number of games per set in women's matches is {gender_games_per_set['F']:.2f}.\")"
   ]
  },
  {
   "cell_type": "markdown",
   "metadata": {},
   "source": [
    "On average, in men's matches, each set has 18 games and in women's matches, each set has 17 games"
   ]
  },
  {
   "cell_type": "markdown",
   "metadata": {},
   "source": [
    "13. What is the distribution of left-handed versus right-handed players?"
   ]
  },
  {
   "cell_type": "code",
   "execution_count": 54,
   "metadata": {},
   "outputs": [
    {
     "name": "stdout",
     "output_type": "stream",
     "text": [
      "The distribution of right-handed players versus left-handed: plays\n",
      "right-handed    11654\n",
      "left-handed      1612\n",
      "ambidextrous        8\n",
      "Name: count, dtype: int64\n",
      "The distribution of right-handed players versus left-handed: plays\n",
      "right-handed    87.795691\n",
      "left-handed     12.144041\n",
      "ambidextrous     0.060268\n",
      "Name: count, dtype: float64\n"
     ]
    },
    {
     "data": {
      "image/png": "[encoded data removed]",
      "text/plain": [
       "<Figure size 800x600 with 1 Axes>"
      ]
     },
     "metadata": {},
     "output_type": "display_data"
    }
   ],
   "source": [
    "\n",
    "match_away_cleand_df = match_away_team_df.loc[match_away_team_df['plays'].notnull()]\n",
    "\n",
    "match_home_cleand_df = match_home_team_df.loc[match_home_team_df['plays'].notnull()]\n",
    "\n",
    "\n",
    "match_home_away_cleaned_df = pd.concat([match_away_cleand_df, match_home_cleand_df])\n",
    "distribution = match_home_away_cleaned_df['plays'].value_counts()\n",
    "\n",
    "print(\"The distribution of right-handed players versus left-handed:\",distribution)\n",
    "\n",
    "percentage_distribution = (distribution / len(match_home_away_cleaned_df)) * 100\n",
    "print(\"The distribution of right-handed players versus left-handed:\",percentage_distribution)\n",
    "\n",
    "# Draw a histogram to view the distribution\n",
    "righthand_data = match_home_away_cleaned_df.loc[match_home_away_cleaned_df['plays'] == 'right-handed']\n",
    "lefthand_data = match_home_away_cleaned_df.loc[match_home_away_cleaned_df['plays'] == 'left-handed']\n",
    "\n",
    "fig, ax = plt.subplots(figsize=(8, 6))\n",
    "\n",
    "ax.hist(righthand_data['plays'], bins=1, label='Righthand')\n",
    "ax.hist(lefthand_data['plays'], bins=1, label='Lefthand')\n",
    "\n",
    "ax.set_xlabel('Hand')\n",
    "ax.set_ylabel('Count')\n",
    "ax.set_title('Distribution of Righthand and Lefthand')\n",
    "\n",
    "ax.legend()\n",
    "plt.show()"
   ]
  },
  {
   "cell_type": "markdown",
   "metadata": {},
   "source": [
    "14. What is the most common type of surface used in tournaments?"
   ]
  },
  {
   "cell_type": "code",
   "execution_count": 40,
   "metadata": {},
   "outputs": [
    {
     "name": "stdout",
     "output_type": "stream",
     "text": [
      "ground_type\n",
      "Red clay             14238\n",
      "Hardcourt outdoor     4606\n",
      "Hardcourt indoor       241\n",
      "Synthetic outdoor       93\n",
      "Name: count, dtype: int64\n"
     ]
    },
    {
     "data": {
      "image/png": "[encoded data removed]",
      "text/plain": [
       "<Figure size 640x480 with 1 Axes>"
      ]
     },
     "metadata": {},
     "output_type": "display_data"
    }
   ],
   "source": [
    "\n",
    "tournament_df.drop_duplicates(inplace=True)\n",
    "print(tournament_df['ground_type'].value_counts())\n",
    "\n",
    "# drow plot\n",
    "tournament_df['ground_type'].value_counts().plot(kind='bar')\n",
    "plt.title('Tournament Surface Types')\n",
    "plt.xlabel('Surface Type')\n",
    "plt.ylabel('Count')\n",
    "plt.show()"
   ]
  },
  {
   "cell_type": "markdown",
   "metadata": {},
   "source": [
    "The most common type of surface used in the tournaments is 'Red clay' that used in '14237' tournaments"
   ]
  },
  {
   "cell_type": "markdown",
   "metadata": {},
   "source": [
    "15. How many distinct countries are represented in the dataset?"
   ]
  },
  {
   "cell_type": "code",
   "execution_count": 41,
   "metadata": {},
   "outputs": [
    {
     "name": "stdout",
     "output_type": "stream",
     "text": [
      "The dataset contains 78 distinct countries.\n"
     ]
    }
   ],
   "source": [
    "num_distinct_countries = match_home_away_cleaned_df['country'].nunique()\n",
    "\n",
    "print(f\"The dataset contains {num_distinct_countries} distinct countries.\")"
   ]
  },
  {
   "cell_type": "markdown",
   "metadata": {},
   "source": [
    "16. Which player has the highest winning percentage against top 10 ranked opponents?"
   ]
  },
  {
   "cell_type": "code",
   "execution_count": 42,
   "metadata": {},
   "outputs": [],
   "source": [
    "country_current_rank=pd.concat([match_away_team_df[['name','current_rank']],match_home_team_df[['name','current_rank']]]).sort_values('current_rank').drop_duplicates().dropna().iloc[0:12,:]\n",
    "top_10_players=country_current_rank['name'].unique()"
   ]
  },
  {
   "cell_type": "code",
   "execution_count": 43,
   "metadata": {},
   "outputs": [
    {
     "name": "stderr",
     "output_type": "stream",
     "text": [
      "C:\\Users\\mahdi\\AppData\\Local\\Temp\\ipykernel_14612\\3857551801.py:3: SettingWithCopyWarning: \n",
      "A value is trying to be set on a copy of a slice from a DataFrame\n",
      "\n",
      "See the caveats in the documentation: https://pandas.pydata.org/pandas-docs/stable/user_guide/indexing.html#returning-a-view-versus-a-copy\n",
      "  point_count.replace('A', pd.NA, inplace=True)\n",
      "C:\\Users\\mahdi\\AppData\\Local\\Temp\\ipykernel_14612\\3857551801.py:4: FutureWarning: A value is trying to be set on a copy of a DataFrame or Series through chained assignment using an inplace method.\n",
      "The behavior will change in pandas 3.0. This inplace method will never work because the intermediate object on which we are setting values always behaves as a copy.\n",
      "\n",
      "For example, when doing 'df[col].method(value, inplace=True)', try using 'df.method({col: value}, inplace=True)' or df[col] = df[col].method(value) instead, to perform the operation inplace on the original object.\n",
      "\n",
      "\n",
      "  point_count['home_point'].fillna(0,inplace=True)\n",
      "C:\\Users\\mahdi\\AppData\\Local\\Temp\\ipykernel_14612\\3857551801.py:4: SettingWithCopyWarning: \n",
      "A value is trying to be set on a copy of a slice from a DataFrame\n",
      "\n",
      "See the caveats in the documentation: https://pandas.pydata.org/pandas-docs/stable/user_guide/indexing.html#returning-a-view-versus-a-copy\n",
      "  point_count['home_point'].fillna(0,inplace=True)\n",
      "C:\\Users\\mahdi\\AppData\\Local\\Temp\\ipykernel_14612\\3857551801.py:5: FutureWarning: A value is trying to be set on a copy of a DataFrame or Series through chained assignment using an inplace method.\n",
      "The behavior will change in pandas 3.0. This inplace method will never work because the intermediate object on which we are setting values always behaves as a copy.\n",
      "\n",
      "For example, when doing 'df[col].method(value, inplace=True)', try using 'df.method({col: value}, inplace=True)' or df[col] = df[col].method(value) instead, to perform the operation inplace on the original object.\n",
      "\n",
      "\n",
      "  point_count['away_point'].fillna(0,inplace=True)\n",
      "C:\\Users\\mahdi\\AppData\\Local\\Temp\\ipykernel_14612\\3857551801.py:5: SettingWithCopyWarning: \n",
      "A value is trying to be set on a copy of a slice from a DataFrame\n",
      "\n",
      "See the caveats in the documentation: https://pandas.pydata.org/pandas-docs/stable/user_guide/indexing.html#returning-a-view-versus-a-copy\n",
      "  point_count['away_point'].fillna(0,inplace=True)\n",
      "C:\\Users\\mahdi\\AppData\\Local\\Temp\\ipykernel_14612\\3857551801.py:6: SettingWithCopyWarning: \n",
      "A value is trying to be set on a copy of a slice from a DataFrame.\n",
      "Try using .loc[row_indexer,col_indexer] = value instead\n",
      "\n",
      "See the caveats in the documentation: https://pandas.pydata.org/pandas-docs/stable/user_guide/indexing.html#returning-a-view-versus-a-copy\n",
      "  point_count['home_point'] = point_count['home_point'].astype(int)\n",
      "C:\\Users\\mahdi\\AppData\\Local\\Temp\\ipykernel_14612\\3857551801.py:7: SettingWithCopyWarning: \n",
      "A value is trying to be set on a copy of a slice from a DataFrame.\n",
      "Try using .loc[row_indexer,col_indexer] = value instead\n",
      "\n",
      "See the caveats in the documentation: https://pandas.pydata.org/pandas-docs/stable/user_guide/indexing.html#returning-a-view-versus-a-copy\n",
      "  point_count['away_point'] = point_count['away_point'].astype(int)\n"
     ]
    }
   ],
   "source": [
    "game_info=pd.read_csv('GameInfo.csv')\n",
    "point_count=game_info.iloc[:,[0,4,5]]\n",
    "point_count.replace('A', pd.NA, inplace=True)\n",
    "point_count['home_point'].fillna(0,inplace=True)\n",
    "point_count['away_point'].fillna(0,inplace=True)\n",
    "point_count['home_point'] = point_count['home_point'].astype(int)\n",
    "point_count['away_point'] = point_count['away_point'].astype(int)\n",
    "\n",
    "match_point_winner=point_count.groupby('match_id')[['home_point', 'away_point']].sum()\n",
    "match_point_winner['winner_code'] = 0\n",
    "match_point_winner.loc[match_point_winner['home_point'] > match_point_winner['away_point'], 'winner_code'] = 1\n",
    "match_point_winner.loc[match_point_winner['home_point'] < match_point_winner['away_point'], 'winner_code'] = 2\n",
    "match_winner=match_point_winner.iloc[:,[2]]"
   ]
  },
  {
   "cell_type": "code",
   "execution_count": 44,
   "metadata": {},
   "outputs": [
    {
     "data": {
      "text/html": [
       "<div>\n",
       "<style scoped>\n",
       "    .dataframe tbody tr th:only-of-type {\n",
       "        vertical-align: middle;\n",
       "    }\n",
       "\n",
       "    .dataframe tbody tr th {\n",
       "        vertical-align: top;\n",
       "    }\n",
       "\n",
       "    .dataframe thead th {\n",
       "        text-align: right;\n",
       "    }\n",
       "</style>\n",
       "<table border=\"1\" class=\"dataframe\">\n",
       "  <thead>\n",
       "    <tr style=\"text-align: right;\">\n",
       "      <th></th>\n",
       "      <th>match_id</th>\n",
       "      <th>winner_name</th>\n",
       "      <th>loser_name</th>\n",
       "    </tr>\n",
       "  </thead>\n",
       "  <tbody>\n",
       "    <tr>\n",
       "      <th>0</th>\n",
       "      <td>12260075</td>\n",
       "      <td>Lehečka J.</td>\n",
       "      <td>Lehečka J.</td>\n",
       "    </tr>\n",
       "    <tr>\n",
       "      <th>1</th>\n",
       "      <td>12260076</td>\n",
       "      <td>Khachanov K.</td>\n",
       "      <td>Khachanov K.</td>\n",
       "    </tr>\n",
       "    <tr>\n",
       "      <th>2</th>\n",
       "      <td>12260077</td>\n",
       "      <td>Alcaraz C.</td>\n",
       "      <td>Alcaraz C.</td>\n",
       "    </tr>\n",
       "    <tr>\n",
       "      <th>3</th>\n",
       "      <td>12260078</td>\n",
       "      <td>Alcaraz C.</td>\n",
       "      <td>Alcaraz C.</td>\n",
       "    </tr>\n",
       "    <tr>\n",
       "      <th>5</th>\n",
       "      <td>12260080</td>\n",
       "      <td>Zverev A.</td>\n",
       "      <td>Zverev A.</td>\n",
       "    </tr>\n",
       "    <tr>\n",
       "      <th>...</th>\n",
       "      <td>...</td>\n",
       "      <td>...</td>\n",
       "      <td>...</td>\n",
       "    </tr>\n",
       "    <tr>\n",
       "      <th>27541</th>\n",
       "      <td>12384789</td>\n",
       "      <td>Léonard M.</td>\n",
       "      <td>Léonard M.</td>\n",
       "    </tr>\n",
       "    <tr>\n",
       "      <th>27542</th>\n",
       "      <td>12384806</td>\n",
       "      <td>Dutra da Silva D.</td>\n",
       "      <td>Dutra da Silva D.</td>\n",
       "    </tr>\n",
       "    <tr>\n",
       "      <th>27543</th>\n",
       "      <td>12384892</td>\n",
       "      <td>Gomez F.</td>\n",
       "      <td>Gomez F.</td>\n",
       "    </tr>\n",
       "    <tr>\n",
       "      <th>27544</th>\n",
       "      <td>12384975</td>\n",
       "      <td>Șerban R.</td>\n",
       "      <td>Șerban R.</td>\n",
       "    </tr>\n",
       "    <tr>\n",
       "      <th>27545</th>\n",
       "      <td>12385017</td>\n",
       "      <td>Pedretti T.</td>\n",
       "      <td>Pedretti T.</td>\n",
       "    </tr>\n",
       "  </tbody>\n",
       "</table>\n",
       "<p>5430 rows × 3 columns</p>\n",
       "</div>"
      ],
      "text/plain": [
       "       match_id        winner_name         loser_name\n",
       "0      12260075         Lehečka J.         Lehečka J.\n",
       "1      12260076       Khachanov K.       Khachanov K.\n",
       "2      12260077         Alcaraz C.         Alcaraz C.\n",
       "3      12260078         Alcaraz C.         Alcaraz C.\n",
       "5      12260080          Zverev A.          Zverev A.\n",
       "...         ...                ...                ...\n",
       "27541  12384789         Léonard M.         Léonard M.\n",
       "27542  12384806  Dutra da Silva D.  Dutra da Silva D.\n",
       "27543  12384892           Gomez F.           Gomez F.\n",
       "27544  12384975          Șerban R.          Șerban R.\n",
       "27545  12385017        Pedretti T.        Pedretti T.\n",
       "\n",
       "[5430 rows x 3 columns]"
      ]
     },
     "execution_count": 44,
     "metadata": {},
     "output_type": "execute_result"
    }
   ],
   "source": [
    "merged_df = pd.merge(match_home_team_df, match_away_team_df, on='match_id', how='inner', suffixes=('_player1', '_player2'))\n",
    "merged_df=merged_df[['match_id','name_player1', 'name_player2']]\n",
    "player_winner = pd.merge(merged_df,match_winner, on='match_id', how='inner')\n",
    "player_winner.drop_duplicates(inplace=True)\n",
    "\n",
    "player_winner['winner_name'] = player_winner.apply(lambda row: row['name_player1'] if row['winner_code'] == 1.0 else row['name_player2'], axis=1)\n",
    "player_winner['loser_name'] = player_winner.apply(lambda row: row['name_player1'] if row['winner_code'] == 2.0 else row['name_player2'], axis=1)\n",
    "player_winner_loser=player_winner.iloc[:,[0,4,5]]\n",
    "player_winner_loser"
   ]
  },
  {
   "cell_type": "code",
   "execution_count": 45,
   "metadata": {},
   "outputs": [
    {
     "name": "stdout",
     "output_type": "stream",
     "text": [
      "The player with the highest winning percentage against top 10 ranked opponents is Sabalenka A.  ,with 23.52941176470588 percent win\n"
     ]
    },
    {
     "data": {
      "text/plain": [
       "winner_name\n",
       "Sabalenka A.      12\n",
       "Ruud C.            7\n",
       "Alcaraz C.         5\n",
       "Medvedev D.        5\n",
       "Rybakina E.        4\n",
       "Rublev A.          4\n",
       "Zheng Q.           4\n",
       "Vondroušová M.     4\n",
       "Sinner J.          3\n",
       "Zverev A.          2\n",
       "Gauff C.           1\n",
       "Name: count, dtype: int64"
      ]
     },
     "execution_count": 45,
     "metadata": {},
     "output_type": "execute_result"
    }
   ],
   "source": [
    "# Find the player with the highest winning percentage\n",
    "top_10_matches =player_winner_loser[(player_winner_loser['loser_name'].isin(top_10_players))]\n",
    "top_10_matches_winner=top_10_matches.iloc[:,[0,1]]\n",
    "\n",
    "winner_counts = top_10_matches_winner['winner_name'].value_counts()\n",
    "winner_percentages = (winner_counts / len(top_10_matches_winner)) * 100\n",
    "\n",
    "player_with_highest_win = winner_percentages.idxmax()\n",
    "highest_win_pct = winner_percentages.max()\n",
    "\n",
    "print(f\"The player with the highest winning percentage against top 10 ranked opponents is {player_with_highest_win}  ,with {highest_win_pct} percent win\")\n",
    "winner_counts\n"
   ]
  },
  {
   "cell_type": "markdown",
   "metadata": {},
   "source": [
    "17. What is the average number of breaks of serve per match? \n",
    "We use the dfPower dataframe(for PowerInfo table) previously read in question number 5."
   ]
  },
  {
   "cell_type": "code",
   "execution_count": 46,
   "metadata": {},
   "outputs": [
    {
     "name": "stdout",
     "output_type": "stream",
     "text": [
      "the average is:  20.28867527786122\n"
     ]
    }
   ],
   "source": [
    "total_breaks = power_df['break_occurred'].sum()\n",
    "\n",
    "num_matches = power_df['match_id'].nunique()\n",
    "\n",
    "average_breaks_per_match = total_breaks / num_matches\n",
    "print(f\"the average is: \",average_breaks_per_match )"
   ]
  },
  {
   "cell_type": "markdown",
   "metadata": {},
   "source": [
    "EXTRA QUESTION 1- Is there a correlation between a player's experience and their ranking?"
   ]
  },
  {
   "cell_type": "code",
   "execution_count": 47,
   "metadata": {},
   "outputs": [
    {
     "data": {
      "text/html": [
       "<div>\n",
       "<style scoped>\n",
       "    .dataframe tbody tr th:only-of-type {\n",
       "        vertical-align: middle;\n",
       "    }\n",
       "\n",
       "    .dataframe tbody tr th {\n",
       "        vertical-align: top;\n",
       "    }\n",
       "\n",
       "    .dataframe thead th {\n",
       "        text-align: right;\n",
       "    }\n",
       "</style>\n",
       "<table border=\"1\" class=\"dataframe\">\n",
       "  <thead>\n",
       "    <tr style=\"text-align: right;\">\n",
       "      <th></th>\n",
       "      <th>full_name</th>\n",
       "      <th>current_rank</th>\n",
       "      <th>experience</th>\n",
       "    </tr>\n",
       "  </thead>\n",
       "  <tbody>\n",
       "    <tr>\n",
       "      <th>10708</th>\n",
       "      <td>Sinner, Jannik</td>\n",
       "      <td>2.0</td>\n",
       "      <td>6.0</td>\n",
       "    </tr>\n",
       "    <tr>\n",
       "      <th>8</th>\n",
       "      <td>Sabalenka, Aryna</td>\n",
       "      <td>2.0</td>\n",
       "      <td>9.0</td>\n",
       "    </tr>\n",
       "    <tr>\n",
       "      <th>2</th>\n",
       "      <td>Alcaraz, Carlos</td>\n",
       "      <td>3.0</td>\n",
       "      <td>6.0</td>\n",
       "    </tr>\n",
       "    <tr>\n",
       "      <th>6689</th>\n",
       "      <td>Gauff, Cori</td>\n",
       "      <td>3.0</td>\n",
       "      <td>6.0</td>\n",
       "    </tr>\n",
       "    <tr>\n",
       "      <th>4</th>\n",
       "      <td>Zverev, Alexander</td>\n",
       "      <td>4.0</td>\n",
       "      <td>11.0</td>\n",
       "    </tr>\n",
       "    <tr>\n",
       "      <th>...</th>\n",
       "      <td>...</td>\n",
       "      <td>...</td>\n",
       "      <td>...</td>\n",
       "    </tr>\n",
       "    <tr>\n",
       "      <th>5879</th>\n",
       "      <td>Gabashvili, Teimuraz</td>\n",
       "      <td>1272.0</td>\n",
       "      <td>23.0</td>\n",
       "    </tr>\n",
       "    <tr>\n",
       "      <th>4822</th>\n",
       "      <td>Uzhylovsky, Vladimir</td>\n",
       "      <td>1341.0</td>\n",
       "      <td>19.0</td>\n",
       "    </tr>\n",
       "    <tr>\n",
       "      <th>42</th>\n",
       "      <td>Clezar, Guilherme</td>\n",
       "      <td>1365.0</td>\n",
       "      <td>15.0</td>\n",
       "    </tr>\n",
       "    <tr>\n",
       "      <th>1354</th>\n",
       "      <td>Gabashvili, Teimuraz</td>\n",
       "      <td>1452.0</td>\n",
       "      <td>23.0</td>\n",
       "    </tr>\n",
       "    <tr>\n",
       "      <th>3061</th>\n",
       "      <td>Hellum Lilleengen, Lukas</td>\n",
       "      <td>1478.0</td>\n",
       "      <td>5.0</td>\n",
       "    </tr>\n",
       "  </tbody>\n",
       "</table>\n",
       "<p>649 rows × 3 columns</p>\n",
       "</div>"
      ],
      "text/plain": [
       "                      full_name  current_rank  experience\n",
       "10708            Sinner, Jannik           2.0         6.0\n",
       "8              Sabalenka, Aryna           2.0         9.0\n",
       "2               Alcaraz, Carlos           3.0         6.0\n",
       "6689                Gauff, Cori           3.0         6.0\n",
       "4             Zverev, Alexander           4.0        11.0\n",
       "...                         ...           ...         ...\n",
       "5879       Gabashvili, Teimuraz        1272.0        23.0\n",
       "4822       Uzhylovsky, Vladimir        1341.0        19.0\n",
       "42            Clezar, Guilherme        1365.0        15.0\n",
       "1354       Gabashvili, Teimuraz        1452.0        23.0\n",
       "3061   Hellum Lilleengen, Lukas        1478.0         5.0\n",
       "\n",
       "[649 rows x 3 columns]"
      ]
     },
     "execution_count": 47,
     "metadata": {},
     "output_type": "execute_result"
    }
   ],
   "source": [
    "match_home_team_turned_rank_df=match_home_team_df.iloc[:,[17,10,14]]\n",
    "match_away_team_turned_rank_df=match_away_team_df.iloc[:,[17,10,14]]\n",
    "turned_rank_player=pd.concat([match_home_team_turned_rank_df,match_away_team_turned_rank_df])\n",
    "turned_rank_player.drop_duplicates()\n",
    "turned_rank_player.dropna(inplace=True)\n",
    "turned_rank_player['experience'] = 2024-turned_rank_player['turned_pro']\n",
    "turned_rank_player.drop(columns='turned_pro', inplace=True)\n",
    "turned_rank_player.drop_duplicates(inplace=True)\n",
    "turned_rank_player.sort_values('current_rank')"
   ]
  },
  {
   "cell_type": "code",
   "execution_count": 48,
   "metadata": {},
   "outputs": [
    {
     "name": "stdout",
     "output_type": "stream",
     "text": [
      "There is a weak correlation between players experience and there rank\n"
     ]
    }
   ],
   "source": [
    "experience_rank_correlation=turned_rank_player['experience'].corr(turned_rank_player['current_rank'])\n",
    "if experience_rank_correlation <0.3:\n",
    "    print('There is a weak correlation between players experience and there rank')\n",
    "elif 0.3<experience_rank_correlation<0.5:\n",
    "    print('There is a moderate correlation between players experience and there rank')\n",
    "else:\n",
    "    print('There is a strong correlation between players experience and there rank')"
   ]
  },
  {
   "cell_type": "markdown",
   "metadata": {},
   "source": [
    "EXTRA QUESTION 2- Is there a correlation between being right or left_hand and number of ranking?"
   ]
  },
  {
   "cell_type": "code",
   "execution_count": 49,
   "metadata": {},
   "outputs": [
    {
     "name": "stdout",
     "output_type": "stream",
     "text": [
      "Right-handed players have an average ranking of 363.96.\n",
      "Left-handed players have an average ranking of 386.66.\n"
     ]
    }
   ],
   "source": [
    "handedness_ranking = players_id_concat.groupby('plays')['current_rank'].mean()\n",
    "\n",
    "print(f\"Right-handed players have an average ranking of {handedness_ranking['right-handed']:.2f}.\")\n",
    "print(f\"Left-handed players have an average ranking of {handedness_ranking['left-handed']:.2f}.\")"
   ]
  },
  {
   "cell_type": "markdown",
   "metadata": {},
   "source": [
    "The results shows that being a right-handed player leads to have a better rank."
   ]
  },
  {
   "cell_type": "markdown",
   "metadata": {},
   "source": [
    "extra question no3.\n",
    "Which 3_players who received the most prize money in tennis tournaments? \n"
   ]
  },
  {
   "cell_type": "code",
   "execution_count": 50,
   "metadata": {},
   "outputs": [
    {
     "data": {
      "text/html": [
       "<div>\n",
       "<style scoped>\n",
       "    .dataframe tbody tr th:only-of-type {\n",
       "        vertical-align: middle;\n",
       "    }\n",
       "\n",
       "    .dataframe tbody tr th {\n",
       "        vertical-align: top;\n",
       "    }\n",
       "\n",
       "    .dataframe thead th {\n",
       "        text-align: right;\n",
       "    }\n",
       "</style>\n",
       "<table border=\"1\" class=\"dataframe\">\n",
       "  <thead>\n",
       "    <tr style=\"text-align: right;\">\n",
       "      <th></th>\n",
       "      <th>total_prize</th>\n",
       "    </tr>\n",
       "    <tr>\n",
       "      <th>full_name</th>\n",
       "      <th></th>\n",
       "    </tr>\n",
       "  </thead>\n",
       "  <tbody>\n",
       "    <tr>\n",
       "      <th>Nadal, Rafael</th>\n",
       "      <td>224653134.0</td>\n",
       "    </tr>\n",
       "    <tr>\n",
       "      <th>Murray, Andy</th>\n",
       "      <td>107560350.0</td>\n",
       "    </tr>\n",
       "    <tr>\n",
       "      <th>Medvedev, Daniil</th>\n",
       "      <td>67813632.0</td>\n",
       "    </tr>\n",
       "  </tbody>\n",
       "</table>\n",
       "</div>"
      ],
      "text/plain": [
       "                  total_prize\n",
       "full_name                    \n",
       "Nadal, Rafael     224653134.0\n",
       "Murray, Andy      107560350.0\n",
       "Medvedev, Daniil   67813632.0"
      ]
     },
     "execution_count": 50,
     "metadata": {},
     "output_type": "execute_result"
    }
   ],
   "source": [
    "country_total_prize=pd.concat([match_away_team_df[['full_name','total_prize']],match_home_team_df[['full_name','total_prize']]]).drop_duplicates()\n",
    "country_total_prize.groupby('full_name').sum().sort_values('total_prize',ascending=False).iloc[0:3,:]"
   ]
  },
  {
   "cell_type": "markdown",
   "metadata": {},
   "source": [
    "EXTRA QUESTION 4 :How does the average number of winners per match differ between hard and clay court surfaces?"
   ]
  },
  {
   "cell_type": "code",
   "execution_count": 51,
   "metadata": {},
   "outputs": [
    {
     "data": {
      "image/png": "[encoded data removed]",
      "text/plain": [
       "<Figure size 640x480 with 1 Axes>"
      ]
     },
     "metadata": {},
     "output_type": "display_data"
    }
   ],
   "source": [
    "# Join the df_event and df_period DataFrames on 'match_id'\n",
    "df_combined = pd.merge(event_df, tournament_df, on='match_id')\n",
    "\n",
    "# Calculate the average winners per match for each surface\n",
    "surface_winners = df_combined.groupby('ground_type')['winner_code'].mean()\n",
    "\n",
    "# Plot the average winners per match for each surface\n",
    "surface_winners.plot(kind='bar')\n",
    "plt.xlabel('Surface')\n",
    "plt.ylabel('Average Winners per Match')\n",
    "plt.title('Winners per Match by Surface')\n",
    "plt.show()\n"
   ]
  },
  {
   "cell_type": "markdown",
   "metadata": {},
   "source": [
    "EXTRA QUESTION 5 : What is the number of winning matches for each player?"
   ]
  },
  {
   "cell_type": "code",
   "execution_count": 52,
   "metadata": {},
   "outputs": [
    {
     "data": {
      "text/plain": [
       "winner_name\n",
       "Monteiro T.     118\n",
       "Arnaboldi F.    103\n",
       "Bertola R.      100\n",
       "Shang J.         99\n",
       "Melzer G.        99\n",
       "               ... \n",
       "Rouvroy M.        1\n",
       "Vukić A.          1\n",
       "Cerundolo J.      1\n",
       "Björklund M.      1\n",
       "Krueger M.        1\n",
       "Name: count, Length: 366, dtype: int64"
      ]
     },
     "execution_count": 52,
     "metadata": {},
     "output_type": "execute_result"
    }
   ],
   "source": [
    "winner_counts = playerWinner['winner_name'].value_counts()\n",
    "winner_counts\n",
    "\n",
    "\n",
    "\n"
   ]
  },
  {
   "cell_type": "markdown",
   "metadata": {},
   "source": [
    "For example Melzer G. won 118 times in matches."
   ]
  },
  {
   "cell_type": "code",
   "execution_count": 53,
   "metadata": {},
   "outputs": [
    {
     "ename": "SyntaxError",
     "evalue": "invalid syntax (2147078742.py, line 1)",
     "output_type": "error",
     "traceback": [
      "\u001b[1;36m  Cell \u001b[1;32mIn[53], line 1\u001b[1;36m\u001b[0m\n\u001b[1;33m    20-\u001b[0m\n\u001b[1;37m        ^\u001b[0m\n\u001b[1;31mSyntaxError\u001b[0m\u001b[1;31m:\u001b[0m invalid syntax\n"
     ]
    }
   ],
   "source": [
    "20- "
   ]
  }
 ],
 "metadata": {
  "kernelspec": {
   "display_name": "Python 3.7.4 64-bit",
   "language": "python",
   "name": "python3"
  },
  "language_info": {
   "codemirror_mode": {
    "name": "ipython",
    "version": 3
   },
   "file_extension": ".py",
   "mimetype": "text/x-python",
   "name": "python",
   "nbconvert_exporter": "python",
   "pygments_lexer": "ipython3",
   "version": "3.12.2"
  },
  "vscode": {
   "interpreter": {
    "hash": "bde6fc399266906b8fa43676a495a4d5179afc8ff02e09ff2193156498759610"
   }
  }
 },
 "nbformat": 4,
 "nbformat_minor": 2
}
