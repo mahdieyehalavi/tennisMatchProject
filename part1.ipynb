{
 "cells": [
  {
   "cell_type": "code",
   "execution_count": 1,
   "metadata": {},
   "outputs": [],
   "source": [
    "import numpy as np\n",
    "import pandas as pd\n",
    "import scipy.stats as stats\n",
    "#import sns\n",
    "from scipy.stats import mannwhitneyu\n",
    "from scipy.stats import ttest_ind\n",
    "import matplotlib.pyplot as plt\n",
    "import seaborn as sns"
   ]
  },
  {
   "cell_type": "markdown",
   "metadata": {},
   "source": [
    "Read the data and save it in a data frame type."
   ]
  },
  {
   "cell_type": "code",

   "execution_count": 67,
   "metadata": {},
   "outputs": [],
   "source": [
    "match_away_team_df=pd.read_csv('MatchAwayTeamInfo.csv')\n",
    "match_home_team_df=pd.read_csv('MatchHomeTeamInfo.csv')\n",
    "event_df = pd.read_csv('MatchEventInfo.csv')\n",
    "match_time_df=pd.read_csv('MatchTimeInfo.csv')\n",
    "period_df=pd.read_csv('PeriodInfo.csv')\n",
    "tournament_df=pd.read_csv('MatchTournamentInfo.csv')\n",
    "power_df = pd.read_csv('PowerInfo.csv')\n",
    "game_df=pd.read_csv('GameInfo.csv')\n"
   ]
  },
  {
   "cell_type": "code",
   "execution_count": 37,
   "metadata": {},
   "outputs": [],
   "source": [
    "match_away_team_df.drop_duplicates(inplace=True)\n",
    "match_home_team_df.drop_duplicates(inplace=True)\n",
    "event_df.drop_duplicates(inplace=True)\n",
    "match_time_df.drop_duplicates(inplace=True)\n",
    "period_df.drop_duplicates(inplace=True)\n",
    "tournament_df.drop_duplicates(inplace=True)\n",
    "power_df.drop_duplicates(inplace=True)\n",
    "game_df.drop_duplicates(inplace=True)\n"
   ]
  },
  {
   "cell_type": "markdown",
   "metadata": {},
   "source": [
    "1.How many tennis players are included in the dataset?\n",
    " Get the number of players from the MatchHomeTeamInfo(df) and MatchAwayTeamInfo(df1)."
   ]
  },
  {
   "cell_type": "code",
   "execution_count": 12,
   "metadata": {},
   "outputs": [
    {
     "name": "stdout",
     "output_type": "stream",
     "text": [
      "Total number of players: 2039\n"
     ]
    }
   ],
   "source": [
    "all_player_ids = pd.concat([match_away_team_df['player_id'], match_home_team_df['player_id']])\n",
    "num_players = len(all_player_ids.unique())\n",
    "print(\"Total number of players:\",num_players)\n"
   ]
  },
  {
   "cell_type": "markdown",
   "metadata": {},
   "source": [
    "2. What is the average height of the players?"
   ]
  },
  {
   "cell_type": "code",
   "execution_count": 13,
   "metadata": {},
   "outputs": [
    {
     "name": "stdout",
     "output_type": "stream",
     "text": [
      "Average height of players: 1.8189934223639623\n"
     ]
    }
   ],
   "source": [
    "height_player_mean=pd.concat([match_away_team_df['height'],match_home_team_df['height']]).mean()\n",
    "print(\"Average height of players:\",height_player_mean)"
   ]
  },
  {
   "cell_type": "markdown",
   "metadata": {},
   "source": [
    "According to the given information, the average height of the players in this series of matches is 1.82"
   ]
  },
  {
   "cell_type": "markdown",
   "metadata": {},
   "source": [
    "3. Which player has the highest number of wins?"

   ]
  },
  {
   "cell_type": "markdown",
   "metadata": {},
   "source": [
    "We need a dataframe containing the 'match_id' and 'winner_code'. We get this from event_df and call it 'winner_df'."
   ]
  },
  {
   "cell_type": "code",

   "execution_count": 14,



   "metadata": {},
   "outputs": [
    {
     "data": {
      "text/html": [
       "<div>\n",
       "<style scoped>\n",
       "    .dataframe tbody tr th:only-of-type {\n",
       "        vertical-align: middle;\n",
       "    }\n",
       "\n",
       "    .dataframe tbody tr th {\n",
       "        vertical-align: top;\n",
       "    }\n",
       "\n",
       "    .dataframe thead th {\n",
       "        text-align: right;\n",
       "    }\n",
       "</style>\n",
       "<table border=\"1\" class=\"dataframe\">\n",
       "  <thead>\n",
       "    <tr style=\"text-align: right;\">\n",
       "      <th></th>\n",
       "      <th>match_id</th>\n",
       "      <th>winner_code</th>\n",
       "    </tr>\n",
       "  </thead>\n",
       "  <tbody>\n",
       "    <tr>\n",
       "      <th>0</th>\n",
       "      <td>12260075</td>\n",

       "      <td>2.0</td>\n",


       "    </tr>\n",
       "    <tr>\n",
       "      <th>1</th>\n",
       "      <td>12260076</td>\n",

       "      <td>1.0</td>\n",

       "    </tr>\n",
       "    <tr>\n",
       "      <th>2</th>\n",
       "      <td>12260077</td>\n",

       "      <td>2.0</td>\n",

       "    </tr>\n",
       "    <tr>\n",
       "      <th>3</th>\n",
       "      <td>12260078</td>\n",

       "      <td>1.0</td>\n",

       "     
       "    </tr>\n",
       "    <tr>\n",
       "      <th>4</th>\n",
       "      <td>12260080</td>\n",

       "      <td>1.0</td>\n",

       "    </tr>\n",
       "    <tr>\n",
       "      <th>...</th>\n",
       "      <td>...</td>\n",
       "      <td>...</td>\n",
       "    </tr>\n",
       "    <tr>\n",

       "      <th>20516</th>\n",
       "      <td>12384975</td>\n",
       "      <td>1.0</td>\n",
       "    </tr>\n",
       "    <tr>\n",
       "      <th>20517</th>\n",
       "      <td>12385017</td>\n",
       "      <td>1.0</td>\n",
       "    </tr>\n",
       "    <tr>\n",
       "      <th>20518</th>\n",
       "      <td>12385869</td>\n",
       "      <td>2.0</td>\n",
       "    </tr>\n",
       "    <tr>\n",
       "      <th>20519</th>\n",
       "      <td>12385873</td>\n",
       "      <td>2.0</td>\n",
       "    </tr>\n",
       "    <tr>\n",
       "      <th>20520</th>\n",
       "      <td>12386383</td>\n",
       "      <td>2.0</td>\n",
       "    </tr>\n",
       "  </tbody>\n",
       "</table>\n",
       "<p>19672 rows × 2 columns</p>\n",
       "</div>"
      ],
      "text/plain": [
       "       match_id  winner_code\n",
       "0      12260075          2.0\n",
       "1      12260076          1.0\n",
       "2      12260077          2.0\n",
       "3      12260078          1.0\n",
       "4      12260080          1.0\n",
       "...         ...          ...\n",
       "20516  12384975          1.0\n",
       "20517  12385017          1.0\n",
       "20518  12385869          2.0\n",
       "20519  12385873          2.0\n",
       "20520  12386383          2.0\n",
       "\n",
       "[19672 rows x 2 columns]"
      ]
     },
     "execution_count": 14,

     "metadata": {},
     "output_type": "execute_result"
    }
   ],
   "source": [

    "event_df.dropna(inplace=True)\n",
    "winner_df=event_df[['match_id','winner_code']]\n",
    "winner_df"
   ]
  },
  {
   "cell_type": "markdown",
   "metadata": {},
   "source": [
    "Then we need to have another dataframe containing 'match_id','name_player1', 'name_player2', presenting in each match which players are playing. We call the dataframe 'merged_player'."


   ]
  },
  {
   "cell_type": "code",

   "execution_count": 15,

   
   "metadata": {},
   "outputs": [
    {
     "data": {
      "text/html": [
       "<div>\n",
       "<style scoped>\n",
       "    .dataframe tbody tr th:only-of-type {\n",
       "        vertical-align: middle;\n",
       "    }\n",
       "\n",
       "    .dataframe tbody tr th {\n",
       "        vertical-align: top;\n",
       "    }\n",
       "\n",
       "    .dataframe thead th {\n",
       "        text-align: right;\n",
       "    }\n",
       "</style>\n",
       "<table border=\"1\" class=\"dataframe\">\n",
       "  <thead>\n",
       "    <tr style=\"text-align: right;\">\n",
       "      <th></th>\n",
       "      <th>match_id</th>\n",
       "      <th>name_player1</th>\n",
       "      <th>name_player2</th>\n",
       "    </tr>\n",
       "  </thead>\n",
       "  <tbody>\n",
       "    <tr>\n",
       "      <th>0</th>\n",
       "      <td>12260075</td>\n",
       "      <td>Lehečka J.</td>\n",

       "      <td>Lehečka J.</td>\n",


       "    </tr>\n",
       "    <tr>\n",
       "      <th>1</th>\n",
       "      <td>12260076</td>\n",
       "      <td>Khachanov K.</td>\n",

       "      <td>Khachanov K.</td>\n",


       "    </tr>\n",
       "    <tr>\n",
       "      <th>2</th>\n",
       "      <td>12260077</td>\n",
       "      <td>Alcaraz C.</td>\n",

       "      <td>Alcaraz C.</td>\n",


       "    </tr>\n",
       "    <tr>\n",
       "      <th>3</th>\n",
       "      <td>12260078</td>\n",
       "      <td>Alcaraz C.</td>\n",

       "      <td>Alcaraz C.</td>\n",
       "    </tr>\n",
       "    <tr>\n",
       "      <th>4</th>\n",
       "      <td>12260078</td>\n",
       "      <td>Alcaraz C.</td>\n",
       "      <td>Alcaraz C.</td>\n",

       "      
       "    </tr>\n",
       "    <tr>\n",
       "      <th>...</th>\n",
       "      <td>...</td>\n",
       "      <td>...</td>\n",
       "      <td>...</td>\n",

       "    </tr>\n",
       "    <tr>\n",
       "      <th>15424</th>\n",
       "      <td>12384975</td>\n",
       "      <td>Șerban R.</td>\n",
       "      <td>Șerban R.</td>\n",
       "    </tr>\n",
       "    <tr>\n",
       "      <th>15425</th>\n",
       "      <td>12385017</td>\n",
       "      <td>Pedretti T.</td>\n",
       "      <td>Pedretti T.</td>\n",
       "    </tr>\n",
       "    <tr>\n",
       "      <th>15426</th>\n",
       "      <td>12385869</td>\n",
       "      <td>Fukuda S.</td>\n",
       "      <td>Fukuda S.</td>\n",
       "    </tr>\n",
       "    <tr>\n",
       "      <th>15427</th>\n",
       "      <td>12385873</td>\n",
       "      <td>Uchida K.</td>\n",
       "      <td>Uchida K.</td>\n",
       "    </tr>\n",
       "    <tr>\n",
       "      <th>15428</th>\n",
       "      <td>12386383</td>\n",
       "      <td>Lepchenko V.</td>\n",
       "      <td>Lepchenko V.</td>\n",
       "    </tr>\n",
       "  </tbody>\n",
       "</table>\n",
       "<p>15429 rows × 3 columns</p>\n",
       "</div>"
      ],
      "text/plain": [
       "       match_id  name_player1  name_player2\n",
       "0      12260075    Lehečka J.    Lehečka J.\n",
       "1      12260076  Khachanov K.  Khachanov K.\n",
       "2      12260077    Alcaraz C.    Alcaraz C.\n",
       "3      12260078    Alcaraz C.    Alcaraz C.\n",
       "4      12260078    Alcaraz C.    Alcaraz C.\n",
       "...         ...           ...           ...\n",
       "15424  12384975     Șerban R.     Șerban R.\n",
       "15425  12385017   Pedretti T.   Pedretti T.\n",
       "15426  12385869     Fukuda S.     Fukuda S.\n",
       "15427  12385873     Uchida K.     Uchida K.\n",
       "15428  12386383  Lepchenko V.  Lepchenko V.\n",
       "\n",
       "[15429 rows x 3 columns]"
      ]
     },
     "execution_count": 15,
     "metadata": {},
     "output_type": "execute_result"
    }
   ],
   "source": [

    "merged_player = pd.merge(match_away_team_df, match_home_team_df, on='match_id',how='inner', suffixes=('_player1', '_player2'))\n",
    "merged_player =merged_player [['match_id','name_player1', 'name_player2']]\n",
    "merged_player "

   ]
  },
  {
   "cell_type": "markdown",
   "metadata": {},
   "source": [
    "Now by merging the 'winner_df' and 'mergerd_player_id' we can have a dataframe containing, in each match who plays and who wins(by winner_code). Then add a column named 'winner_name' which present the winner name considering the winner code and player_name field."
   ]
  },
  {
   "cell_type": "code",

   "execution_count": 16,

  
   "metadata": {},
   "outputs": [
    {
     "name": "stdout",
     "output_type": "stream",
     "text": [

      "The player who wins the most matches is: Paquet C.\n"

      
     ]
    }
   ],
   "source": [

    "playerWinner = pd.merge(merged_player , winner_df, on='match_id', how='inner')\n",
    "playerWinner['winner_name'] = playerWinner.apply(lambda row: row['name_player1'] if row['winner_code'] == 1.0 else row['name_player2'], axis=1)\n",
    "\n",
    "# Determine which player wins the most matches\n",
    "winner_counts = playerWinner['winner_name'].value_counts()\n",
    "print(\"The player who wins the most matches is:\", winner_counts.idxmax())\n"

   ]
  },
  {
   "cell_type": "markdown",
   "metadata": {},
   "source": [
    "4. What is the longest match recorded in terms of duration?"
   ]
  },
  {

   "cell_type": "markdown",
   "metadata": {},
   "source": [
    "We use match_time_df that has the time information of matches. We first fill the 'Nan' values and remove the duplicated records."
   ]
  },
  {
   "cell_type": "code",
   "execution_count": 17,
   "metadata": {},
   "outputs": [],
   "source": [
    "match_time_df.fillna(0,inplace=True)\n",
    "match_time_df.drop_duplicates(inplace=True)"

   ]
  },
  {
   "cell_type": "markdown",
   "metadata": {},
   "source": [

    "Then we seperate the columns for periods and obtain the sum of them. The next step get the maximum sum of times."

   
   ]
  },
  {
   "cell_type": "code",

   "execution_count": 18,

   "metadata": {},
   "outputs": [
    {
     "data": {
      "text/html": [
       "<div>\n",
       "<style scoped>\n",
       "    .dataframe tbody tr th:only-of-type {\n",
       "        vertical-align: middle;\n",
       "    }\n",
       "\n",
       "    .dataframe tbody tr th {\n",
       "        vertical-align: top;\n",
       "    }\n",
       "\n",
       "    .dataframe thead th {\n",
       "        text-align: right;\n",
       "    }\n",
       "</style>\n",
       "<table border=\"1\" class=\"dataframe\">\n",
       "  <thead>\n",
       "    <tr style=\"text-align: right;\">\n",
       "      <th></th>\n",
       "      <th>match_id</th>\n",
       "      <th>winner_code</th>\n",
       "    </tr>\n",
       "  </thead>\n",
       "  <tbody>\n",
       "    <tr>\n",
       "      <th>1</th>\n",
       "      <td>12260076</td>\n",
       "      <td>1.0</td>\n",
       "    </tr>\n",
       "    <tr>\n",
       "      <th>2</th>\n",
       "      <td>12260077</td>\n",
       "      <td>2.0</td>\n",
       "    </tr>\n",
       "    <tr>\n",
       "      <th>3</th>\n",
       "      <td>12260078</td>\n",
       "      <td>1.0</td>\n",
       "    </tr>\n",
       "    <tr>\n",
       "      <th>4</th>\n",
       "      <td>12260080</td>\n",
       "      <td>1.0</td>\n",
       "    </tr>\n",

       "  </tbody>\n",
       "</table>\n",
       "</div>"
      ],
      "text/plain": [
      "   match_id  period_1  period_2  period_3  period_4  period_5  \\\n",
       "0  12260075    3463.0    3855.0       0.0       0.0       0.0   \n",
       "1  12260076    3032.0    2121.0    2674.0       0.0       0.0   \n",
       "2  12260077    2747.0    3525.0    4074.0       0.0       0.0   \n",
       "3  12260078    2519.0    2531.0    2121.0       0.0       0.0   \n",
       "4  12260080    2616.0    2766.0       0.0       0.0       0.0   \n",
       "\n",
       "   current_period_start_timestamp  sumation_time_periods_match  \n",
       "0                    1.714511e+09                       7318.0  \n",
       "1                    1.714492e+09                       7827.0  \n",
       "2                    1.714492e+09                      10346.0  \n",
       "3                    1.714578e+09                       7171.0  \n",
       "4                    1.714483e+09                       5382.0  "
      ]
     },
     "execution_count": 18,
     "metadata": {},
     "output_type": "execute_result"
    }
   ],
   "source": [
    "\n",
    "match_time_df['sumation_time_periods_match']=match_time_df.iloc[:,[1,2,3]].sum(axis=1)\n",
    "match_time_df.head()"
   ]
  },
  {
   "cell_type": "markdown",
   "metadata": {},
   "source": [
    "We get the max and then find the corresponding match that has the maximum time duration. Then print the match with detail information."
   ]
  },
  {
   "cell_type": "code",
   "execution_count": 19,
   "metadata": {},
   "outputs": [
    {
     "data": {
      "text/html": [
       "<div>\n",
       "<style scoped>\n",
       "    .dataframe tbody tr th:only-of-type {\n",
       "        vertical-align: middle;\n",
       "    }\n",
       "\n",
       "    .dataframe tbody tr th {\n",
       "        vertical-align: top;\n",
       "    }\n",
       "\n",
       "    .dataframe thead th {\n",
       "        text-align: right;\n",
       "    }\n",
       "</style>\n",
       "<table border=\"1\" class=\"dataframe\">\n",
       "  <thead>\n",
       "    <tr style=\"text-align: right;\">\n",
       "      <th></th>\n",
       "      <th>match_id</th>\n",
       "      <th>period_1</th>\n",
       "      <th>period_2</th>\n",
       "      <th>period_3</th>\n",
       "      <th>period_4</th>\n",
       "      <th>period_5</th>\n",
       "      <th>current_period_start_timestamp</th>\n",
       "      <th>sumation_time_periods_match</th>\n",

       "    </tr>\n",
       "    <tr>\n",
       "      <th>...</th>\n",
       "      <td>...</td>\n",
       "      <td>...</td>\n",
       "    </tr>\n",

       "  </tbody>\n",
       "</table>\n",
       "</div>"
      ],
      "text/plain": [
       "       match_id  period_1  period_2  period_3  period_4  period_5  \\\n",
       "13350  12346747  167761.0    3392.0       0.0       0.0       0.0   \n",
       "\n",
       "       current_period_start_timestamp  sumation_time_periods_match  \n",
       "13350                    1.716382e+09                     171153.0  "
      ]
     },
     "execution_count": 19,

     "metadata": {},
     "output_type": "execute_result"
    }
   ],

   "source": [
    "longest_time=match_time_df['sumation_time_periods_match'].max()\n",
    "longest_match=match_time_df.loc[(match_time_df['sumation_time_periods_match']==longest_time),:]\n",
    "longest_match"
   ]
  },
  {
   "cell_type": "markdown",
   "metadata": {},
   "source": [
    "According to the given information ,the longest match recorded in terms of duration is the match with match-id:12346747 with 171153ps or 16h"
   ]
  },
  {
   "cell_type": "markdown",
   "metadata": {},
   "source": [
    "5. How many sets are typically played in a tennis match?"
   ]
  },
  {
   "cell_type": "markdown",
   "metadata": {},
   "source": [
    "We use the power_df that has the number of sets for each match. We groupby the power_df by 'match_id' and then count the unique sets of a match."
   ]
  },
  {
   "cell_type": "code",
   "execution_count": 20,
   "metadata": {},
   "outputs": [
    {
     "name": "stdout",
     "output_type": "stream",
     "text": [
      "match_id\n",
      "12260075    2\n",
      "12260076    3\n",
      "12260077    3\n",
      "12260078    3\n",
      "12260080    2\n",
      "           ..\n",
      "12384789    2\n",
      "12384806    3\n",
      "12384892    2\n",
      "12384975    3\n",
      "12385017    3\n",
      "Name: set_num, Length: 6658, dtype: int64\n"
     ]
    }
   ],
   "source": [
    "power_df.head()\n",
    "num_sets_per_match = power_df.groupby('match_id')['set_num'].nunique()\n",
    "print(num_sets_per_match)"
   ]
  },
  {
   "cell_type": "markdown",
   "metadata": {},
   "source": [
    "6. Which country has produced the most successful tennis players?"
   ]
  },
  {
   "cell_type": "markdown",
   "metadata": {},
   "source": [
    "We again need to merge tha dataframes for away info team and home info team. Then we merge the result with the 'winner_df' we created before. The result df called 'playerWinner' contains 'match_id', 'name_player1', 'name_player', 'country_player1', 'country_player2', 'winner_code' and 'winner_name'. We then add the 'winner_country' considering the 'winner_name'. Then we count the number of countries and take the maximum of them as the answer."

   ]
  },
  {
   "cell_type": "code",

   "execution_count": 21,
   "metadata": {},
   "outputs": [
    {
     "name": "stdout",
     "output_type": "stream",
     "text": [
      "The player who wins the most matches is: Italy\n"
     ]
    }
   ],
   "source": [
    "merged_player = pd.merge(match_away_team_df, match_home_team_df, on='match_id',how='inner', suffixes=('_player1', '_player2'))\n",
    "merged_match_id_name_country=merged_player[['match_id','name_player1', 'name_player2','country_player1','country_player2']]\n",
    "\n",
    "playerWinner = pd.merge(merged_match_id_name_country, winner_df, on='match_id', how='inner')\n",
    "\n",
    "playerWinner['winner_name'] = playerWinner.apply(lambda row: row['name_player1'] if row['winner_code'] == 1.0 else row['name_player2'], axis=1)\n",
    "playerWinner['winner_country'] = playerWinner.apply(lambda row: row['country_player1'] if row['winner_code'] == 1.0 else row['country_player2'], axis=1)\n",
    "\n",
    "winner_country = playerWinner['winner_country'].value_counts()\n",
    "print(\"The player who wins the most matches is:\", winner_country.idxmax())\n",
    "\n"
   ]
  },
  {
   "cell_type": "markdown",
   "metadata": {},
   "source": [
    "7. What is the average number of aces per match?"
   ]
  },
  {
   "cell_type": "markdown",
   "metadata": {},
   "source": [
    "We use period_info dataframes containing the 'statistic_name'. We select rows that their 'statistic_name' is 'aces'. Then we sum the 'home_value' and 'away_value'. The next step is to get the number pf matches by 'nunique' method. The average aces per match is get by dividing the total_aces by number of matches. "

   
   ]
  },
  {
   "cell_type": "code",

   "execution_count": 22,
   "metadata": {},
   "outputs": [
    {
     "name": "stdout",
     "output_type": "stream",
     "text": [
      "The average number of aces per match is 6.06.\n"
     ]
    }
   ],
   "source": [
    "\n",
    "aces_stats = period_df[period_df['statistic_name'] == 'aces']\n",
    "total_aces = aces_stats['home_value'].sum() + aces_stats['away_value'].sum()\n",
    "\n",
    "num_matches = event_df['match_id'].nunique()\n",
    "\n",
    "# Calculate the average number of aces per match\n",
    "average_aces_per_match = total_aces / num_matches\n",
    "\n",
    "print(f\"The average number of aces per match is {average_aces_per_match:.2f}.\")"

   ]
  },
  {
   "cell_type": "markdown",
   "metadata": {},
   "source": [

    "8. Is there a difference in the number of double faults based on gender?"
   ]
  },
  {
   "cell_type": "markdown",

   "metadata": {},
   "source": [

    "We need the concatenation of home team information df and away team information df. Then we join the resulted concat df with period_df on match_id. This gives us a dataframe contains matches with their players and the corresponding 'statistic_name' and other usefull information like 'gender'. We then get the mean of 'home_value' and 'away_value' groupby gender field.\n",
    "To have a schematic view of the results we plot a histogram presenting the results seperated by gender. "

   ]
  },
  {
   "cell_type": "code",

   "execution_count": 23,

   "metadata": {},
   "outputs": [
    {
     "data": {
      "text/plain": [
       "<Figure size 800x600 with 0 Axes>"
      ]
     },
     "metadata": {},
     "output_type": "display_data"
    },
    {
     "data": {
      "image/png": "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",
      "text/plain": [
       "<Figure size 640x480 with 1 Axes>"
      ]
     },
     "metadata": {},
     "output_type": "display_data"
    },
    {
     "data": {
      "text/html": [
       "<div>\n",
       "<style scoped>\n",
       "    .dataframe tbody tr th:only-of-type {\n",
       "        vertical-align: middle;\n",
       "    }\n",
       "\n",
       "    .dataframe tbody tr th {\n",
       "        vertical-align: top;\n",
       "    }\n",
       "\n",
       "    .dataframe thead th {\n",
       "        text-align: right;\n",
       "    }\n",
       "</style>\n",
       "<table border=\"1\" class=\"dataframe\">\n",
       "  <thead>\n",
       "    <tr style=\"text-align: right;\">\n",
       "      <th></th>\n",

       "      <th>gender</th>\n",
       "      <th>home_value</th>\n",
       "      <th>away_value</th>\n",
       "      <th>average_double_faults</th>\n",

       "    </tr>\n",
       "  </thead>\n",
       "  <tbody>\n",
       "    <tr>\n",
       "      <th>0</th>\n",

       "      <td>F</td>\n",
       "      <td>1.673854</td>\n",
       "      <td>1.709040</td>\n",
       "      <td>1.691447</td>\n",
       "    </tr>\n",
       "    <tr>\n",
       "      <th>1</th>\n",
       "      <td>M</td>\n",
       "      <td>1.133786</td>\n",
       "      <td>1.148635</td>\n",
       "      <td>1.141210</td>\n",

       "    </tr>\n",
       "  </tbody>\n",
       "</table>\n",
       "</div>"
      ],
      "text/plain": [

       "  gender  home_value  away_value  average_double_faults\n",
       "0      F    1.673854    1.709040               1.691447\n",
       "1      M    1.133786    1.148635               1.141210"
      ]
     },
     "execution_count": 23,

     "metadata": {},
     "output_type": "execute_result"
    }
   ],
   "source": [

    "players_id_concat = pd.concat([match_away_team_df, match_home_team_df])\n",
    "period_df.fillna(0)\n",
    "\n",
    "player_period_merged = pd.merge(players_id_concat, period_df, on='match_id')\n",
    "double_faults_stats = player_period_merged[player_period_merged['statistic_name'] == 'double_faults']\n",
    "\n",
    "gender_double_faults = double_faults_stats.groupby('gender')[['home_value', 'away_value']].mean().reset_index()\n",
    "gender_double_faults['average_double_faults'] = (gender_double_faults['home_value'] + gender_double_faults['away_value']) / 2\n",
    "\n",
    "plt.figure(figsize=(8, 6))\n",
    "gender_double_faults.plot( x='gender', y='average_double_faults' ,kind='bar')\n",
    "\n",
    "plt.xlabel('Gender')\n",
    "plt.ylabel('Average Double Faults')\n",
    "plt.title('Difference in Double Faults by Gender')\n",
    "plt.show()\n",
    "\n",
    "gender_double_faults\n"
   ]
  },
  {
   "cell_type": "markdown",
   "metadata": {},
   "source": [
    "In conclusion of the given information, there is a difference between male and female in the number of double faults. The average double faults value is more in females than in males."

   ]
  },
  {
   "cell_type": "markdown",
   "metadata": {},
   "source": [

    "9. Which player has won the most tournaments in a single month?"

   ]
  },
  {
   "cell_type": "markdown",
   "metadata": {},
   "source": [

    "We use the playerWinner dataframe previousely produced in question 3. It contains 'match_id', 'name_player1', 'name_player2' and 'winner_name' fields. Now we join this dataframe with the MatchTournamentInfo dataframe to get the player who won the most tournaments."

   ]
  },
  {
   "cell_type": "code",

   "execution_count": 24,

   "metadata": {},
   "outputs": [
    {
     "name": "stdout",
     "output_type": "stream",
     "text": [

      "The player who wins the most tournaments is: Paquet C.\n"

     ]
    }
   ],
   "source": [

    "\n",
    "playerWinnerTourn = pd.merge(playerWinner, tournament_df, on='match_id', how='inner')\n",
    "playerWinnerTourn=playerWinnerTourn[['match_id','name_player1','name_player2','tournament_id','winner_name']]\n",
    "playerWinnerTourn\n",
    "\n",
    "# Count the number of wins for each player\n",
    "player_wins = playerWinnerTourn.groupby('winner_name').size().reset_index(name='wins')\n",
    "\n",
    "# Sort the results by the number of wins in descending order\n",
    "player_wins = player_wins.sort_values(by='wins', ascending=False)\n",
    "\n",
    "# Print the player who wins the most tournaments\n",
    "print(\"The player who wins the most tournaments is:\", player_wins.iloc[0]['winner_name'])"

   ]
  },
  {
   "cell_type": "markdown",
   "metadata": {},
   "source": [
    "6. Which country has produced the most successful tennis players?"
   ]
  },
  {
   "cell_type": "markdown",
   "metadata": {},
   "source": [
    "Again we need a concatenation of home team information and away team information. We then use the 'height' column and the 'current_rank' columns to get the correlation using 'corr' method. \n",
    "To have a schematic view of the results we plot the scatter plot for the height and the mean of corresponding 'current rank'. The results show that there is no correlation between height and rank."
   ]
  },
  {
   "cell_type": "code",

   "execution_count": 25,

   "metadata": {},
   "outputs": [
    {
     "name": "stdout",
     "output_type": "stream",
     "text": [

      "The correlation between height and ranking is:  0.10731758667283141\n"

     ]
    },
    {
     "data": {

      "image/png": "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",
      "text/plain": [
       "<Figure size 800x600 with 1 Axes>"

      ]
     },
     "metadata": {},
     "output_type": "display_data"

    }
   ],
   "source": [
    "players_concat_df = pd.concat([match_away_team_df, match_home_team_df])\n",
    "height_rank_correlation=players_concat_df['height'].corr(players_concat_df['current_rank'])\n",
    "\n",
    "print(\"The correlation between height and ranking is: \", height_rank_correlation)\n",
    "\n",
    "height_rank_mean = players_concat_df.groupby('height')['current_rank'].mean().reset_index()\n",
    "\n",
    "# Create the scatter plot\n",
    "plt.figure(figsize=(8, 6))\n",
    "sns.scatterplot(x='height', y='current_rank', data=height_rank_mean)\n",
    "\n",
    "plt.xlabel('Height (meters)')\n",
    "plt.ylabel('Ranking')\n",
    "plt.title('Correlation between Player Height and Ranking')\n",
    "plt.show()"
   ]
  },
  {
   "cell_type": "markdown",
   "metadata": {},
   "source": [
    "According to the scatter plot and height_rank_correlation value, it cannot be claimed that there is a correlation between players height and their rank."

   ]
  },
  {
   "cell_type": "markdown",
   "metadata": {},
   "source": [
    "In conclusion of the given information, there is a difference between male and female in the number of double faults. The average double faults value is more in females than in males."
   ]
  },
  {
   "cell_type": "markdown",
   "metadata": {},
   "source": [
    "9. Which player has won the most tournaments in a single month?\n",
    "We use the playerWinner dataframe previousely produced in question 3. It contains 'match_id', 'name_player1', 'name_player2' and 'winner_name' fields. Now we join this dataframe with the MatchTournamentInfo dataframe to get the player that won the most tournaments."
   ]
  },
  {
   "cell_type": "markdown",
   "metadata": {},
   "source": [
    "We use time_df that has the duration of each period. We then get the average by dividing this value on number of matches."
   ]
  },
  {
   "cell_type": "code",
   "execution_count": 26,
   "metadata": {},
   "outputs": [
    {
     "name": "stdout",
     "output_type": "stream",
     "text": [

      "The average duration of matches is 182.77 minutes.\n"

     ]
    }
   ],
   "source": [

    "time_df=pd.read_csv('MatchTimeInfo.csv')\n",
    "time_df.fillna(0,inplace=True)\n",
    "total_duration = time_df['period_1'].sum() + time_df['period_2'].sum() + time_df['period_3'].sum()\n",
    "num_matches = time_df['match_id'].nunique()\n",
    "\n",
    "average_duration = total_duration / num_matches\n",
    "\n",
    "print(f\"The average duration of matches is {average_duration / 60:.2f} minutes.\")"

   ]
  },
  {
   "cell_type": "markdown",
   "metadata": {},
   "source": [
    "10. Is there a correlation between a player's height and their ranking?"
   ]
  },
  {

   "cell_type": "markdown",
   "metadata": {},
   "source": [
    "We use power_df that has the match_id, the number of sets and number of games in each set, and the concatenation of home information team and away information team. \n",
    "We get the total games per set considering the maximum number of games."

   ]
  },
  {
   "cell_type": "code",

   "execution_count": 27,
   "metadata": {},
   "outputs": [
    {
     "data": {
      "text/plain": [
       "match_id  set_num  gender\n",
       "12260075  1        M         12\n",
       "          2        M         10\n",
       "12260076  1        M         12\n",
       "          2        M          9\n",
       "          3        M          9\n",
       "                             ..\n",
       "12384975  2        F         13\n",
       "          3        F         10\n",
       "12385017  1        F         10\n",
       "          2        F         12\n",
       "          3        F         12\n",
       "Name: game_num, Length: 12736, dtype: int64"
      ]
     },
     "execution_count": 27,
     "metadata": {},
     "output_type": "execute_result"
    }
   ],
   "source": [
    "\n",
    "power_player_id = pd.merge(power_df, players_id_concat, on='match_id')\n",
    "\n",
    "total_games_per_set = power_player_id.groupby(['match_id', 'set_num', 'gender'])['game_num'].max()\n",
    "total_games_per_set\n"

   ]
  },
  {
   "cell_type": "markdown",
   "metadata": {},
   "source": [
    "We compute the average number of games per set by mean method seperated with gender."
   ]
  },
  {
   "cell_type": "code",

   "execution_count": 28,

   "metadata": {},
   "outputs": [
    {
     "name": "stdout",
     "output_type": "stream",
     "text": [

      "The average number of games per set in men's matches is 9.28.\n",
      "The average number of games per set in women's matches is 9.00.\n"

     ]
    }
   ],
   "source": [


    "gender_games_per_set = total_games_per_set.groupby('gender').mean()\n",
    "\n",
    "print(f\"The average number of games per set in men's matches is {gender_games_per_set['M']:.2f}.\")\n",
    "print(f\"The average number of games per set in women's matches is {gender_games_per_set['F']:.2f}.\")"
   ]
  },
  {
   "cell_type": "markdown",
   "metadata": {},
   "source": [
    "On average, in men's matches, each set has 18 games and in women's matches, each set has 17 games"
   ]
  },
  {
   "cell_type": "markdown",
   "metadata": {},
   "source": [
    "13. What is the distribution of left-handed versus right-handed players?"
   ]
  },
  {
   "cell_type": "markdown",
   "metadata": {},
   "source": [
    "We first clean the data of match away team and home away team then merge them. Then we use 'value_count' method to count the right-handed players and 'left-handed' players seperately.\n",
    "To have a schematic view of resulted distribution of right-handed players versus left-handed players we plot a histogram. As it can be seen the left-handed players are less than right-handed, considerably."
   ]
  },
  {
   "cell_type": "code",
   "execution_count": 29,
   "metadata": {},
   "outputs": [
    {
     "name": "stdout",
     "output_type": "stream",
     "text": [
      "The distribution of right-handed players versus left-handed: plays\n",
      "right-handed    8044\n",
      "left-handed     1150\n",
      "ambidextrous       6\n",
      "Name: count, dtype: int64\n",
      "The percentage of the distribution of right-handed players versus left-handed: plays\n",
      "right-handed    87.434783\n",
      "left-handed     12.500000\n",
      "ambidextrous     0.065217\n",
      "Name: count, dtype: float64\n"
     ]
    },
    {
     "data": {
      "image/png": "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",
      "text/plain": [
       "<Figure size 800x600 with 1 Axes>"
      ]
     },
     "metadata": {},
     "output_type": "display_data"
    }
   ],
   "source": [
    "match_away_cleand_df = match_away_team_df.loc[match_away_team_df['plays'].notnull()]\n",
    "\n",
    "match_home_cleand_df = match_home_team_df.loc[match_home_team_df['plays'].notnull()]\n",
    "\n",
    "\n",
    "match_home_away_cleaned_df = pd.concat([match_away_cleand_df, match_home_cleand_df])\n",
    "distribution = match_home_away_cleaned_df['plays'].value_counts()\n",
    "\n",
    "print(\"The distribution of right-handed players versus left-handed:\",distribution)\n",
    "\n",
    "percentage_distribution = (distribution / len(match_home_away_cleaned_df)) * 100\n",
    "print(\"The percentage of the distribution of right-handed players versus left-handed:\",percentage_distribution)\n",
    "\n",
    "# Draw a histogram to view the distribution\n",
    "righthand_data = match_home_away_cleaned_df.loc[match_home_away_cleaned_df['plays'] == 'right-handed']\n",
    "lefthand_data = match_home_away_cleaned_df.loc[match_home_away_cleaned_df['plays'] == 'left-handed']\n",
    "fig, ax = plt.subplots(figsize=(8, 6))\n",
    "\n",
    "ax.hist(righthand_data['plays'], bins=1, label='Righthand')\n",
    "ax.hist(lefthand_data['plays'], bins=1, label='Lefthand')\n",
    "ax.set_xlabel('Hand')\n",
    "ax.set_ylabel('Count')\n",
    "ax.set_title('Distribution of Righthand and Lefthand')\n",
    "\n",
    "ax.legend()\n",
    "plt.show()"
   ]
  },
  {
   "cell_type": "markdown",
   "metadata": {},
   "source": [
    "14. What is the most common type of surface used in tournaments?"
   ]
  },
  {
   "cell_type": "code",
   "execution_count": 30,
   "metadata": {},
   "outputs": [
    {
     "name": "stdout",
     "output_type": "stream",
     "text": [
      "ground_type\n",
      "Red clay             14238\n",
      "Hardcourt outdoor     4606\n",
      "Hardcourt indoor       241\n",
      "Synthetic outdoor       93\n",
      "Name: count, dtype: int64\n"
     ]
    },
    {
     "data": {
      "image/png": "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",
      "text/plain": [
       "<Figure size 640x480 with 1 Axes>"
      ]
     },
     "metadata": {},
     "output_type": "display_data"
    }
   ],
   "source": [
    "\n",
    "tournament_df.drop_duplicates(inplace=True)\n",
    "print(tournament_df['ground_type'].value_counts())\n",
    "\n",
    "# drow plot\n",
    "tournament_df['ground_type'].value_counts().plot(kind='bar')\n",
    "plt.title('Tournament Surface Types')\n",
    "plt.xlabel('Surface Type')\n",
    "plt.ylabel('Count')\n",
    "plt.show()"
   ]
  },
  {
   "cell_type": "markdown",
   "metadata": {},
   "source": [
    "The most common type of surface used in the tournaments is 'Red clay' that used in '14238' tournaments"
   ]
  },
  {
   "cell_type": "markdown",
   "metadata": {},
   "source": [
    "15. How many distinct countries are represented in the dataset?"
   ]
  },
  {
   "cell_type": "code",
   "execution_count": 31,
   "metadata": {},
   "outputs": [
    {
     "name": "stdout",
     "output_type": "stream",
     "text": [
      "The dataset contains 78 distinct countries.\n"
     ]
    }
   ],
   "source": [
    "num_distinct_countries = match_home_away_cleaned_df['country'].nunique()\n",
    "\n",
    "print(f\"The dataset contains {num_distinct_countries} distinct countries.\")"
   ]
  },
  {
   "cell_type": "markdown",
   "metadata": {},
   "source": [
    "16. Which player has the highest winning percentage against top 10 ranked opponents?"
   ]
  },
  {
   "cell_type": "code",
   "execution_count": 69,
   "metadata": {},
   "outputs": [],
   "source": [
    "country_current_rank=pd.concat([match_away_team_df[['name','current_rank']],match_home_team_df[['name','current_rank']]]).sort_values('current_rank').drop_duplicates().dropna().iloc[0:12,:]\n",
    "top_10_players=country_current_rank['name'].unique()"
   ]
  },
  {
   "cell_type": "code",
   "execution_count": 70,
   "metadata": {},
   "outputs": [
    {
     "name": "stderr",
     "output_type": "stream",
     "text": [
      "C:\\Users\\mahdi\\AppData\\Local\\Temp\\ipykernel_3344\\3158264106.py:2: SettingWithCopyWarning: \n",
      "A value is trying to be set on a copy of a slice from a DataFrame\n",
      "\n",
      "See the caveats in the documentation: https://pandas.pydata.org/pandas-docs/stable/user_guide/indexing.html#returning-a-view-versus-a-copy\n",
      "  point_count.replace('A', pd.NA, inplace=True)\n",
      "C:\\Users\\mahdi\\AppData\\Local\\Temp\\ipykernel_3344\\3158264106.py:3: FutureWarning: A value is trying to be set on a copy of a DataFrame or Series through chained assignment using an inplace method.\n",
      "The behavior will change in pandas 3.0. This inplace method will never work because the intermediate object on which we are setting values always behaves as a copy.\n",
      "\n",
      "For example, when doing 'df[col].method(value, inplace=True)', try using 'df.method({col: value}, inplace=True)' or df[col] = df[col].method(value) instead, to perform the operation inplace on the original object.\n",
      "\n",
      "\n",
      "  point_count['home_point'].fillna(0,inplace=True)\n",
      "C:\\Users\\mahdi\\AppData\\Local\\Temp\\ipykernel_3344\\3158264106.py:3: SettingWithCopyWarning: \n",
      "A value is trying to be set on a copy of a slice from a DataFrame\n",
      "\n",
      "See the caveats in the documentation: https://pandas.pydata.org/pandas-docs/stable/user_guide/indexing.html#returning-a-view-versus-a-copy\n",
      "  point_count['home_point'].fillna(0,inplace=True)\n",
      "C:\\Users\\mahdi\\AppData\\Local\\Temp\\ipykernel_3344\\3158264106.py:4: FutureWarning: A value is trying to be set on a copy of a DataFrame or Series through chained assignment using an inplace method.\n",
      "The behavior will change in pandas 3.0. This inplace method will never work because the intermediate object on which we are setting values always behaves as a copy.\n",
      "\n",
      "For example, when doing 'df[col].method(value, inplace=True)', try using 'df.method({col: value}, inplace=True)' or df[col] = df[col].method(value) instead, to perform the operation inplace on the original object.\n",
      "\n",
      "\n",
      "  point_count['away_point'].fillna(0,inplace=True)\n",
      "C:\\Users\\mahdi\\AppData\\Local\\Temp\\ipykernel_3344\\3158264106.py:4: SettingWithCopyWarning: \n",
      "A value is trying to be set on a copy of a slice from a DataFrame\n",
      "\n",
      "See the caveats in the documentation: https://pandas.pydata.org/pandas-docs/stable/user_guide/indexing.html#returning-a-view-versus-a-copy\n",
      "  point_count['away_point'].fillna(0,inplace=True)\n",
      "C:\\Users\\mahdi\\AppData\\Local\\Temp\\ipykernel_3344\\3158264106.py:5: SettingWithCopyWarning: \n",
      "A value is trying to be set on a copy of a slice from a DataFrame.\n",
      "Try using .loc[row_indexer,col_indexer] = value instead\n",
      "\n",
      "See the caveats in the documentation: https://pandas.pydata.org/pandas-docs/stable/user_guide/indexing.html#returning-a-view-versus-a-copy\n",
      "  point_count['home_point'] = point_count['home_point'].astype(int)\n",
      "C:\\Users\\mahdi\\AppData\\Local\\Temp\\ipykernel_3344\\3158264106.py:6: SettingWithCopyWarning: \n",
      "A value is trying to be set on a copy of a slice from a DataFrame.\n",
      "Try using .loc[row_indexer,col_indexer] = value instead\n",
      "\n",
      "See the caveats in the documentation: https://pandas.pydata.org/pandas-docs/stable/user_guide/indexing.html#returning-a-view-versus-a-copy\n",
      "  point_count['away_point'] = point_count['away_point'].astype(int)\n"
     ]
    }
   ],
   "source": [
    "\n",
    "point_count=game_df.iloc[:,[0,4,5]]\n",
    "point_count.replace('A', pd.NA, inplace=True)\n",
    "point_count['home_point'].fillna(0,inplace=True)\n",
    "point_count['away_point'].fillna(0,inplace=True)\n",
    "point_count['home_point'] = point_count['home_point'].astype(int)\n",
    "point_count['away_point'] = point_count['away_point'].astype(int)\n",
    "\n",
    "match_point_winner=point_count.groupby('match_id')[['home_point', 'away_point']].sum()\n",
    "match_point_winner['winner_code'] = 0\n",
    "match_point_winner.loc[match_point_winner['home_point'] > match_point_winner['away_point'], 'winner_code'] = 1\n",
    "match_point_winner.loc[match_point_winner['home_point'] < match_point_winner['away_point'], 'winner_code'] = 2\n",
    "match_winner=match_point_winner.iloc[:,[2]]"
   ]
  },
  {
   "cell_type": "code",
   "execution_count": 72,
   "metadata": {},
   "outputs": [
    {
     "data": {
      "text/html": [
       "<div>\n",
       "<style scoped>\n",
       "    .dataframe tbody tr th:only-of-type {\n",
       "        vertical-align: middle;\n",
       "    }\n",
       "\n",
       "    .dataframe tbody tr th {\n",
       "        vertical-align: top;\n",
       "    }\n",
       "\n",
       "    .dataframe thead th {\n",
       "        text-align: right;\n",
       "    }\n",
       "</style>\n",
       "<table border=\"1\" class=\"dataframe\">\n",
       "  <thead>\n",
       "    <tr style=\"text-align: right;\">\n",
       "      <th></th>\n",
       "      <th>match_id</th>\n",
       "      <th>winner_name</th>\n",
       "      <th>loser_name</th>\n",
       "    </tr>\n",
       "  </thead>\n",
       "  <tbody>\n",
       "    <tr>\n",
       "      <th>0</th>\n",
       "      <td>12260075</td>\n",
       "      <td>Lehečka J.</td>\n",
       "      <td>Nadal R.</td>\n",
       "    </tr>\n",
       "    <tr>\n",
       "      <th>1</th>\n",
       "      <td>12260076</td>\n",
       "      <td>Sinner J.</td>\n",
       "      <td>Khachanov K.</td>\n",
       "    </tr>\n",
       "    <tr>\n",
       "      <th>2</th>\n",
       "      <td>12260077</td>\n",
       "      <td>Alcaraz C.</td>\n",
       "      <td>Struff J.</td>\n",
       "    </tr>\n",
       "    <tr>\n",
       "      <th>3</th>\n",
       "      <td>12260078</td>\n",
       "      <td>Rublev A.</td>\n",
       "      <td>Alcaraz C.</td>\n",
       "    </tr>\n",
       "    <tr>\n",
       "      <th>4</th>\n",
       "      <td>12260078</td>\n",
       "      <td>Rublev A.</td>\n",
       "      <td>Alcaraz C.</td>\n",
       "    </tr>\n",
       "    <tr>\n",
       "      <th>...</th>\n",
       "      <td>...</td>\n",
       "      <td>...</td>\n",
       "      <td>...</td>\n",
       "    </tr>\n",
       "    <tr>\n",
       "      <th>24555</th>\n",
       "      <td>12384789</td>\n",
       "      <td>Léonard M.</td>\n",
       "      <td>Kostic T.</td>\n",
       "    </tr>\n",
       "    <tr>\n",
       "      <th>24556</th>\n",
       "      <td>12384806</td>\n",
       "      <td>Kasnikowski M.</td>\n",
       "      <td>Dutra da Silva D.</td>\n",
       "    </tr>\n",
       "    <tr>\n",
       "      <th>24557</th>\n",
       "      <td>12384892</td>\n",
       "      <td>Gomez F.</td>\n",
       "      <td>Chazal M.</td>\n",
       "    </tr>\n",
       "    <tr>\n",
       "      <th>24558</th>\n",
       "      <td>12384975</td>\n",
       "      <td>Șerban R.</td>\n",
       "      <td>Bandecchi S.</td>\n",
       "    </tr>\n",
       "    <tr>\n",
       "      <th>24559</th>\n",
       "      <td>12385017</td>\n",
       "      <td>Pedretti T.</td>\n",
       "      <td>Ortenzi J.</td>\n",
       "    </tr>\n",
       "  </tbody>\n",
       "</table>\n",
       "<p>24560 rows × 3 columns</p>\n",
       "</div>"
      ],
      "text/plain": [
       "       match_id     winner_name         loser_name\n",
       "0      12260075      Lehečka J.           Nadal R.\n",
       "1      12260076       Sinner J.       Khachanov K.\n",
       "2      12260077      Alcaraz C.          Struff J.\n",
       "3      12260078       Rublev A.         Alcaraz C.\n",
       "4      12260078       Rublev A.         Alcaraz C.\n",
       "...         ...             ...                ...\n",
       "24555  12384789      Léonard M.          Kostic T.\n",
       "24556  12384806  Kasnikowski M.  Dutra da Silva D.\n",
       "24557  12384892        Gomez F.          Chazal M.\n",
       "24558  12384975       Șerban R.       Bandecchi S.\n",
       "24559  12385017     Pedretti T.         Ortenzi J.\n",
       "\n",
       "[24560 rows x 3 columns]"
      ]
     },
     "execution_count": 72,
     "metadata": {},
     "output_type": "execute_result"
    }
   ],
   "source": [
    "home_away_merged = pd.merge(match_home_team_df, match_away_team_df, on='match_id', how='inner', suffixes=('_player1', '_player2'))\n",
    "match_players=home_away_merged[['match_id','name_player1', 'name_player2']]\n",
    "match_player_winner = pd.merge(match_players,match_winner, on='match_id', how='inner')\n",
    "match_player_winner\n",
    "\n",
    "match_player_winner['winner_name'] =match_player_winner.apply(lambda row: row['name_player1'] if row['winner_code'] == 1.0 else row['name_player2'], axis=1)\n",
    "match_player_winner['loser_name'] = match_player_winner.apply(lambda row: row['name_player1'] if row['winner_code'] == 2.0 else row['name_player2'], axis=1)\n",
    "\n",
    "player_winner_loser=match_player_winner.iloc[:,[0,4,5]]\n",
    "player_winner_loser"
   ]
  },
  {
   "cell_type": "code",
   "execution_count": 73,
   "metadata": {},
   "outputs": [
    {
     "name": "stdout",
     "output_type": "stream",
     "text": [
      "The player with the highest winning percentage against top 10 ranked opponents is Volynets K.  ,with 14.035087719298245 percent win\n"
     ]
    },
    {
     "data": {
      "text/plain": [
       "winner_name\n",
       "Volynets K.      16\n",
       "Świątek I.       12\n",
       "Badosa P.         9\n",
       "Vukić A.          9\n",
       "Draper J.         9\n",
       "Tabilo A.         9\n",
       "Rublev A.         4\n",
       "Zidanšek T.       4\n",
       "Kalinina A.       4\n",
       "Griekspoor T.     4\n",
       "Fręch M.          4\n",
       "Međedović H.      4\n",
       "Cîrstea S.        4\n",
       "Yastremska D.     4\n",
       "Moutet C.         4\n",
       "Sabalenka A.      4\n",
       "Lehečka J.        4\n",
       "Rus A.            4\n",
       "Cerundolo F.      1\n",
       "Putintseva Y.     1\n",
       "Name: count, dtype: int64"
      ]
     },
     "execution_count": 73,
     "metadata": {},
     "output_type": "execute_result"
    }
   ],
   "source": [
    "# Find the player with the highest winning percentage\n",
    "top_10_matches =player_winner_loser[(player_winner_loser['loser_name'].isin(top_10_players))]\n",
    "top_10_matches_winner=top_10_matches.iloc[:,[0,1]]\n",
    "\n",
    "winner_counts = top_10_matches_winner['winner_name'].value_counts()\n",
    "winner_percentages = (winner_counts / len(top_10_matches_winner)) * 100\n",
    "\n",
    "player_with_highest_win = winner_percentages.idxmax()\n",
    "highest_win_pct = winner_percentages.max()\n",
    "\n",
    "print(f\"The player with the highest winning percentage against top 10 ranked opponents is {player_with_highest_win}  ,with {highest_win_pct} percent win\")\n",
    "winner_counts\n"
   ]
  },
  {
   "cell_type": "markdown",
   "metadata": {},
   "source": [
    "17. What is the average number of breaks of serve per match? \n",
    "We use the dfPower dataframe(for PowerInfo table) previously read in question number 5."
   ]
  },
  {
   "cell_type": "code",
   "execution_count": 75,
   "metadata": {},
   "outputs": [
    {
     "name": "stdout",
     "output_type": "stream",
     "text": [
      "the average is:  20.28867527786122\n"
     ]
    }
   ],
   "source": [
    "total_breaks = power_df['break_occurred'].sum()\n",
    "\n",
    "num_matches = power_df['match_id'].nunique()\n",
    "\n",
    "average_breaks_per_match = total_breaks / num_matches\n",
    "print(f\"the average is: \",average_breaks_per_match )"
   ]
  },
  {
   "cell_type": "markdown",
   "metadata": {},
   "source": [
    "EXTRA QUESTION 1- Is there a correlation between a player's experience and their ranking?"
   ]
  },
  {
   "cell_type": "code",
   "execution_count": 76,
   "metadata": {},
   "outputs": [
    {
     "data": {
      "text/html": [
       "<div>\n",
       "<style scoped>\n",
       "    .dataframe tbody tr th:only-of-type {\n",
       "        vertical-align: middle;\n",
       "    }\n",
       "\n",
       "    .dataframe tbody tr th {\n",
       "        vertical-align: top;\n",
       "    }\n",
       "\n",
       "    .dataframe thead th {\n",
       "        text-align: right;\n",
       "    }\n",
       "</style>\n",
       "<table border=\"1\" class=\"dataframe\">\n",
       "  <thead>\n",
       "    <tr style=\"text-align: right;\">\n",
       "      <th></th>\n",
       "      <th>full_name</th>\n",
       "      <th>current_rank</th>\n",
       "      <th>experience</th>\n",
       "    </tr>\n",
       "  </thead>\n",
       "  <tbody>\n",
       "    <tr>\n",
       "      <th>498</th>\n",
       "      <td>Swiatek, Iga</td>\n",
       "      <td>1.0</td>\n",
       "      <td>8.0</td>\n",
       "    </tr>\n",
       "    <tr>\n",
       "      <th>4570</th>\n",
       "      <td>Djokovic, Novak</td>\n",
       "      <td>1.0</td>\n",
       "      <td>21.0</td>\n",
       "    </tr>\n",
       "    <tr>\n",
       "      <th>8</th>\n",
       "      <td>Sabalenka, Aryna</td>\n",
       "      <td>2.0</td>\n",
       "      <td>9.0</td>\n",
       "    </tr>\n",
       "    <tr>\n",
       "      <th>1</th>\n",
       "      <td>Sinner, Jannik</td>\n",
       "      <td>2.0</td>\n",
       "      <td>6.0</td>\n",
       "    </tr>\n",
       "    <tr>\n",
       "      <th>2</th>\n",
       "      <td>Alcaraz, Carlos</td>\n",
       "      <td>3.0</td>\n",
       "      <td>6.0</td>\n",
       "    </tr>\n",
       "    <tr>\n",
       "      <th>...</th>\n",
       "      <td>...</td>\n",
       "      <td>...</td>\n",
       "      <td>...</td>\n",
       "    </tr>\n",
       "    <tr>\n",
       "      <th>5879</th>\n",
       "      <td>Gabashvili, Teimuraz</td>\n",
       "      <td>1272.0</td>\n",
       "      <td>23.0</td>\n",
       "    </tr>\n",
       "    <tr>\n",
       "      <th>4822</th>\n",
       "      <td>Uzhylovsky, Vladimir</td>\n",
       "      <td>1341.0</td>\n",
       "      <td>19.0</td>\n",
       "    </tr>\n",
       "    <tr>\n",
       "      <th>42</th>\n",
       "      <td>Clezar, Guilherme</td>\n",
       "      <td>1365.0</td>\n",
       "      <td>15.0</td>\n",
       "    </tr>\n",
       "    <tr>\n",
       "      <th>3447</th>\n",
       "      <td>Gabashvili, Teimuraz</td>\n",
       "      <td>1452.0</td>\n",
       "      <td>23.0</td>\n",
       "    </tr>\n",
       "    <tr>\n",
       "      <th>3061</th>\n",
       "      <td>Hellum Lilleengen, Lukas</td>\n",
       "      <td>1478.0</td>\n",
       "      <td>5.0</td>\n",
       "    </tr>\n",
       "  </tbody>\n",
       "</table>\n",
       "<p>861 rows × 3 columns</p>\n",
       "</div>"
      ],
      "text/plain": [
       "                     full_name  current_rank  experience\n",
       "498               Swiatek, Iga           1.0         8.0\n",
       "4570           Djokovic, Novak           1.0        21.0\n",
       "8             Sabalenka, Aryna           2.0         9.0\n",
       "1               Sinner, Jannik           2.0         6.0\n",
       "2              Alcaraz, Carlos           3.0         6.0\n",
       "...                        ...           ...         ...\n",
       "5879      Gabashvili, Teimuraz        1272.0        23.0\n",
       "4822      Uzhylovsky, Vladimir        1341.0        19.0\n",
       "42           Clezar, Guilherme        1365.0        15.0\n",
       "3447      Gabashvili, Teimuraz        1452.0        23.0\n",
       "3061  Hellum Lilleengen, Lukas        1478.0         5.0\n",
       "\n",
       "[861 rows x 3 columns]"
      ]
     },
     "execution_count": 76,
     "metadata": {},
     "output_type": "execute_result"
    }
   ],
   "source": [
    "match_home_team_turned_rank_df=match_home_team_df.iloc[:,[17,10,14]]\n",
    "match_away_team_turned_rank_df=match_away_team_df.iloc[:,[17,10,14]]\n",
    "turned_rank_player=pd.concat([match_home_team_turned_rank_df,match_away_team_turned_rank_df])\n",
    "turned_rank_player.drop_duplicates()\n",
    "turned_rank_player.dropna(inplace=True)\n",
    "turned_rank_player['experience'] = 2024-turned_rank_player['turned_pro']\n",
    "turned_rank_player.drop(columns='turned_pro', inplace=True)\n",
    "turned_rank_player.drop_duplicates(inplace=True)\n",
    "turned_rank_player.sort_values('current_rank')"
   ]
  },
  {
   "cell_type": "code",
   "execution_count": 77,
   "metadata": {},
   "outputs": [
    {
     "name": "stdout",
     "output_type": "stream",
     "text": [
      "There is a weak correlation between players experience and there rank\n"
     ]
    }
   ],
   "source": [
    "experience_rank_correlation=turned_rank_player['experience'].corr(turned_rank_player['current_rank'])\n",
    "if experience_rank_correlation <0.3:\n",
    "    print('There is a weak correlation between players experience and there rank')\n",
    "elif 0.3<experience_rank_correlation<0.5:\n",
    "    print('There is a moderate correlation between players experience and there rank')\n",
    "else:\n",
    "    print('There is a strong correlation between players experience and there rank')"
   ]
  },
  {
   "cell_type": "markdown",
   "metadata": {},
   "source": [
    "EXTRA QUESTION 2- Is there a correlation between being right or left_hand and number of ranking?"
   ]
  },
  {
   "cell_type": "code",
   "execution_count": 78,
   "metadata": {},
   "outputs": [
    {
     "name": "stdout",
     "output_type": "stream",
     "text": [
      "Right-handed players have an average ranking of 355.67.\n",
      "Left-handed players have an average ranking of 385.34.\n"
     ]
    }
   ],
   "source": [
    "handedness_ranking = players_concat_df .groupby('plays')['current_rank'].mean()\n",
    "\n",
    "print(f\"Right-handed players have an average ranking of {handedness_ranking['right-handed']:.2f}.\")\n",
    "print(f\"Left-handed players have an average ranking of {handedness_ranking['left-handed']:.2f}.\")"
   ]
  },
  {
   "cell_type": "markdown",
   "metadata": {},
   "source": [
    "The results shows that being a right-handed player leads to have a better rank."
   ]
  },
  {
   "cell_type": "markdown",
   "metadata": {},
   "source": [
    "EXTRA QUESTION 3- Which 3_players who received the most prize money in tennis tournaments? \n"
   ]
  },
  {
   "cell_type": "code",
   "execution_count": 80,
   "metadata": {},
   "outputs": [
    {
     "data": {
      "text/html": [
       "<div>\n",
       "<style scoped>\n",
       "    .dataframe tbody tr th:only-of-type {\n",
       "        vertical-align: middle;\n",
       "    }\n",
       "\n",
       "    .dataframe tbody tr th {\n",
       "        vertical-align: top;\n",
       "    }\n",
       "\n",
       "    .dataframe thead th {\n",
       "        text-align: right;\n",
       "    }\n",
       "</style>\n",
       "<table border=\"1\" class=\"dataframe\">\n",
       "  <thead>\n",
       "    <tr style=\"text-align: right;\">\n",
       "      <th></th>\n",
       "      <th>total_prize</th>\n",
       "    </tr>\n",
       "    <tr>\n",
       "      <th>full_name</th>\n",
       "      <th></th>\n",
       "    </tr>\n",
       "  </thead>\n",
       "  <tbody>\n",
       "    <tr>\n",
       "      <th>Djokovic, Novak</th>\n",
       "      <td>455008686.0</td>\n",
       "    </tr>\n",
       "    <tr>\n",
       "      <th>Nadal, Rafael</th>\n",
       "      <td>224653134.0</td>\n",
       "    </tr>\n",
       "    <tr>\n",
       "      <th>Murray, Andy</th>\n",
       "      <td>107560350.0</td>\n",
       "    </tr>\n",
       "  </tbody>\n",
       "</table>\n",
       "</div>"
      ],
      "text/plain": [
       "                 total_prize\n",
       "full_name                   \n",
       "Djokovic, Novak  455008686.0\n",
       "Nadal, Rafael    224653134.0\n",
       "Murray, Andy     107560350.0"
      ]
     },
     "execution_count": 80,
     "metadata": {},
     "output_type": "execute_result"
    }
   ],
   "source": [
    "country_total_prize=pd.concat([match_away_team_df[['full_name','total_prize']],match_home_team_df[['full_name','total_prize']]]).drop_duplicates()\n",
    "country_total_prize.groupby('full_name').sum().sort_values('total_prize',ascending=False).iloc[0:3,:]"
   ]
  },
  {
   "cell_type": "markdown",
   "metadata": {},
   "source": [
    "EXTRA QUESTION 4- How does the average number of winners per match differ between hard and clay court surfaces?"
   ]
  },
  {
   "cell_type": "code",
   "execution_count": 81,
   "metadata": {},
   "outputs": [
    {
     "data": {
      "image/png": "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",
      "text/plain": [
       "<Figure size 640x480 with 1 Axes>"
      ]
     },
     "metadata": {},
     "output_type": "display_data"
    }
   ],
   "source": [
    "# Join the df_event and df_period DataFrames on 'match_id'\n",
    "df_combined = pd.merge(event_df, tournament_df, on='match_id')\n",
    "\n",
    "# Calculate the average winners per match for each surface\n",
    "surface_winners = df_combined.groupby('ground_type')['winner_code'].mean()\n",
    "\n",
    "# Plot the average winners per match for each surface\n",
    "surface_winners.plot(kind='bar')\n",
    "plt.xlabel('Surface')\n",
    "plt.ylabel('Average Winners per Match')\n",
    "plt.title('Winners per Match by Surface')\n",
    "plt.show()\n"
   ]
  },
  {
   "cell_type": "markdown",
   "metadata": {},
   "source": [
    "EXTRA QUESTION 5- What is the number of winning matches for each player?"
   ]
  },
  {
   "cell_type": "code",
   "execution_count": 82,
   "metadata": {},
   "outputs": [
    {
     "data": {
      "text/plain": [
       "winner_name\n",
       "Paquet C.              94\n",
       "Juszczak P.            93\n",
       "Vondroušová M.         83\n",
       "Auger-Aliassime F.     81\n",
       "Tiafoe F.              80\n",
       "                       ..\n",
       "Goncalves Ceolin J.     1\n",
       "López Martínez C.       1\n",
       "Liu C.                  1\n",
       "Ibbou I.                1\n",
       "Pedretti T.             1\n",
       "Name: count, Length: 2032, dtype: int64"
      ]
     },
     "execution_count": 82,
     "metadata": {},
     "output_type": "execute_result"
    }
   ],
   "source": [
    "winner_counts = playerWinner['winner_name'].value_counts()\n",
    "winner_counts"
   ]
  },
  {
   "cell_type": "markdown",
   "metadata": {},
   "source": [
    "For example Melzer G. won 118 times in matches."
   ]
  },
  {
   "cell_type": "markdown",
   "metadata": {},
   "source": [
    "EXTRA QUESTION 6- "
   ]
  },
  {
   "cell_type": "code",
   "execution_count": 84,
   "metadata": {},
   "outputs": [
    {
     "name": "stdout",
     "output_type": "stream",
     "text": [
      "The country with the most number of players is Italy with 1618 players.\n"
     ]
    }
   ],
   "source": [
    "player_counts = players_concat_df .groupby('country')['player_id'].count()\n",
    "\n",
    "top_country = player_counts.idxmax()\n",
    "num_players = player_counts.max()\n",
    "\n",
    "print(f\"The country with the most number of players is {top_country} with {num_players} players.\")\n"
   ]
  }
 ],
 "metadata": {
  "kernelspec": {
   "display_name": "Python 3.7.4 64-bit",
   "language": "python",
   "name": "python3"
  },
  "language_info": {
   "codemirror_mode": {
    "name": "ipython",
    "version": 3
   },
   "file_extension": ".py",
   "mimetype": "text/x-python",
   "name": "python",
   "nbconvert_exporter": "python",
   "pygments_lexer": "ipython3",
   "version": "3.12.2"
  },
  "vscode": {
   "interpreter": {
    "hash": "bde6fc399266906b8fa43676a495a4d5179afc8ff02e09ff2193156498759610"
   }
  }
 },
 "nbformat": 4,
 "nbformat_minor": 2
}
