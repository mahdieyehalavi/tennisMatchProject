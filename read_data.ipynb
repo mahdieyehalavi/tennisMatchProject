{
 "cells": [
  {
   "cell_type": "code",
   "execution_count": 12,
   "metadata": {},
   "outputs": [],
   "source": [
    "import numpy as np\n",
    "import pandas as pd\n",
    "import pyarrow.parquet as pr\n",
    "import os"
   ]
  },
  {
   "cell_type": "markdown",
   "metadata": {},
   "source": [
    "By using os.walk() method,we open all filles of 'data_tennis_matches',then we sperate .parquet files and read them by pd.read_parquet(),then convert dfs to .csv files."
   ]
  },
  {
   "cell_type": "code",
   "execution_count": 13,
   "metadata": {},
   "outputs": [],
   "source": [
    "dataframes_list=[]\n",
    "dic1={}\n",
    "\n",
    "\n",
    "# main data root\n",
    "address='E:/data_analysis/data_science/data_analysis_projects/data/interim/data_tennis_matches'\n",
    "\n",
    "# read all dir & files in main data address \n",
    "for dir_path, dir_names, file_names in os.walk(address):\n",
    "    for file in file_names:\n",
    "        file_path=os.path.join(dir_path,file)           # access to each file path\n",
    "        \n",
    "        if file.endswith('.parquet'):\n",
    "            df=pd.read_parquet(file_path)               # make df for each parquet file\n",
    "            dataframes_list.append(df)                  # append df to dataframes_list list\n",
    "            \n",
    "            while(True):\n",
    "                last_ch, file = file[-1], file[:-1]     # extract key of dictionary form file name\n",
    "                if last_ch=='_':\n",
    "                    break\n",
    "                \n",
    "            if file not in dic1.keys():\n",
    "                dic1[file]=[]\n",
    "\n",
    "                dic1[file]+=dataframes_list                  # add files to dictionary\n",
    "                dataframes_list=[]\n",
    "\n",
    "\n",
    "   \n"
   ]
  },
  {
   "cell_type": "code",
   "execution_count": null,
   "metadata": {},
   "outputs": [],
   "source": [
    "# concat each table dfs  and move to dic2\n",
    "dic2={}\n",
    "for name in dic1:    \n",
    "    dic2[name]=pd.concat(dic1[name][:], ignore_index=True) \n"
   ]
  },
  {
   "cell_type": "code",
   "execution_count": null,
   "metadata": {},
   "outputs": [],
   "source": [
    "# convert dfs to csv\n",
    "for table_name, df in dic2.items():\n",
    "    df.to_csv(table_name+'info'+'.csv', index=False)\n",
    "      "
   ]
  }
 ],
 "metadata": {
  "kernelspec": {
   "display_name": "myenv2",
   "language": "python",
   "name": "python3"
  },
  "language_info": {
   "codemirror_mode": {
    "name": "ipython",
    "version": 3
   },
   "file_extension": ".py",
   "mimetype": "text/x-python",
   "name": "python",
   "nbconvert_exporter": "python",
   "pygments_lexer": "ipython3",
   "version": "3.12.2"
  }
 },
 "nbformat": 4,
 "nbformat_minor": 2
}
